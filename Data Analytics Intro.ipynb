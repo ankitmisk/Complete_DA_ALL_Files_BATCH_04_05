{
 "cells": [
  {
   "cell_type": "code",
   "execution_count": 1,
   "id": "b8a1c20c",
   "metadata": {},
   "outputs": [],
   "source": [
    "# numpy\n",
    "# pandas\n",
    "# matplotlib\n",
    "# seaborn"
   ]
  },
  {
   "cell_type": "code",
   "execution_count": 2,
   "id": "6e99cb31",
   "metadata": {},
   "outputs": [],
   "source": [
    "# ------------------------------------------\n",
    "# Data Analyst\n",
    "# numpy:- numerical python\n",
    "# pandas:- \n",
    "# visuals:- matplotlib and seaborn,Plotly\n",
    "# EDA:- Exlporatory data analysis\n",
    "# Maths+ Stats\n",
    "# --------------------------------------------\n",
    "\n",
    "# BI Tools:- Power bi,tableau\n",
    "\n",
    "# ---------------------------------------------------------\n",
    "\n",
    "# django:- Framework:- website development\n",
    "# flask:- Same\n",
    "# Fast api\n",
    "\n",
    "\n",
    "# ML engineers:- Sklearn,scipy\n",
    "    \n",
    "# Ai Engineers:- Pytorch,keras,tensorflow"
   ]
  },
  {
   "cell_type": "code",
   "execution_count": 3,
   "id": "a55380a4",
   "metadata": {},
   "outputs": [],
   "source": [
    "# # Road map\n",
    "# Numpy:(4)\n",
    "# Pandas:(11-12)\n",
    "# matplot(3)\n",
    "# seaborn + Plotly(4)\n",
    "# # Maths+ Stats(3-4)\n",
    "# # Project(1-3)\n",
    "# # Some Interview Questions(1)\n",
    "\n",
    "\n",
    "# # power bi(20)"
   ]
  },
  {
   "cell_type": "code",
   "execution_count": 4,
   "id": "00d8e796",
   "metadata": {},
   "outputs": [],
   "source": [
    "import numpy as np"
   ]
  },
  {
   "cell_type": "code",
   "execution_count": 8,
   "id": "308df800",
   "metadata": {},
   "outputs": [
    {
     "name": "stdout",
     "output_type": "stream",
     "text": [
      "<class 'list'>\n",
      "[1, 2354, 4, 3212, 2567]\n"
     ]
    }
   ],
   "source": [
    "# n dimensional array\n",
    "\n",
    "a = [1,2354,4,3212,2567]\n",
    "\n",
    "print(type(a))\n",
    "print(a)"
   ]
  },
  {
   "cell_type": "code",
   "execution_count": 10,
   "id": "5b16a8cf",
   "metadata": {},
   "outputs": [
    {
     "name": "stdout",
     "output_type": "stream",
     "text": [
      "[   1 2354    4 3212 2567]\n"
     ]
    }
   ],
   "source": [
    "a = np.array([1,2354,4,3212,2567])\n",
    "\n",
    "print(a)"
   ]
  },
  {
   "cell_type": "code",
   "execution_count": 7,
   "id": "54ab61b5",
   "metadata": {},
   "outputs": [
    {
     "name": "stdout",
     "output_type": "stream",
     "text": [
      "<class 'numpy.ndarray'>\n"
     ]
    }
   ],
   "source": [
    "print(type(a))"
   ]
  },
  {
   "cell_type": "code",
   "execution_count": 11,
   "id": "5317839e",
   "metadata": {},
   "outputs": [
    {
     "data": {
      "text/plain": [
       "1"
      ]
     },
     "execution_count": 11,
     "metadata": {},
     "output_type": "execute_result"
    }
   ],
   "source": [
    "a.ndim"
   ]
  },
  {
   "cell_type": "code",
   "execution_count": 12,
   "id": "1df984ee",
   "metadata": {},
   "outputs": [
    {
     "name": "stdout",
     "output_type": "stream",
     "text": [
      "[[1, 2, 3]] <class 'list'>\n"
     ]
    }
   ],
   "source": [
    "# 2d array\n",
    "a = [[1,2,3]]\n",
    "\n",
    "print(a,type(a))"
   ]
  },
  {
   "cell_type": "code",
   "execution_count": 13,
   "id": "9adef552",
   "metadata": {},
   "outputs": [
    {
     "data": {
      "text/plain": [
       "array([[1, 2, 3]])"
      ]
     },
     "execution_count": 13,
     "metadata": {},
     "output_type": "execute_result"
    }
   ],
   "source": [
    "arr_a = np.array(a)\n",
    "arr_a"
   ]
  },
  {
   "cell_type": "code",
   "execution_count": 14,
   "id": "3ec11201",
   "metadata": {},
   "outputs": [
    {
     "data": {
      "text/plain": [
       "2"
      ]
     },
     "execution_count": 14,
     "metadata": {},
     "output_type": "execute_result"
    }
   ],
   "source": [
    "arr_a.ndim"
   ]
  },
  {
   "cell_type": "code",
   "execution_count": 15,
   "id": "9fc1e5ea",
   "metadata": {},
   "outputs": [],
   "source": [
    "# 3d array\n",
    "\n",
    "d3_array = [[[1,2,3,45]]]\n",
    "\n",
    "arr_3 = np.array(d3_array)"
   ]
  },
  {
   "cell_type": "code",
   "execution_count": 16,
   "id": "8d5dc581",
   "metadata": {},
   "outputs": [
    {
     "data": {
      "text/plain": [
       "array([[[ 1,  2,  3, 45]]])"
      ]
     },
     "execution_count": 16,
     "metadata": {},
     "output_type": "execute_result"
    }
   ],
   "source": [
    "arr_3"
   ]
  },
  {
   "cell_type": "code",
   "execution_count": 17,
   "id": "22ef2372",
   "metadata": {},
   "outputs": [
    {
     "data": {
      "text/plain": [
       "3"
      ]
     },
     "execution_count": 17,
     "metadata": {},
     "output_type": "execute_result"
    }
   ],
   "source": [
    "arr_3.ndim"
   ]
  },
  {
   "cell_type": "code",
   "execution_count": 19,
   "id": "52690be9",
   "metadata": {},
   "outputs": [],
   "source": [
    "# 2d\n",
    "\n",
    "a = [[1,2,3],[3,4,5]]\n",
    "\n",
    "d2_arr = np.array(a)"
   ]
  },
  {
   "cell_type": "code",
   "execution_count": 20,
   "id": "53b41de1",
   "metadata": {},
   "outputs": [
    {
     "data": {
      "text/plain": [
       "array([[1, 2, 3],\n",
       "       [3, 4, 5]])"
      ]
     },
     "execution_count": 20,
     "metadata": {},
     "output_type": "execute_result"
    }
   ],
   "source": [
    "d2_arr"
   ]
  },
  {
   "cell_type": "code",
   "execution_count": 21,
   "id": "33c9aa57",
   "metadata": {},
   "outputs": [
    {
     "data": {
      "text/plain": [
       "2"
      ]
     },
     "execution_count": 21,
     "metadata": {},
     "output_type": "execute_result"
    }
   ],
   "source": [
    "d2_arr.ndim"
   ]
  },
  {
   "cell_type": "code",
   "execution_count": 22,
   "id": "938949cf",
   "metadata": {},
   "outputs": [
    {
     "data": {
      "text/plain": [
       "(2, 3)"
      ]
     },
     "execution_count": 22,
     "metadata": {},
     "output_type": "execute_result"
    }
   ],
   "source": [
    "# shape\n",
    "\n",
    "d2_arr.shape"
   ]
  },
  {
   "cell_type": "code",
   "execution_count": 23,
   "id": "51479646",
   "metadata": {},
   "outputs": [
    {
     "data": {
      "text/plain": [
       "array([[1, 2, 3],\n",
       "       [3, 4, 5]])"
      ]
     },
     "execution_count": 23,
     "metadata": {},
     "output_type": "execute_result"
    }
   ],
   "source": [
    "d2_arr"
   ]
  },
  {
   "cell_type": "code",
   "execution_count": 24,
   "id": "7d361f6e",
   "metadata": {},
   "outputs": [
    {
     "data": {
      "text/plain": [
       "array([[1, 2, 3],\n",
       "       [4, 5, 6],\n",
       "       [6, 7, 8]])"
      ]
     },
     "execution_count": 24,
     "metadata": {},
     "output_type": "execute_result"
    }
   ],
   "source": [
    "three_by_three_array = np.array([[1,2,3],\n",
    "                                 [4,5,6],\n",
    "                                 [6,7,8]])\n",
    "\n",
    "three_by_three_array"
   ]
  },
  {
   "cell_type": "code",
   "execution_count": 25,
   "id": "e3d5ebcf",
   "metadata": {},
   "outputs": [
    {
     "name": "stdout",
     "output_type": "stream",
     "text": [
      "[[1 2 3]\n",
      " [4 5 6]\n",
      " [6 7 8]]\n"
     ]
    }
   ],
   "source": [
    "print(three_by_three_array)"
   ]
  },
  {
   "cell_type": "code",
   "execution_count": 26,
   "id": "b33a6ffb",
   "metadata": {},
   "outputs": [
    {
     "data": {
      "text/plain": [
       "(3, 3)"
      ]
     },
     "execution_count": 26,
     "metadata": {},
     "output_type": "execute_result"
    }
   ],
   "source": [
    "three_by_three_array.shape"
   ]
  },
  {
   "cell_type": "code",
   "execution_count": 27,
   "id": "e518defe",
   "metadata": {},
   "outputs": [],
   "source": [
    "five_array = np.array([[1,2],\n",
    "         [2,2],\n",
    "         [3,4],\n",
    "         [5,6],\n",
    "         [7,8]])\n",
    "\n"
   ]
  },
  {
   "cell_type": "code",
   "execution_count": 29,
   "id": "258412de",
   "metadata": {},
   "outputs": [
    {
     "data": {
      "text/plain": [
       "(5, 2)"
      ]
     },
     "execution_count": 29,
     "metadata": {},
     "output_type": "execute_result"
    }
   ],
   "source": [
    "five_array.shape"
   ]
  },
  {
   "cell_type": "code",
   "execution_count": 30,
   "id": "6ee4b2be",
   "metadata": {},
   "outputs": [
    {
     "data": {
      "text/plain": [
       "2"
      ]
     },
     "execution_count": 30,
     "metadata": {},
     "output_type": "execute_result"
    }
   ],
   "source": [
    "five_array.ndim"
   ]
  },
  {
   "cell_type": "code",
   "execution_count": 31,
   "id": "b727a668",
   "metadata": {},
   "outputs": [],
   "source": [
    "arr_33 = np.array([[[1,2,3],\n",
    "          [3,4,5],\n",
    "          [5,6,7]],\n",
    "         \n",
    "          [[1,2,3],\n",
    "          [3,4,5],\n",
    "          [5,6,7]],\n",
    "          \n",
    "          [[1,2,3],\n",
    "          [0,0,0],\n",
    "          [4,5,6]]])\n",
    "\n"
   ]
  },
  {
   "cell_type": "code",
   "execution_count": 32,
   "id": "307af219",
   "metadata": {},
   "outputs": [
    {
     "name": "stdout",
     "output_type": "stream",
     "text": [
      "[[[1 2 3]\n",
      "  [3 4 5]\n",
      "  [5 6 7]]\n",
      "\n",
      " [[1 2 3]\n",
      "  [3 4 5]\n",
      "  [5 6 7]]\n",
      "\n",
      " [[1 2 3]\n",
      "  [0 0 0]\n",
      "  [4 5 6]]]\n"
     ]
    }
   ],
   "source": [
    "print(arr_33)"
   ]
  },
  {
   "cell_type": "code",
   "execution_count": 33,
   "id": "9d0a8806",
   "metadata": {},
   "outputs": [
    {
     "data": {
      "text/plain": [
       "(3, 3, 3)"
      ]
     },
     "execution_count": 33,
     "metadata": {},
     "output_type": "execute_result"
    }
   ],
   "source": [
    "arr_33.shape"
   ]
  },
  {
   "cell_type": "code",
   "execution_count": 34,
   "id": "20ba8e41",
   "metadata": {},
   "outputs": [
    {
     "data": {
      "text/plain": [
       "3"
      ]
     },
     "execution_count": 34,
     "metadata": {},
     "output_type": "execute_result"
    }
   ],
   "source": [
    "arr_33.ndim"
   ]
  },
  {
   "cell_type": "code",
   "execution_count": 35,
   "id": "b9a2021e",
   "metadata": {},
   "outputs": [],
   "source": [
    "# (2,3,4,5)\n",
    "\n"
   ]
  },
  {
   "cell_type": "code",
   "execution_count": 36,
   "id": "be0e751c",
   "metadata": {},
   "outputs": [
    {
     "name": "stdout",
     "output_type": "stream",
     "text": [
      "[[[[1 2 3 4 5]\n",
      "   [1 1 1 1 1]\n",
      "   [2 2 2 2 2]\n",
      "   [4 5 6 7 8]]\n",
      "\n",
      "  [[1 2 3 4 5]\n",
      "   [1 1 1 1 1]\n",
      "   [2 2 2 2 2]\n",
      "   [4 5 6 7 8]]\n",
      "\n",
      "  [[1 2 3 4 5]\n",
      "   [1 1 1 1 1]\n",
      "   [2 2 2 2 2]\n",
      "   [4 5 6 7 8]]]\n",
      "\n",
      "\n",
      " [[[1 2 3 4 5]\n",
      "   [1 1 1 1 1]\n",
      "   [2 2 2 2 2]\n",
      "   [4 5 6 7 8]]\n",
      "\n",
      "  [[1 2 3 4 5]\n",
      "   [1 1 1 1 1]\n",
      "   [2 2 2 2 2]\n",
      "   [4 5 6 7 8]]\n",
      "\n",
      "  [[1 2 3 4 5]\n",
      "   [1 1 1 1 1]\n",
      "   [2 2 2 2 2]\n",
      "   [4 5 6 7 8]]]]\n"
     ]
    }
   ],
   "source": [
    "arr = np.array([[[[1,2,3,4,5],\n",
    "               [1,1,1,1,1],\n",
    "               [2,2,2,2,2],\n",
    "               [4,5,6,7,8]],\n",
    "              \n",
    "              [[1,2,3,4,5],\n",
    "               [1,1,1,1,1],\n",
    "               [2,2,2,2,2],\n",
    "               [4,5,6,7,8]],\n",
    "              \n",
    "              [[1,2,3,4,5],\n",
    "               [1,1,1,1,1],\n",
    "               [2,2,2,2,2],\n",
    "               [4,5,6,7,8]]],\n",
    "              \n",
    "              [[[1,2,3,4,5],\n",
    "               [1,1,1,1,1],\n",
    "               [2,2,2,2,2],\n",
    "               [4,5,6,7,8]],\n",
    "              \n",
    "              [[1,2,3,4,5],\n",
    "               [1,1,1,1,1],\n",
    "               [2,2,2,2,2],\n",
    "               [4,5,6,7,8]],\n",
    "              \n",
    "              [[1,2,3,4,5],\n",
    "               [1,1,1,1,1],\n",
    "               [2,2,2,2,2],\n",
    "               [4,5,6,7,8]]]])\n",
    "\n",
    "print(arr)"
   ]
  },
  {
   "cell_type": "code",
   "execution_count": 37,
   "id": "05752649",
   "metadata": {},
   "outputs": [
    {
     "data": {
      "text/plain": [
       "(2, 3, 4, 5)"
      ]
     },
     "execution_count": 37,
     "metadata": {},
     "output_type": "execute_result"
    }
   ],
   "source": [
    "arr.shape"
   ]
  },
  {
   "cell_type": "code",
   "execution_count": 38,
   "id": "dcff7e48",
   "metadata": {},
   "outputs": [
    {
     "data": {
      "text/plain": [
       "4"
      ]
     },
     "execution_count": 38,
     "metadata": {},
     "output_type": "execute_result"
    }
   ],
   "source": [
    "arr.ndim"
   ]
  },
  {
   "cell_type": "code",
   "execution_count": 39,
   "id": "469c2791",
   "metadata": {},
   "outputs": [
    {
     "data": {
      "text/plain": [
       "120"
      ]
     },
     "execution_count": 39,
     "metadata": {},
     "output_type": "execute_result"
    }
   ],
   "source": [
    "arr.size"
   ]
  },
  {
   "cell_type": "code",
   "execution_count": 40,
   "id": "1828cc4c",
   "metadata": {},
   "outputs": [
    {
     "data": {
      "text/plain": [
       "array([[[1, 2, 3],\n",
       "        [3, 4, 5],\n",
       "        [5, 6, 7]],\n",
       "\n",
       "       [[1, 2, 3],\n",
       "        [3, 4, 5],\n",
       "        [5, 6, 7]],\n",
       "\n",
       "       [[1, 2, 3],\n",
       "        [0, 0, 0],\n",
       "        [4, 5, 6]]])"
      ]
     },
     "execution_count": 40,
     "metadata": {},
     "output_type": "execute_result"
    }
   ],
   "source": [
    "arr_33"
   ]
  },
  {
   "cell_type": "code",
   "execution_count": 41,
   "id": "30778eac",
   "metadata": {},
   "outputs": [
    {
     "data": {
      "text/plain": [
       "27"
      ]
     },
     "execution_count": 41,
     "metadata": {},
     "output_type": "execute_result"
    }
   ],
   "source": [
    "arr_33.size"
   ]
  },
  {
   "cell_type": "code",
   "execution_count": 42,
   "id": "5de392ca",
   "metadata": {},
   "outputs": [],
   "source": [
    "# ndim\n",
    "# shape\n",
    "# size"
   ]
  },
  {
   "cell_type": "code",
   "execution_count": 43,
   "id": "f9792cef",
   "metadata": {},
   "outputs": [],
   "source": [
    "# array:- can contain one data type at a time\n",
    "# list:- can contain any data types objects\n",
    "\n",
    "\n",
    "# array to list\n",
    "# list to array"
   ]
  },
  {
   "cell_type": "code",
   "execution_count": 46,
   "id": "386c098f",
   "metadata": {},
   "outputs": [
    {
     "name": "stdout",
     "output_type": "stream",
     "text": [
      "[1 2 3] int32\n"
     ]
    }
   ],
   "source": [
    "a = np.array([1,2,3])\n",
    "\n",
    "print(a,a.dtype)"
   ]
  },
  {
   "cell_type": "code",
   "execution_count": 48,
   "id": "c6cbab4f",
   "metadata": {},
   "outputs": [
    {
     "name": "stdout",
     "output_type": "stream",
     "text": [
      "[ 1.   2.   3.  89.5] float64\n"
     ]
    }
   ],
   "source": [
    "a = np.array([1,2,3,89.5])\n",
    "\n",
    "print(a,a.dtype)"
   ]
  },
  {
   "cell_type": "code",
   "execution_count": 49,
   "id": "18a8639f",
   "metadata": {},
   "outputs": [
    {
     "name": "stdout",
     "output_type": "stream",
     "text": [
      "['1' '2' '3' '89.5' 'adil'] <U32\n"
     ]
    }
   ],
   "source": [
    "a = np.array([1,2,3,89.5,'adil'])\n",
    "\n",
    "print(a,a.dtype)"
   ]
  },
  {
   "cell_type": "code",
   "execution_count": 50,
   "id": "a081e2db",
   "metadata": {},
   "outputs": [
    {
     "name": "stdout",
     "output_type": "stream",
     "text": [
      "[1 2 3 89.5 {'Name': 'Ajay'}] object\n"
     ]
    }
   ],
   "source": [
    "a = np.array([1,2,3,89.5,{'Name':'Ajay'}])\n",
    "\n",
    "print(a,a.dtype)"
   ]
  },
  {
   "cell_type": "code",
   "execution_count": 51,
   "id": "d022d8f4",
   "metadata": {},
   "outputs": [],
   "source": [
    "# we can perform mathematical op with array but not with list"
   ]
  },
  {
   "cell_type": "code",
   "execution_count": 52,
   "id": "e9851d7d",
   "metadata": {},
   "outputs": [],
   "source": [
    "a = [2,4,5,7,9,10]\n",
    "\n",
    "# [4,8,10,14,18,20]"
   ]
  },
  {
   "cell_type": "code",
   "execution_count": 53,
   "id": "b76e62c4",
   "metadata": {},
   "outputs": [
    {
     "data": {
      "text/plain": [
       "[4, 8, 10, 14, 18, 20]"
      ]
     },
     "execution_count": 53,
     "metadata": {},
     "output_type": "execute_result"
    }
   ],
   "source": [
    "b = [i*2 for i in a]\n",
    "b"
   ]
  },
  {
   "cell_type": "code",
   "execution_count": 54,
   "id": "f94044e5",
   "metadata": {},
   "outputs": [
    {
     "data": {
      "text/plain": [
       "array([ 2,  4,  5,  7,  9, 10])"
      ]
     },
     "execution_count": 54,
     "metadata": {},
     "output_type": "execute_result"
    }
   ],
   "source": [
    "a = np.array([2,4,5,7,9,10])\n",
    "\n",
    "a"
   ]
  },
  {
   "cell_type": "code",
   "execution_count": 55,
   "id": "60d1751a",
   "metadata": {},
   "outputs": [
    {
     "data": {
      "text/plain": [
       "array([ 4,  8, 10, 14, 18, 20])"
      ]
     },
     "execution_count": 55,
     "metadata": {},
     "output_type": "execute_result"
    }
   ],
   "source": [
    "a*2"
   ]
  },
  {
   "cell_type": "code",
   "execution_count": 56,
   "id": "3b05452f",
   "metadata": {},
   "outputs": [
    {
     "data": {
      "text/plain": [
       "[2, 4, 5, 7, 9, 10, 2, 4, 5, 7, 9, 10]"
      ]
     },
     "execution_count": 56,
     "metadata": {},
     "output_type": "execute_result"
    }
   ],
   "source": [
    "[2,4,5,7,9,10]*2"
   ]
  },
  {
   "cell_type": "code",
   "execution_count": 61,
   "id": "fe939de2",
   "metadata": {},
   "outputs": [
    {
     "data": {
      "text/plain": [
       "array([[[[-99, -98, -97, -96, -95],\n",
       "         [-99, -99, -99, -99, -99],\n",
       "         [-98, -98, -98, -98, -98],\n",
       "         [-96, -95, -94, -93, -92]],\n",
       "\n",
       "        [[-99, -98, -97, -96, -95],\n",
       "         [-99, -99, -99, -99, -99],\n",
       "         [-98, -98, -98, -98, -98],\n",
       "         [-96, -95, -94, -93, -92]],\n",
       "\n",
       "        [[-99, -98, -97, -96, -95],\n",
       "         [-99, -99, -99, -99, -99],\n",
       "         [-98, -98, -98, -98, -98],\n",
       "         [-96, -95, -94, -93, -92]]],\n",
       "\n",
       "\n",
       "       [[[-99, -98, -97, -96, -95],\n",
       "         [-99, -99, -99, -99, -99],\n",
       "         [-98, -98, -98, -98, -98],\n",
       "         [-96, -95, -94, -93, -92]],\n",
       "\n",
       "        [[-99, -98, -97, -96, -95],\n",
       "         [-99, -99, -99, -99, -99],\n",
       "         [-98, -98, -98, -98, -98],\n",
       "         [-96, -95, -94, -93, -92]],\n",
       "\n",
       "        [[-99, -98, -97, -96, -95],\n",
       "         [-99, -99, -99, -99, -99],\n",
       "         [-98, -98, -98, -98, -98],\n",
       "         [-96, -95, -94, -93, -92]]]])"
      ]
     },
     "execution_count": 61,
     "metadata": {},
     "output_type": "execute_result"
    }
   ],
   "source": [
    "arr-100"
   ]
  },
  {
   "cell_type": "code",
   "execution_count": 63,
   "id": "28abaee7",
   "metadata": {},
   "outputs": [
    {
     "data": {
      "text/plain": [
       "array([[[[1, 0, 1, 0, 1],\n",
       "         [1, 1, 1, 1, 1],\n",
       "         [0, 0, 0, 0, 0],\n",
       "         [0, 1, 0, 1, 0]],\n",
       "\n",
       "        [[1, 0, 1, 0, 1],\n",
       "         [1, 1, 1, 1, 1],\n",
       "         [0, 0, 0, 0, 0],\n",
       "         [0, 1, 0, 1, 0]],\n",
       "\n",
       "        [[1, 0, 1, 0, 1],\n",
       "         [1, 1, 1, 1, 1],\n",
       "         [0, 0, 0, 0, 0],\n",
       "         [0, 1, 0, 1, 0]]],\n",
       "\n",
       "\n",
       "       [[[1, 0, 1, 0, 1],\n",
       "         [1, 1, 1, 1, 1],\n",
       "         [0, 0, 0, 0, 0],\n",
       "         [0, 1, 0, 1, 0]],\n",
       "\n",
       "        [[1, 0, 1, 0, 1],\n",
       "         [1, 1, 1, 1, 1],\n",
       "         [0, 0, 0, 0, 0],\n",
       "         [0, 1, 0, 1, 0]],\n",
       "\n",
       "        [[1, 0, 1, 0, 1],\n",
       "         [1, 1, 1, 1, 1],\n",
       "         [0, 0, 0, 0, 0],\n",
       "         [0, 1, 0, 1, 0]]]], dtype=int32)"
      ]
     },
     "execution_count": 63,
     "metadata": {},
     "output_type": "execute_result"
    }
   ],
   "source": [
    "arr%2"
   ]
  },
  {
   "cell_type": "code",
   "execution_count": null,
   "id": "8219de1d",
   "metadata": {},
   "outputs": [],
   "source": []
  }
 ],
 "metadata": {
  "kernelspec": {
   "display_name": "Python 3 (ipykernel)",
   "language": "python",
   "name": "python3"
  },
  "language_info": {
   "codemirror_mode": {
    "name": "ipython",
    "version": 3
   },
   "file_extension": ".py",
   "mimetype": "text/x-python",
   "name": "python",
   "nbconvert_exporter": "python",
   "pygments_lexer": "ipython3",
   "version": "3.11.3"
  }
 },
 "nbformat": 4,
 "nbformat_minor": 5
}
