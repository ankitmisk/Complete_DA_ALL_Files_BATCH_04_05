{
 "cells": [
  {
   "cell_type": "code",
   "execution_count": 1,
   "id": "f07aa761",
   "metadata": {},
   "outputs": [],
   "source": [
    "import numpy as np"
   ]
  },
  {
   "cell_type": "code",
   "execution_count": 9,
   "id": "1dde840e",
   "metadata": {},
   "outputs": [
    {
     "data": {
      "text/plain": [
       "array([[False,  True, False],\n",
       "       [False,  True,  True],\n",
       "       [ True,  True,  True]])"
      ]
     },
     "execution_count": 9,
     "metadata": {},
     "output_type": "execute_result"
    }
   ],
   "source": [
    "np.random.seed(10)\n",
    "data = np.random.randint(1,50,(3,3))\n",
    "data>20"
   ]
  },
  {
   "cell_type": "code",
   "execution_count": 12,
   "id": "8574ef8b",
   "metadata": {},
   "outputs": [
    {
     "data": {
      "text/plain": [
       "array([[10, 37, 16],\n",
       "       [ 1, 29, 26],\n",
       "       [30, 49, 30]])"
      ]
     },
     "execution_count": 12,
     "metadata": {},
     "output_type": "execute_result"
    }
   ],
   "source": [
    "# Masking\n",
    "data"
   ]
  },
  {
   "cell_type": "code",
   "execution_count": 18,
   "id": "7fb0cdff",
   "metadata": {
    "scrolled": true
   },
   "outputs": [
    {
     "data": {
      "text/plain": [
       "array([37, 29, 26, 30, 49, 30])"
      ]
     },
     "execution_count": 18,
     "metadata": {},
     "output_type": "execute_result"
    }
   ],
   "source": [
    "data[data>20]"
   ]
  },
  {
   "cell_type": "code",
   "execution_count": 23,
   "id": "98925728",
   "metadata": {},
   "outputs": [
    {
     "data": {
      "text/plain": [
       "array([[10, 37, 16],\n",
       "       [ 1, 29, 26],\n",
       "       [30, 49, 30]])"
      ]
     },
     "execution_count": 23,
     "metadata": {},
     "output_type": "execute_result"
    }
   ],
   "source": [
    "data"
   ]
  },
  {
   "cell_type": "code",
   "execution_count": 24,
   "id": "bee4bcf1",
   "metadata": {},
   "outputs": [
    {
     "data": {
      "text/plain": [
       "array([37,  1, 29, 49])"
      ]
     },
     "execution_count": 24,
     "metadata": {},
     "output_type": "execute_result"
    }
   ],
   "source": [
    "data[data%2!=0]"
   ]
  },
  {
   "cell_type": "code",
   "execution_count": 27,
   "id": "d7c119c5",
   "metadata": {},
   "outputs": [
    {
     "data": {
      "text/plain": [
       "array([10, 30, 30])"
      ]
     },
     "execution_count": 27,
     "metadata": {},
     "output_type": "execute_result"
    }
   ],
   "source": [
    "data[data%10==0]"
   ]
  },
  {
   "cell_type": "code",
   "execution_count": 28,
   "id": "0912518e",
   "metadata": {},
   "outputs": [
    {
     "data": {
      "text/plain": [
       "array([[10, 37, 16],\n",
       "       [ 1, 29, 26],\n",
       "       [30, 49, 30]])"
      ]
     },
     "execution_count": 28,
     "metadata": {},
     "output_type": "execute_result"
    }
   ],
   "source": [
    "data"
   ]
  },
  {
   "cell_type": "code",
   "execution_count": 31,
   "id": "a2055b2e",
   "metadata": {},
   "outputs": [],
   "source": [
    "five_array = np.random.randint(1,100,(5,5,5))"
   ]
  },
  {
   "cell_type": "code",
   "execution_count": 34,
   "id": "2ea1121c",
   "metadata": {},
   "outputs": [
    {
     "data": {
      "text/plain": [
       "array([88, 86, 83, 82, 86, 82, 97, 90, 97, 87, 93, 94, 88, 81, 92, 84, 89,\n",
       "       97, 91, 91, 98, 94, 85, 85])"
      ]
     },
     "execution_count": 34,
     "metadata": {},
     "output_type": "execute_result"
    }
   ],
   "source": [
    "five_array[five_array>80]"
   ]
  },
  {
   "cell_type": "code",
   "execution_count": 37,
   "id": "3c426a28",
   "metadata": {},
   "outputs": [],
   "source": [
    "a = np.random.randint(1,50,(3,3))"
   ]
  },
  {
   "cell_type": "code",
   "execution_count": 41,
   "id": "2224b8fa",
   "metadata": {},
   "outputs": [
    {
     "data": {
      "text/plain": [
       "array([18, 24])"
      ]
     },
     "execution_count": 41,
     "metadata": {},
     "output_type": "execute_result"
    }
   ],
   "source": [
    "a[(a%2==0) & (a%3==0)]"
   ]
  },
  {
   "cell_type": "code",
   "execution_count": 42,
   "id": "4adbcef4",
   "metadata": {},
   "outputs": [
    {
     "data": {
      "text/plain": [
       "array([[45, 19, 47],\n",
       "       [14,  3, 38],\n",
       "       [32, 18, 24]])"
      ]
     },
     "execution_count": 42,
     "metadata": {},
     "output_type": "execute_result"
    }
   ],
   "source": [
    "a"
   ]
  },
  {
   "cell_type": "code",
   "execution_count": 48,
   "id": "fd576793",
   "metadata": {},
   "outputs": [
    {
     "data": {
      "text/plain": [
       "array([38, 32])"
      ]
     },
     "execution_count": 48,
     "metadata": {},
     "output_type": "execute_result"
    }
   ],
   "source": [
    "a[(a>30)  & (a<40)  & (a%2==0)]"
   ]
  },
  {
   "cell_type": "code",
   "execution_count": 50,
   "id": "c9167495",
   "metadata": {},
   "outputs": [
    {
     "data": {
      "text/plain": [
       "array([[45, 19, 47],\n",
       "       [14,  3, 38],\n",
       "       [32, 18, 24]])"
      ]
     },
     "execution_count": 50,
     "metadata": {},
     "output_type": "execute_result"
    }
   ],
   "source": [
    "a"
   ]
  },
  {
   "cell_type": "code",
   "execution_count": 51,
   "id": "422230e7",
   "metadata": {},
   "outputs": [
    {
     "data": {
      "text/plain": [
       "array([45, 19, 47, 14, 38, 32, 18, 24])"
      ]
     },
     "execution_count": 51,
     "metadata": {},
     "output_type": "execute_result"
    }
   ],
   "source": [
    "a[np.where(a>10)]"
   ]
  },
  {
   "cell_type": "code",
   "execution_count": 52,
   "id": "171810e4",
   "metadata": {},
   "outputs": [
    {
     "data": {
      "text/plain": [
       "array([45, 19, 47, 14, 38, 32, 18, 24])"
      ]
     },
     "execution_count": 52,
     "metadata": {},
     "output_type": "execute_result"
    }
   ],
   "source": [
    "a[a>10]"
   ]
  },
  {
   "cell_type": "code",
   "execution_count": 53,
   "id": "b8606f72",
   "metadata": {
    "scrolled": true
   },
   "outputs": [
    {
     "data": {
      "text/plain": [
       "(array([0, 0, 0, 1, 1, 2, 2, 2], dtype=int64),\n",
       " array([0, 1, 2, 0, 2, 0, 1, 2], dtype=int64))"
      ]
     },
     "execution_count": 53,
     "metadata": {},
     "output_type": "execute_result"
    }
   ],
   "source": [
    "np.where(a>10)"
   ]
  },
  {
   "cell_type": "code",
   "execution_count": 54,
   "id": "ee134264",
   "metadata": {},
   "outputs": [
    {
     "data": {
      "text/plain": [
       "array([[45, 19, 47],\n",
       "       [14,  3, 38],\n",
       "       [32, 18, 24]])"
      ]
     },
     "execution_count": 54,
     "metadata": {},
     "output_type": "execute_result"
    }
   ],
   "source": [
    "a"
   ]
  },
  {
   "cell_type": "code",
   "execution_count": 56,
   "id": "064a9d29",
   "metadata": {},
   "outputs": [
    {
     "data": {
      "text/plain": [
       "array([['yes', 'yes', 'yes'],\n",
       "       ['yes', 'No', 'yes'],\n",
       "       ['yes', 'yes', 'yes']], dtype='<U3')"
      ]
     },
     "execution_count": 56,
     "metadata": {},
     "output_type": "execute_result"
    }
   ],
   "source": [
    "np.where(a>10,'yes','No')"
   ]
  },
  {
   "cell_type": "code",
   "execution_count": 61,
   "id": "57656451",
   "metadata": {},
   "outputs": [
    {
     "data": {
      "text/plain": [
       "array([[45, 19, 47],\n",
       "       [14,  3, 38],\n",
       "       [32, 18, 24]])"
      ]
     },
     "execution_count": 61,
     "metadata": {},
     "output_type": "execute_result"
    }
   ],
   "source": [
    "a"
   ]
  },
  {
   "cell_type": "code",
   "execution_count": 63,
   "id": "37d74067",
   "metadata": {},
   "outputs": [
    {
     "data": {
      "text/plain": [
       "(array([2], dtype=int64), array([2], dtype=int64))"
      ]
     },
     "execution_count": 63,
     "metadata": {},
     "output_type": "execute_result"
    }
   ],
   "source": [
    "np.where(a==24)"
   ]
  },
  {
   "cell_type": "code",
   "execution_count": 64,
   "id": "a6182173",
   "metadata": {},
   "outputs": [
    {
     "data": {
      "text/plain": [
       "24"
      ]
     },
     "execution_count": 64,
     "metadata": {},
     "output_type": "execute_result"
    }
   ],
   "source": [
    "a[2,2]"
   ]
  },
  {
   "cell_type": "code",
   "execution_count": 65,
   "id": "c8cd6cbf",
   "metadata": {},
   "outputs": [],
   "source": [
    "# hstack\n",
    "# vstack"
   ]
  },
  {
   "cell_type": "code",
   "execution_count": 68,
   "id": "d0439580",
   "metadata": {},
   "outputs": [],
   "source": [
    "a = np.random.randint(1,20,(2,2))\n",
    "b = np.random.randint(1,20,(2,2))"
   ]
  },
  {
   "cell_type": "code",
   "execution_count": 69,
   "id": "4d379706",
   "metadata": {},
   "outputs": [
    {
     "data": {
      "text/plain": [
       "array([[3, 7],\n",
       "       [2, 6]])"
      ]
     },
     "execution_count": 69,
     "metadata": {},
     "output_type": "execute_result"
    }
   ],
   "source": [
    "a"
   ]
  },
  {
   "cell_type": "code",
   "execution_count": 70,
   "id": "9683a4fd",
   "metadata": {},
   "outputs": [
    {
     "data": {
      "text/plain": [
       "array([[ 9, 17],\n",
       "       [16,  4]])"
      ]
     },
     "execution_count": 70,
     "metadata": {},
     "output_type": "execute_result"
    }
   ],
   "source": [
    "b"
   ]
  },
  {
   "cell_type": "code",
   "execution_count": 71,
   "id": "397d0f0d",
   "metadata": {},
   "outputs": [],
   "source": [
    "# [3,7,9,17]\n",
    "# [2,6,16,4]"
   ]
  },
  {
   "cell_type": "code",
   "execution_count": 74,
   "id": "85e7cb87",
   "metadata": {},
   "outputs": [
    {
     "data": {
      "text/plain": [
       "array([[ 3,  7,  9, 17],\n",
       "       [ 2,  6, 16,  4]])"
      ]
     },
     "execution_count": 74,
     "metadata": {},
     "output_type": "execute_result"
    }
   ],
   "source": [
    "np.hstack([a,b])"
   ]
  },
  {
   "cell_type": "code",
   "execution_count": 75,
   "id": "a55f0a5c",
   "metadata": {},
   "outputs": [],
   "source": [
    "# [3,7]\n",
    "# [2,6]\n",
    "# [9,17]\n",
    "# [16,4]"
   ]
  },
  {
   "cell_type": "code",
   "execution_count": 78,
   "id": "21b0d60a",
   "metadata": {},
   "outputs": [
    {
     "data": {
      "text/plain": [
       "array([[ 3,  7],\n",
       "       [ 2,  6],\n",
       "       [ 9, 17],\n",
       "       [16,  4]])"
      ]
     },
     "execution_count": 78,
     "metadata": {},
     "output_type": "execute_result"
    }
   ],
   "source": [
    "c = np.vstack([a,b])\n",
    "c"
   ]
  },
  {
   "cell_type": "code",
   "execution_count": 82,
   "id": "58c1e5ca",
   "metadata": {},
   "outputs": [
    {
     "data": {
      "text/plain": [
       "array([[ 9, 17],\n",
       "       [16,  4]])"
      ]
     },
     "execution_count": 82,
     "metadata": {},
     "output_type": "execute_result"
    }
   ],
   "source": [
    "np.vsplit(c,2)[1]"
   ]
  },
  {
   "cell_type": "code",
   "execution_count": 85,
   "id": "7215c2b4",
   "metadata": {},
   "outputs": [
    {
     "data": {
      "text/plain": [
       "array([[3, 7],\n",
       "       [2, 6],\n",
       "       [3, 7],\n",
       "       [2, 6],\n",
       "       [3, 7],\n",
       "       [2, 6],\n",
       "       [3, 7],\n",
       "       [2, 6]])"
      ]
     },
     "execution_count": 85,
     "metadata": {},
     "output_type": "execute_result"
    }
   ],
   "source": [
    "np.vstack([a,a,a,a])"
   ]
  },
  {
   "cell_type": "code",
   "execution_count": 88,
   "id": "4146cc20",
   "metadata": {},
   "outputs": [
    {
     "data": {
      "text/plain": [
       "array([[48,  4, 15],\n",
       "       [38, 15, 45],\n",
       "       [35, 52, 51]])"
      ]
     },
     "execution_count": 88,
     "metadata": {},
     "output_type": "execute_result"
    }
   ],
   "source": [
    "arr = np.random.randint(1,55,(3,3))\n",
    "arr"
   ]
  },
  {
   "cell_type": "code",
   "execution_count": 96,
   "id": "d9be50e7",
   "metadata": {},
   "outputs": [
    {
     "data": {
      "text/plain": [
       "[array([[48,  4, 15]]), array([[38, 15, 45]]), array([[35, 52, 51]])]"
      ]
     },
     "execution_count": 96,
     "metadata": {},
     "output_type": "execute_result"
    }
   ],
   "source": [
    "np.vsplit(arr,3)"
   ]
  },
  {
   "cell_type": "code",
   "execution_count": 97,
   "id": "67c48372",
   "metadata": {},
   "outputs": [
    {
     "data": {
      "text/plain": [
       "array([[51, 22, 15, 53],\n",
       "       [31, 18, 39, 11],\n",
       "       [24,  2, 29, 11],\n",
       "       [12,  2, 19, 35]])"
      ]
     },
     "execution_count": 97,
     "metadata": {},
     "output_type": "execute_result"
    }
   ],
   "source": [
    "arr = np.random.randint(1,55,(4,4))\n",
    "arr"
   ]
  },
  {
   "cell_type": "code",
   "execution_count": 100,
   "id": "d8e910e6",
   "metadata": {},
   "outputs": [
    {
     "data": {
      "text/plain": [
       "[array([[51, 22, 15, 53]]),\n",
       " array([[31, 18, 39, 11]]),\n",
       " array([[24,  2, 29, 11]]),\n",
       " array([[12,  2, 19, 35]])]"
      ]
     },
     "execution_count": 100,
     "metadata": {},
     "output_type": "execute_result"
    }
   ],
   "source": [
    "np.vsplit(arr,4)"
   ]
  },
  {
   "cell_type": "code",
   "execution_count": 102,
   "id": "76c510a6",
   "metadata": {},
   "outputs": [
    {
     "data": {
      "text/plain": [
       "[array([[51, 22],\n",
       "        [31, 18],\n",
       "        [24,  2],\n",
       "        [12,  2]]),\n",
       " array([[15, 53],\n",
       "        [39, 11],\n",
       "        [29, 11],\n",
       "        [19, 35]])]"
      ]
     },
     "execution_count": 102,
     "metadata": {},
     "output_type": "execute_result"
    }
   ],
   "source": [
    "np.hsplit(arr,2)"
   ]
  },
  {
   "cell_type": "code",
   "execution_count": 111,
   "id": "10aaee96",
   "metadata": {},
   "outputs": [
    {
     "data": {
      "text/plain": [
       "array([52, 50, 50, 49, 43, 41, 37, 37, 37, 30, 30, 29, 26, 17, 16, 10, 10,\n",
       "        9,  1,  1])"
      ]
     },
     "execution_count": 111,
     "metadata": {},
     "output_type": "execute_result"
    }
   ],
   "source": [
    "np.random.seed(10)\n",
    "a = np.random.randint(1,55,20)\n",
    "np.array(list(reversed(np.sort(a))))"
   ]
  },
  {
   "cell_type": "code",
   "execution_count": 112,
   "id": "255cf75c",
   "metadata": {},
   "outputs": [
    {
     "data": {
      "text/plain": [
       "array([10, 37, 16,  1, 50, 29, 26, 30, 49, 30, 50,  9, 10,  1, 43, 41, 37,\n",
       "       52, 17, 37])"
      ]
     },
     "execution_count": 112,
     "metadata": {},
     "output_type": "execute_result"
    }
   ],
   "source": [
    "a"
   ]
  },
  {
   "cell_type": "code",
   "execution_count": 113,
   "id": "3311965e",
   "metadata": {},
   "outputs": [
    {
     "data": {
      "text/plain": [
       "array([10, 30, 16, 10, 30, 29, 26, 30, 30, 30, 30, 10, 10, 10, 30, 30, 30,\n",
       "       30, 17, 30])"
      ]
     },
     "execution_count": 113,
     "metadata": {},
     "output_type": "execute_result"
    }
   ],
   "source": [
    "np.clip(a,10,30)"
   ]
  },
  {
   "cell_type": "code",
   "execution_count": 115,
   "id": "6ae93fb1",
   "metadata": {},
   "outputs": [],
   "source": [
    "b = np.copy(a)"
   ]
  },
  {
   "cell_type": "code",
   "execution_count": 116,
   "id": "f4720909",
   "metadata": {},
   "outputs": [
    {
     "data": {
      "text/plain": [
       "array([10, 37, 16,  1, 50, 29, 26, 30, 49, 30, 50,  9, 10,  1, 43, 41, 37,\n",
       "       52, 17, 37])"
      ]
     },
     "execution_count": 116,
     "metadata": {},
     "output_type": "execute_result"
    }
   ],
   "source": [
    "b"
   ]
  },
  {
   "cell_type": "code",
   "execution_count": 117,
   "id": "19811f37",
   "metadata": {},
   "outputs": [
    {
     "data": {
      "text/plain": [
       "array([[16, 12, 12,  2,  9],\n",
       "       [ 5, 15, 18, 14,  6],\n",
       "       [14, 14, 13,  2,  5],\n",
       "       [19, 14, 12, 11, 10],\n",
       "       [16, 19, 17,  8, 12]])"
      ]
     },
     "execution_count": 117,
     "metadata": {},
     "output_type": "execute_result"
    }
   ],
   "source": [
    "a = np.random.randint(1,20,(5,5))\n",
    "a"
   ]
  },
  {
   "cell_type": "code",
   "execution_count": 126,
   "id": "93a4ca00",
   "metadata": {},
   "outputs": [
    {
     "data": {
      "text/plain": [
       "array([[ True, False, False, False, False],\n",
       "       [False,  True,  True,  True, False],\n",
       "       [ True,  True,  True, False, False],\n",
       "       [ True,  True, False, False, False],\n",
       "       [ True,  True,  True, False, False]])"
      ]
     },
     "execution_count": 126,
     "metadata": {},
     "output_type": "execute_result"
    }
   ],
   "source": [
    "a"
   ]
  },
  {
   "cell_type": "code",
   "execution_count": null,
   "id": "24a2d0f6",
   "metadata": {},
   "outputs": [],
   "source": []
  }
 ],
 "metadata": {
  "kernelspec": {
   "display_name": "Python 3 (ipykernel)",
   "language": "python",
   "name": "python3"
  },
  "language_info": {
   "codemirror_mode": {
    "name": "ipython",
    "version": 3
   },
   "file_extension": ".py",
   "mimetype": "text/x-python",
   "name": "python",
   "nbconvert_exporter": "python",
   "pygments_lexer": "ipython3",
   "version": "3.11.3"
  }
 },
 "nbformat": 4,
 "nbformat_minor": 5
}
