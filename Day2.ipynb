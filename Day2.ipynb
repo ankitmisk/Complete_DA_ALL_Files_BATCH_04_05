{
 "cells": [
  {
   "cell_type": "code",
   "execution_count": 1,
   "id": "0995fb18",
   "metadata": {},
   "outputs": [],
   "source": [
    "# Array creation\n",
    "# list to array\n",
    "# 1d,2d,3d,4d...\n",
    "# arr.ndim\n",
    "# arr.shape\n",
    "# arr.size\n",
    "# arr.dtype\n"
   ]
  },
  {
   "cell_type": "code",
   "execution_count": 2,
   "id": "05733805",
   "metadata": {},
   "outputs": [],
   "source": [
    "import numpy as np"
   ]
  },
  {
   "cell_type": "code",
   "execution_count": 5,
   "id": "a7ac039b",
   "metadata": {},
   "outputs": [
    {
     "data": {
      "text/plain": [
       "array([ 1,  2,  3,  4,  5,  6,  7,  8,  9, 10, 11, 12, 13, 14, 15, 16, 17,\n",
       "       18, 19, 20, 21, 22, 23, 24, 25])"
      ]
     },
     "execution_count": 5,
     "metadata": {},
     "output_type": "execute_result"
    }
   ],
   "source": [
    "a = np.arange(1,26)\n",
    "a"
   ]
  },
  {
   "cell_type": "code",
   "execution_count": 6,
   "id": "fc57c24c",
   "metadata": {},
   "outputs": [
    {
     "data": {
      "text/plain": [
       "(25,)"
      ]
     },
     "execution_count": 6,
     "metadata": {},
     "output_type": "execute_result"
    }
   ],
   "source": [
    "a.shape"
   ]
  },
  {
   "cell_type": "code",
   "execution_count": 7,
   "id": "e7d980a5",
   "metadata": {},
   "outputs": [
    {
     "data": {
      "text/plain": [
       "1"
      ]
     },
     "execution_count": 7,
     "metadata": {},
     "output_type": "execute_result"
    }
   ],
   "source": [
    "a.ndim"
   ]
  },
  {
   "cell_type": "code",
   "execution_count": 8,
   "id": "373920b6",
   "metadata": {},
   "outputs": [
    {
     "data": {
      "text/plain": [
       "25"
      ]
     },
     "execution_count": 8,
     "metadata": {},
     "output_type": "execute_result"
    }
   ],
   "source": [
    "len(a)"
   ]
  },
  {
   "cell_type": "code",
   "execution_count": 9,
   "id": "9a147ed1",
   "metadata": {},
   "outputs": [
    {
     "data": {
      "text/plain": [
       "dtype('int32')"
      ]
     },
     "execution_count": 9,
     "metadata": {},
     "output_type": "execute_result"
    }
   ],
   "source": [
    "a.dtype"
   ]
  },
  {
   "cell_type": "code",
   "execution_count": 11,
   "id": "4b959852",
   "metadata": {},
   "outputs": [
    {
     "data": {
      "text/plain": [
       "array([ 1.,  2.,  3.,  4.,  5.,  6.,  7.,  8.,  9., 10., 11., 12., 13.,\n",
       "       14., 15., 16., 17., 18., 19., 20., 21., 22., 23., 24., 25.])"
      ]
     },
     "execution_count": 11,
     "metadata": {},
     "output_type": "execute_result"
    }
   ],
   "source": [
    "a = np.arange(1,26,dtype = 'float')\n",
    "a"
   ]
  },
  {
   "cell_type": "code",
   "execution_count": 12,
   "id": "603f46e0",
   "metadata": {},
   "outputs": [
    {
     "data": {
      "text/plain": [
       "dtype('float64')"
      ]
     },
     "execution_count": 12,
     "metadata": {},
     "output_type": "execute_result"
    }
   ],
   "source": [
    "a.dtype"
   ]
  },
  {
   "cell_type": "code",
   "execution_count": 13,
   "id": "de6aed05",
   "metadata": {},
   "outputs": [
    {
     "data": {
      "text/plain": [
       "array([ 1.,  2.,  3.,  4.,  5.,  6.,  7.,  8.,  9., 10., 11., 12., 13.,\n",
       "       14., 15., 16., 17., 18., 19., 20., 21., 22., 23., 24., 25.])"
      ]
     },
     "execution_count": 13,
     "metadata": {},
     "output_type": "execute_result"
    }
   ],
   "source": [
    "a = np.arange(1,26,dtype = float)\n",
    "a"
   ]
  },
  {
   "cell_type": "code",
   "execution_count": 14,
   "id": "82498f84",
   "metadata": {},
   "outputs": [
    {
     "data": {
      "text/plain": [
       "array([ 1.+0.j,  2.+0.j,  3.+0.j,  4.+0.j,  5.+0.j,  6.+0.j,  7.+0.j,\n",
       "        8.+0.j,  9.+0.j, 10.+0.j, 11.+0.j, 12.+0.j, 13.+0.j, 14.+0.j,\n",
       "       15.+0.j, 16.+0.j, 17.+0.j, 18.+0.j, 19.+0.j, 20.+0.j, 21.+0.j,\n",
       "       22.+0.j, 23.+0.j, 24.+0.j, 25.+0.j])"
      ]
     },
     "execution_count": 14,
     "metadata": {},
     "output_type": "execute_result"
    }
   ],
   "source": [
    "a = np.arange(1,26,dtype = complex)\n",
    "a"
   ]
  },
  {
   "cell_type": "code",
   "execution_count": 15,
   "id": "fb073def",
   "metadata": {},
   "outputs": [],
   "source": [
    "# reshape"
   ]
  },
  {
   "cell_type": "code",
   "execution_count": 16,
   "id": "c3d32463",
   "metadata": {},
   "outputs": [
    {
     "data": {
      "text/plain": [
       "array([[1, 2, 3],\n",
       "       [3, 4, 5],\n",
       "       [5, 6, 7]])"
      ]
     },
     "execution_count": 16,
     "metadata": {},
     "output_type": "execute_result"
    }
   ],
   "source": [
    "a = np.array([[1,2,3],\n",
    "             [3,4,5],\n",
    "             [5,6,7]])\n",
    "\n",
    "a"
   ]
  },
  {
   "cell_type": "code",
   "execution_count": 17,
   "id": "e85c85bb",
   "metadata": {},
   "outputs": [
    {
     "data": {
      "text/plain": [
       "(3, 3)"
      ]
     },
     "execution_count": 17,
     "metadata": {},
     "output_type": "execute_result"
    }
   ],
   "source": [
    "a.shape"
   ]
  },
  {
   "cell_type": "code",
   "execution_count": 23,
   "id": "ebb2d060",
   "metadata": {},
   "outputs": [
    {
     "name": "stdout",
     "output_type": "stream",
     "text": [
      "[[ 1  2  3  4  5]\n",
      " [ 6  7  8  9 10]\n",
      " [11 12 13 14 15]\n",
      " [16 17 18 19 20]\n",
      " [21 22 23 24 25]]\n"
     ]
    }
   ],
   "source": [
    "a = np.arange(1,26)\n",
    "a = a.reshape(5,5)\n",
    "print(a)"
   ]
  },
  {
   "cell_type": "code",
   "execution_count": 27,
   "id": "113a2005",
   "metadata": {},
   "outputs": [],
   "source": [
    "a = np.arange(34,98)\n",
    "# a.size"
   ]
  },
  {
   "cell_type": "code",
   "execution_count": 28,
   "id": "2fdd2d10",
   "metadata": {},
   "outputs": [
    {
     "data": {
      "text/plain": [
       "64"
      ]
     },
     "execution_count": 28,
     "metadata": {},
     "output_type": "execute_result"
    }
   ],
   "source": [
    "8*8\n",
    "16*4\n",
    "4*16\n",
    "32*2\n",
    "2*32\n",
    "1*64\n",
    "64*1\n",
    "4*4*4"
   ]
  },
  {
   "cell_type": "code",
   "execution_count": 33,
   "id": "3d2a8ba1",
   "metadata": {},
   "outputs": [
    {
     "data": {
      "text/plain": [
       "array([[[34, 35, 36, 37],\n",
       "        [38, 39, 40, 41],\n",
       "        [42, 43, 44, 45],\n",
       "        [46, 47, 48, 49]],\n",
       "\n",
       "       [[50, 51, 52, 53],\n",
       "        [54, 55, 56, 57],\n",
       "        [58, 59, 60, 61],\n",
       "        [62, 63, 64, 65]],\n",
       "\n",
       "       [[66, 67, 68, 69],\n",
       "        [70, 71, 72, 73],\n",
       "        [74, 75, 76, 77],\n",
       "        [78, 79, 80, 81]],\n",
       "\n",
       "       [[82, 83, 84, 85],\n",
       "        [86, 87, 88, 89],\n",
       "        [90, 91, 92, 93],\n",
       "        [94, 95, 96, 97]]])"
      ]
     },
     "execution_count": 33,
     "metadata": {},
     "output_type": "execute_result"
    }
   ],
   "source": [
    "a.reshape(32,2)\n",
    "a.reshape(16,4)\n",
    "a.reshape(4,16)\n",
    "a.reshape(4,4,4)"
   ]
  },
  {
   "cell_type": "code",
   "execution_count": 38,
   "id": "96f78337",
   "metadata": {},
   "outputs": [
    {
     "data": {
      "text/plain": [
       "array([[[  1,   2,   3,   4,   5,   6,   7,   8,   9,  10,  11,  12,\n",
       "          13,  14,  15,  16,  17,  18,  19,  20],\n",
       "        [ 21,  22,  23,  24,  25,  26,  27,  28,  29,  30,  31,  32,\n",
       "          33,  34,  35,  36,  37,  38,  39,  40],\n",
       "        [ 41,  42,  43,  44,  45,  46,  47,  48,  49,  50,  51,  52,\n",
       "          53,  54,  55,  56,  57,  58,  59,  60],\n",
       "        [ 61,  62,  63,  64,  65,  66,  67,  68,  69,  70,  71,  72,\n",
       "          73,  74,  75,  76,  77,  78,  79,  80],\n",
       "        [ 81,  82,  83,  84,  85,  86,  87,  88,  89,  90,  91,  92,\n",
       "          93,  94,  95,  96,  97,  98,  99, 100]],\n",
       "\n",
       "       [[101, 102, 103, 104, 105, 106, 107, 108, 109, 110, 111, 112,\n",
       "         113, 114, 115, 116, 117, 118, 119, 120],\n",
       "        [121, 122, 123, 124, 125, 126, 127, 128, 129, 130, 131, 132,\n",
       "         133, 134, 135, 136, 137, 138, 139, 140],\n",
       "        [141, 142, 143, 144, 145, 146, 147, 148, 149, 150, 151, 152,\n",
       "         153, 154, 155, 156, 157, 158, 159, 160],\n",
       "        [161, 162, 163, 164, 165, 166, 167, 168, 169, 170, 171, 172,\n",
       "         173, 174, 175, 176, 177, 178, 179, 180],\n",
       "        [181, 182, 183, 184, 185, 186, 187, 188, 189, 190, 191, 192,\n",
       "         193, 194, 195, 196, 197, 198, 199, 200]],\n",
       "\n",
       "       [[201, 202, 203, 204, 205, 206, 207, 208, 209, 210, 211, 212,\n",
       "         213, 214, 215, 216, 217, 218, 219, 220],\n",
       "        [221, 222, 223, 224, 225, 226, 227, 228, 229, 230, 231, 232,\n",
       "         233, 234, 235, 236, 237, 238, 239, 240],\n",
       "        [241, 242, 243, 244, 245, 246, 247, 248, 249, 250, 251, 252,\n",
       "         253, 254, 255, 256, 257, 258, 259, 260],\n",
       "        [261, 262, 263, 264, 265, 266, 267, 268, 269, 270, 271, 272,\n",
       "         273, 274, 275, 276, 277, 278, 279, 280],\n",
       "        [281, 282, 283, 284, 285, 286, 287, 288, 289, 290, 291, 292,\n",
       "         293, 294, 295, 296, 297, 298, 299, 300]],\n",
       "\n",
       "       [[301, 302, 303, 304, 305, 306, 307, 308, 309, 310, 311, 312,\n",
       "         313, 314, 315, 316, 317, 318, 319, 320],\n",
       "        [321, 322, 323, 324, 325, 326, 327, 328, 329, 330, 331, 332,\n",
       "         333, 334, 335, 336, 337, 338, 339, 340],\n",
       "        [341, 342, 343, 344, 345, 346, 347, 348, 349, 350, 351, 352,\n",
       "         353, 354, 355, 356, 357, 358, 359, 360],\n",
       "        [361, 362, 363, 364, 365, 366, 367, 368, 369, 370, 371, 372,\n",
       "         373, 374, 375, 376, 377, 378, 379, 380],\n",
       "        [381, 382, 383, 384, 385, 386, 387, 388, 389, 390, 391, 392,\n",
       "         393, 394, 395, 396, 397, 398, 399, 400]],\n",
       "\n",
       "       [[401, 402, 403, 404, 405, 406, 407, 408, 409, 410, 411, 412,\n",
       "         413, 414, 415, 416, 417, 418, 419, 420],\n",
       "        [421, 422, 423, 424, 425, 426, 427, 428, 429, 430, 431, 432,\n",
       "         433, 434, 435, 436, 437, 438, 439, 440],\n",
       "        [441, 442, 443, 444, 445, 446, 447, 448, 449, 450, 451, 452,\n",
       "         453, 454, 455, 456, 457, 458, 459, 460],\n",
       "        [461, 462, 463, 464, 465, 466, 467, 468, 469, 470, 471, 472,\n",
       "         473, 474, 475, 476, 477, 478, 479, 480],\n",
       "        [481, 482, 483, 484, 485, 486, 487, 488, 489, 490, 491, 492,\n",
       "         493, 494, 495, 496, 497, 498, 499, 500]]])"
      ]
     },
     "execution_count": 38,
     "metadata": {},
     "output_type": "execute_result"
    }
   ],
   "source": [
    "np.arange(1,501).reshape(25,2,10)\n",
    "np.arange(1,501).reshape(5,5,20)"
   ]
  },
  {
   "cell_type": "code",
   "execution_count": 39,
   "id": "5bc4b352",
   "metadata": {},
   "outputs": [],
   "source": [
    "# zeros"
   ]
  },
  {
   "cell_type": "code",
   "execution_count": 41,
   "id": "ad1a52a1",
   "metadata": {},
   "outputs": [
    {
     "data": {
      "text/plain": [
       "array([[0., 0., 0., 0., 0.],\n",
       "       [0., 0., 0., 0., 0.],\n",
       "       [0., 0., 0., 0., 0.],\n",
       "       [0., 0., 0., 0., 0.],\n",
       "       [0., 0., 0., 0., 0.]])"
      ]
     },
     "execution_count": 41,
     "metadata": {},
     "output_type": "execute_result"
    }
   ],
   "source": [
    "np.zeros((5,5))"
   ]
  },
  {
   "cell_type": "code",
   "execution_count": 42,
   "id": "1714e81f",
   "metadata": {},
   "outputs": [
    {
     "data": {
      "text/plain": [
       "array([[[1., 1., 1.],\n",
       "        [1., 1., 1.],\n",
       "        [1., 1., 1.]],\n",
       "\n",
       "       [[1., 1., 1.],\n",
       "        [1., 1., 1.],\n",
       "        [1., 1., 1.]],\n",
       "\n",
       "       [[1., 1., 1.],\n",
       "        [1., 1., 1.],\n",
       "        [1., 1., 1.]]])"
      ]
     },
     "execution_count": 42,
     "metadata": {},
     "output_type": "execute_result"
    }
   ],
   "source": [
    "np.ones((3,3,3))"
   ]
  },
  {
   "cell_type": "code",
   "execution_count": 43,
   "id": "4f093f96",
   "metadata": {},
   "outputs": [
    {
     "data": {
      "text/plain": [
       "array([[3, 3, 3, 3, 3],\n",
       "       [3, 3, 3, 3, 3],\n",
       "       [3, 3, 3, 3, 3],\n",
       "       [3, 3, 3, 3, 3],\n",
       "       [3, 3, 3, 3, 3]])"
      ]
     },
     "execution_count": 43,
     "metadata": {},
     "output_type": "execute_result"
    }
   ],
   "source": [
    "np.full((5,5),3)"
   ]
  },
  {
   "cell_type": "code",
   "execution_count": 44,
   "id": "08ab5c29",
   "metadata": {},
   "outputs": [
    {
     "data": {
      "text/plain": [
       "array([[0, 0, 0],\n",
       "       [0, 0, 0],\n",
       "       [0, 0, 0]])"
      ]
     },
     "execution_count": 44,
     "metadata": {},
     "output_type": "execute_result"
    }
   ],
   "source": [
    "np.full((3,3),0)"
   ]
  },
  {
   "cell_type": "code",
   "execution_count": 45,
   "id": "9bf69c83",
   "metadata": {},
   "outputs": [
    {
     "data": {
      "text/plain": [
       "array([[5, 5, 5, 5, 5],\n",
       "       [5, 5, 5, 5, 5],\n",
       "       [5, 5, 5, 5, 5],\n",
       "       [5, 5, 5, 5, 5],\n",
       "       [5, 5, 5, 5, 5]])"
      ]
     },
     "execution_count": 45,
     "metadata": {},
     "output_type": "execute_result"
    }
   ],
   "source": [
    "np.full((5,5),5)"
   ]
  },
  {
   "cell_type": "code",
   "execution_count": 49,
   "id": "1f1289e0",
   "metadata": {},
   "outputs": [
    {
     "data": {
      "text/plain": [
       "array([[401., 401., 401., 401., 401.],\n",
       "       [401., 401., 401., 401., 401.],\n",
       "       [401., 401., 401., 401., 401.],\n",
       "       [401., 401., 401., 401., 401.],\n",
       "       [401., 401., 401., 401., 401.]])"
      ]
     },
     "execution_count": 49,
     "metadata": {},
     "output_type": "execute_result"
    }
   ],
   "source": [
    "np.ones((5,5))+400"
   ]
  },
  {
   "cell_type": "code",
   "execution_count": 51,
   "id": "52874f48",
   "metadata": {},
   "outputs": [
    {
     "data": {
      "text/plain": [
       "dtype('float64')"
      ]
     },
     "execution_count": 51,
     "metadata": {},
     "output_type": "execute_result"
    }
   ],
   "source": [
    "# astype\n",
    "\n",
    "np.ones((5,5)).dtype"
   ]
  },
  {
   "cell_type": "code",
   "execution_count": 55,
   "id": "66327728",
   "metadata": {},
   "outputs": [
    {
     "data": {
      "text/plain": [
       "array([[1, 1, 1, 1, 1],\n",
       "       [1, 1, 1, 1, 1],\n",
       "       [1, 1, 1, 1, 1],\n",
       "       [1, 1, 1, 1, 1],\n",
       "       [1, 1, 1, 1, 1]])"
      ]
     },
     "execution_count": 55,
     "metadata": {},
     "output_type": "execute_result"
    }
   ],
   "source": [
    "np.ones((5,5)).astype(int)"
   ]
  },
  {
   "cell_type": "code",
   "execution_count": 56,
   "id": "cf82026c",
   "metadata": {},
   "outputs": [
    {
     "data": {
      "text/plain": [
       "array([[1, 1, 1, 1, 1],\n",
       "       [1, 1, 1, 1, 1],\n",
       "       [1, 1, 1, 1, 1],\n",
       "       [1, 1, 1, 1, 1],\n",
       "       [1, 1, 1, 1, 1]])"
      ]
     },
     "execution_count": 56,
     "metadata": {},
     "output_type": "execute_result"
    }
   ],
   "source": [
    "np.ones((5,5)).astype('int')"
   ]
  },
  {
   "cell_type": "code",
   "execution_count": 59,
   "id": "55d27819",
   "metadata": {},
   "outputs": [
    {
     "data": {
      "text/plain": [
       "array([[1.0, 1.0, 1.0, 1.0, 1.0],\n",
       "       [1.0, 1.0, 1.0, 1.0, 1.0],\n",
       "       [1.0, 1.0, 1.0, 1.0, 1.0],\n",
       "       [1.0, 1.0, 1.0, 1.0, 1.0],\n",
       "       [1.0, 1.0, 1.0, 1.0, 1.0]], dtype=object)"
      ]
     },
     "execution_count": 59,
     "metadata": {},
     "output_type": "execute_result"
    }
   ],
   "source": [
    "np.ones((5,5)).astype(dict)"
   ]
  },
  {
   "cell_type": "code",
   "execution_count": 61,
   "id": "6e0f2c5d",
   "metadata": {},
   "outputs": [
    {
     "data": {
      "text/plain": [
       "array([['1.0', '1.0', '1.0', '1.0', '1.0'],\n",
       "       ['1.0', '1.0', '1.0', '1.0', '1.0'],\n",
       "       ['1.0', '1.0', '1.0', '1.0', '1.0'],\n",
       "       ['1.0', '1.0', '1.0', '1.0', '1.0'],\n",
       "       ['1.0', '1.0', '1.0', '1.0', '1.0']], dtype='<U32')"
      ]
     },
     "execution_count": 61,
     "metadata": {},
     "output_type": "execute_result"
    }
   ],
   "source": [
    "np.ones((5,5)).astype(str)"
   ]
  },
  {
   "cell_type": "code",
   "execution_count": 62,
   "id": "3b264a6f",
   "metadata": {},
   "outputs": [
    {
     "data": {
      "text/plain": [
       "4"
      ]
     },
     "execution_count": 62,
     "metadata": {},
     "output_type": "execute_result"
    }
   ],
   "source": [
    "np.random.randint(1,100)"
   ]
  },
  {
   "cell_type": "code",
   "execution_count": 65,
   "id": "3113fceb",
   "metadata": {},
   "outputs": [],
   "source": [
    "import random\n",
    "\n",
    "# random.randint(1,100,25)"
   ]
  },
  {
   "cell_type": "code",
   "execution_count": 66,
   "id": "55fc59b6",
   "metadata": {},
   "outputs": [
    {
     "data": {
      "text/plain": [
       "array([80, 19, 11, 36, 34,  8, 76, 97, 51, 35,  4, 14, 66, 82, 72, 59, 15,\n",
       "       44, 66, 62, 27, 57, 57, 15, 82])"
      ]
     },
     "execution_count": 66,
     "metadata": {},
     "output_type": "execute_result"
    }
   ],
   "source": [
    "np.random.randint(1,100,25)"
   ]
  },
  {
   "cell_type": "code",
   "execution_count": 67,
   "id": "32dd5779",
   "metadata": {},
   "outputs": [
    {
     "data": {
      "text/plain": [
       "array([[78, 40, 54, 44, 13],\n",
       "       [24,  4,  1, 65, 14],\n",
       "       [20, 90, 81, 95, 60],\n",
       "       [75, 63, 66, 98, 37],\n",
       "       [30, 26, 80, 91, 75]])"
      ]
     },
     "execution_count": 67,
     "metadata": {},
     "output_type": "execute_result"
    }
   ],
   "source": [
    "np.random.randint(1,100,(5,5))"
   ]
  },
  {
   "cell_type": "code",
   "execution_count": 69,
   "id": "b6fd8ff3",
   "metadata": {},
   "outputs": [],
   "source": [
    "a = np.random.randint(1,100,(5,5,5,5,5))"
   ]
  },
  {
   "cell_type": "code",
   "execution_count": 70,
   "id": "9183566a",
   "metadata": {},
   "outputs": [
    {
     "data": {
      "text/plain": [
       "3125"
      ]
     },
     "execution_count": 70,
     "metadata": {},
     "output_type": "execute_result"
    }
   ],
   "source": [
    "5**5"
   ]
  },
  {
   "cell_type": "code",
   "execution_count": 71,
   "id": "e247a7ef",
   "metadata": {
    "scrolled": true
   },
   "outputs": [
    {
     "data": {
      "text/plain": [
       "3125"
      ]
     },
     "execution_count": 71,
     "metadata": {},
     "output_type": "execute_result"
    }
   ],
   "source": [
    "a.size"
   ]
  },
  {
   "cell_type": "code",
   "execution_count": null,
   "id": "8f36d635",
   "metadata": {},
   "outputs": [],
   "source": [
    "1,10\n",
    "\n",
    "1,2,3,4,5,6,7,8,9,10"
   ]
  },
  {
   "cell_type": "code",
   "execution_count": null,
   "id": "d59aa921",
   "metadata": {},
   "outputs": [],
   "source": [
    "1,10\n",
    "\n"
   ]
  },
  {
   "cell_type": "code",
   "execution_count": 72,
   "id": "ff2e93e2",
   "metadata": {},
   "outputs": [
    {
     "data": {
      "text/plain": [
       "array([ 1.        ,  1.18367347,  1.36734694,  1.55102041,  1.73469388,\n",
       "        1.91836735,  2.10204082,  2.28571429,  2.46938776,  2.65306122,\n",
       "        2.83673469,  3.02040816,  3.20408163,  3.3877551 ,  3.57142857,\n",
       "        3.75510204,  3.93877551,  4.12244898,  4.30612245,  4.48979592,\n",
       "        4.67346939,  4.85714286,  5.04081633,  5.2244898 ,  5.40816327,\n",
       "        5.59183673,  5.7755102 ,  5.95918367,  6.14285714,  6.32653061,\n",
       "        6.51020408,  6.69387755,  6.87755102,  7.06122449,  7.24489796,\n",
       "        7.42857143,  7.6122449 ,  7.79591837,  7.97959184,  8.16326531,\n",
       "        8.34693878,  8.53061224,  8.71428571,  8.89795918,  9.08163265,\n",
       "        9.26530612,  9.44897959,  9.63265306,  9.81632653, 10.        ])"
      ]
     },
     "execution_count": 72,
     "metadata": {},
     "output_type": "execute_result"
    }
   ],
   "source": [
    "np.linspace(1,10)"
   ]
  },
  {
   "cell_type": "code",
   "execution_count": 74,
   "id": "9860f5b1",
   "metadata": {},
   "outputs": [
    {
     "data": {
      "text/plain": [
       "0.18367347"
      ]
     },
     "execution_count": 74,
     "metadata": {},
     "output_type": "execute_result"
    }
   ],
   "source": [
    "1.18367347 - 1"
   ]
  },
  {
   "cell_type": "code",
   "execution_count": 75,
   "id": "d8a1ac71",
   "metadata": {},
   "outputs": [
    {
     "data": {
      "text/plain": [
       "0.18367347"
      ]
     },
     "execution_count": 75,
     "metadata": {},
     "output_type": "execute_result"
    }
   ],
   "source": [
    "1.36734694 - 1.18367347"
   ]
  },
  {
   "cell_type": "code",
   "execution_count": 76,
   "id": "866c2d64",
   "metadata": {},
   "outputs": [
    {
     "data": {
      "text/plain": [
       "array([ 1.,  2.,  3.,  4.,  5.,  6.,  7.,  8.,  9., 10.])"
      ]
     },
     "execution_count": 76,
     "metadata": {},
     "output_type": "execute_result"
    }
   ],
   "source": [
    "np.linspace(1,10,10)"
   ]
  },
  {
   "cell_type": "code",
   "execution_count": 77,
   "id": "6b0e9b0c",
   "metadata": {},
   "outputs": [
    {
     "data": {
      "text/plain": [
       "array([ 1.        ,  1.64285714,  2.28571429,  2.92857143,  3.57142857,\n",
       "        4.21428571,  4.85714286,  5.5       ,  6.14285714,  6.78571429,\n",
       "        7.42857143,  8.07142857,  8.71428571,  9.35714286, 10.        ])"
      ]
     },
     "execution_count": 77,
     "metadata": {},
     "output_type": "execute_result"
    }
   ],
   "source": [
    "np.linspace(1,10,15)"
   ]
  },
  {
   "cell_type": "code",
   "execution_count": 79,
   "id": "5ff1e7fe",
   "metadata": {},
   "outputs": [
    {
     "data": {
      "text/plain": [
       "array([[ 100. ,  137.5,  175. ,  212.5,  250. ],\n",
       "       [ 287.5,  325. ,  362.5,  400. ,  437.5],\n",
       "       [ 475. ,  512.5,  550. ,  587.5,  625. ],\n",
       "       [ 662.5,  700. ,  737.5,  775. ,  812.5],\n",
       "       [ 850. ,  887.5,  925. ,  962.5, 1000. ]])"
      ]
     },
     "execution_count": 79,
     "metadata": {},
     "output_type": "execute_result"
    }
   ],
   "source": [
    "np.linspace(100,1000,25).reshape(5,5)"
   ]
  },
  {
   "cell_type": "code",
   "execution_count": 82,
   "id": "05e94a57",
   "metadata": {},
   "outputs": [
    {
     "data": {
      "text/plain": [
       "array([[37, 11, 15, 45, 15,  6, 36],\n",
       "       [36, 31, 26, 15, 11, 32, 43],\n",
       "       [45, 40, 14,  4, 39, 44, 20],\n",
       "       [ 1, 19, 45, 39,  3, 18, 30],\n",
       "       [ 4,  4, 19,  8,  5,  8, 27],\n",
       "       [ 1, 10, 43, 17, 19, 46, 34],\n",
       "       [ 8, 45, 29, 21, 27,  7, 33]])"
      ]
     },
     "execution_count": 82,
     "metadata": {},
     "output_type": "execute_result"
    }
   ],
   "source": [
    "a = np.random.randint(1,50,(7,7))\n",
    "a"
   ]
  },
  {
   "cell_type": "code",
   "execution_count": 83,
   "id": "45cadfa2",
   "metadata": {},
   "outputs": [
    {
     "data": {
      "text/plain": [
       "2"
      ]
     },
     "execution_count": 83,
     "metadata": {},
     "output_type": "execute_result"
    }
   ],
   "source": [
    "a.ndim"
   ]
  },
  {
   "cell_type": "code",
   "execution_count": 86,
   "id": "6f7e7470",
   "metadata": {},
   "outputs": [
    {
     "data": {
      "text/plain": [
       "array([[[37, 11, 15, 45, 15,  6, 36],\n",
       "        [36, 31, 26, 15, 11, 32, 43],\n",
       "        [45, 40, 14,  4, 39, 44, 20],\n",
       "        [ 1, 19, 45, 39,  3, 18, 30],\n",
       "        [ 4,  4, 19,  8,  5,  8, 27],\n",
       "        [ 1, 10, 43, 17, 19, 46, 34],\n",
       "        [ 8, 45, 29, 21, 27,  7, 33]]])"
      ]
     },
     "execution_count": 86,
     "metadata": {},
     "output_type": "execute_result"
    }
   ],
   "source": [
    "np.expand_dims(a,axis=0)"
   ]
  },
  {
   "cell_type": "code",
   "execution_count": 90,
   "id": "04cdfd8d",
   "metadata": {},
   "outputs": [
    {
     "data": {
      "text/plain": [
       "array([[[37, 11, 15, 45, 15,  6, 36],\n",
       "        [36, 31, 26, 15, 11, 32, 43],\n",
       "        [45, 40, 14,  4, 39, 44, 20],\n",
       "        [ 1, 19, 45, 39,  3, 18, 30],\n",
       "        [ 4,  4, 19,  8,  5,  8, 27],\n",
       "        [ 1, 10, 43, 17, 19, 46, 34],\n",
       "        [ 8, 45, 29, 21, 27,  7, 33]]])"
      ]
     },
     "execution_count": 90,
     "metadata": {},
     "output_type": "execute_result"
    }
   ],
   "source": [
    "b = np.array([a])\n",
    "b"
   ]
  },
  {
   "cell_type": "code",
   "execution_count": 94,
   "id": "b8e5a4fe",
   "metadata": {},
   "outputs": [],
   "source": [
    "b = b.flatten()"
   ]
  },
  {
   "cell_type": "code",
   "execution_count": 95,
   "id": "f1d640ae",
   "metadata": {},
   "outputs": [
    {
     "data": {
      "text/plain": [
       "1"
      ]
     },
     "execution_count": 95,
     "metadata": {},
     "output_type": "execute_result"
    }
   ],
   "source": [
    "b.ndim"
   ]
  },
  {
   "cell_type": "code",
   "execution_count": 99,
   "id": "d5d94ef6",
   "metadata": {
    "scrolled": true
   },
   "outputs": [
    {
     "data": {
      "text/plain": [
       "array([[[37, 11, 15, 45, 15,  6, 36],\n",
       "        [36, 31, 26, 15, 11, 32, 43],\n",
       "        [45, 40, 14,  4, 39, 44, 20],\n",
       "        [ 1, 19, 45, 39,  3, 18, 30],\n",
       "        [ 4,  4, 19,  8,  5,  8, 27],\n",
       "        [ 1, 10, 43, 17, 19, 46, 34],\n",
       "        [ 8, 45, 29, 21, 27,  7, 33]]])"
      ]
     },
     "execution_count": 99,
     "metadata": {},
     "output_type": "execute_result"
    }
   ],
   "source": [
    "v = np.expand_dims(a,axis=0)\n",
    "v"
   ]
  },
  {
   "cell_type": "code",
   "execution_count": 100,
   "id": "6efcd57e",
   "metadata": {},
   "outputs": [
    {
     "data": {
      "text/plain": [
       "(1, 7, 7)"
      ]
     },
     "execution_count": 100,
     "metadata": {},
     "output_type": "execute_result"
    }
   ],
   "source": [
    "v.shape"
   ]
  },
  {
   "cell_type": "code",
   "execution_count": 101,
   "id": "0aba626d",
   "metadata": {},
   "outputs": [
    {
     "data": {
      "text/plain": [
       "array([[37, 11, 15, 45, 15,  6, 36],\n",
       "       [36, 31, 26, 15, 11, 32, 43],\n",
       "       [45, 40, 14,  4, 39, 44, 20],\n",
       "       [ 1, 19, 45, 39,  3, 18, 30],\n",
       "       [ 4,  4, 19,  8,  5,  8, 27],\n",
       "       [ 1, 10, 43, 17, 19, 46, 34],\n",
       "       [ 8, 45, 29, 21, 27,  7, 33]])"
      ]
     },
     "execution_count": 101,
     "metadata": {},
     "output_type": "execute_result"
    }
   ],
   "source": [
    "v.reshape(7,7)"
   ]
  },
  {
   "cell_type": "code",
   "execution_count": 103,
   "id": "52417c1c",
   "metadata": {},
   "outputs": [
    {
     "data": {
      "text/plain": [
       "array([37, 11, 15, 45, 15,  6, 36, 36, 31, 26, 15, 11, 32, 43, 45, 40, 14,\n",
       "        4, 39, 44, 20,  1, 19, 45, 39,  3, 18, 30,  4,  4, 19,  8,  5,  8,\n",
       "       27,  1, 10, 43, 17, 19, 46, 34,  8, 45, 29, 21, 27,  7, 33])"
      ]
     },
     "execution_count": 103,
     "metadata": {},
     "output_type": "execute_result"
    }
   ],
   "source": [
    "v.reshape(v.size)"
   ]
  },
  {
   "cell_type": "code",
   "execution_count": 105,
   "id": "a2390607",
   "metadata": {},
   "outputs": [
    {
     "data": {
      "text/plain": [
       "6"
      ]
     },
     "execution_count": 105,
     "metadata": {},
     "output_type": "execute_result"
    }
   ],
   "source": [
    "arr_6d = np.random.randint(1,101,(3,4,5,6,7,8))\n",
    "arr_6d.ndim"
   ]
  },
  {
   "cell_type": "code",
   "execution_count": 106,
   "id": "6087684b",
   "metadata": {},
   "outputs": [
    {
     "data": {
      "text/plain": [
       "array([61, 14,  7, ..., 35, 14, 17])"
      ]
     },
     "execution_count": 106,
     "metadata": {},
     "output_type": "execute_result"
    }
   ],
   "source": [
    "arr_6d.flatten()"
   ]
  },
  {
   "cell_type": "code",
   "execution_count": 107,
   "id": "2b614e53",
   "metadata": {},
   "outputs": [
    {
     "data": {
      "text/plain": [
       "20160"
      ]
     },
     "execution_count": 107,
     "metadata": {},
     "output_type": "execute_result"
    }
   ],
   "source": [
    "arr_6d.size"
   ]
  },
  {
   "cell_type": "code",
   "execution_count": 108,
   "id": "dc643fcf",
   "metadata": {},
   "outputs": [
    {
     "data": {
      "text/plain": [
       "array([61, 14,  7, ..., 35, 14, 17])"
      ]
     },
     "execution_count": 108,
     "metadata": {},
     "output_type": "execute_result"
    }
   ],
   "source": [
    "arr_6d.reshape(arr_6d.size)"
   ]
  },
  {
   "cell_type": "code",
   "execution_count": null,
   "id": "083f6b7e",
   "metadata": {},
   "outputs": [],
   "source": []
  }
 ],
 "metadata": {
  "kernelspec": {
   "display_name": "Python 3 (ipykernel)",
   "language": "python",
   "name": "python3"
  },
  "language_info": {
   "codemirror_mode": {
    "name": "ipython",
    "version": 3
   },
   "file_extension": ".py",
   "mimetype": "text/x-python",
   "name": "python",
   "nbconvert_exporter": "python",
   "pygments_lexer": "ipython3",
   "version": "3.11.3"
  }
 },
 "nbformat": 4,
 "nbformat_minor": 5
}
