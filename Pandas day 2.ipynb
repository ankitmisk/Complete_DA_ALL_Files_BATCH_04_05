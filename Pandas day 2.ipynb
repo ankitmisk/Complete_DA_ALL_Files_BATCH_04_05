{
 "cells": [
  {
   "cell_type": "code",
   "execution_count": 1,
   "id": "0dbcec0c",
   "metadata": {},
   "outputs": [],
   "source": [
    "# Data Frame"
   ]
  },
  {
   "cell_type": "code",
   "execution_count": 2,
   "id": "e0ac70e8",
   "metadata": {},
   "outputs": [],
   "source": [
    "import pandas as pd"
   ]
  },
  {
   "cell_type": "code",
   "execution_count": 4,
   "id": "5595488b",
   "metadata": {},
   "outputs": [],
   "source": [
    "# from dict\n",
    "import numpy as np"
   ]
  },
  {
   "cell_type": "code",
   "execution_count": 5,
   "id": "5d7eff1c",
   "metadata": {},
   "outputs": [
    {
     "data": {
      "text/plain": [
       "{'Name': ['Ajay', 'Karan', 'Ravi'],\n",
       " 'Address': ['Noida', 'Delhi', 'Greater Noida'],\n",
       " 'Salary': array([37829, 41339, 43604])}"
      ]
     },
     "execution_count": 5,
     "metadata": {},
     "output_type": "execute_result"
    }
   ],
   "source": [
    "data = {'Name':['Ajay','Karan',\"Ravi\"],\n",
    "       'Address':['Noida','Delhi','Greater Noida'],\n",
    "       'Salary':np.random.randint(25500,45500,3)}\n",
    "data"
   ]
  },
  {
   "cell_type": "code",
   "execution_count": 8,
   "id": "600be6eb",
   "metadata": {},
   "outputs": [
    {
     "name": "stdout",
     "output_type": "stream",
     "text": [
      "    Name        Address  Salary\n",
      "0   Ajay          Noida   37829\n",
      "1  Karan          Delhi   41339\n",
      "2   Ravi  Greater Noida   43604\n"
     ]
    }
   ],
   "source": [
    "df = pd.DataFrame(data)\n",
    "print(df)"
   ]
  },
  {
   "cell_type": "code",
   "execution_count": 11,
   "id": "765f0baf",
   "metadata": {},
   "outputs": [
    {
     "data": {
      "text/html": [
       "<div>\n",
       "<style scoped>\n",
       "    .dataframe tbody tr th:only-of-type {\n",
       "        vertical-align: middle;\n",
       "    }\n",
       "\n",
       "    .dataframe tbody tr th {\n",
       "        vertical-align: top;\n",
       "    }\n",
       "\n",
       "    .dataframe thead th {\n",
       "        text-align: right;\n",
       "    }\n",
       "</style>\n",
       "<table border=\"1\" class=\"dataframe\">\n",
       "  <thead>\n",
       "    <tr style=\"text-align: right;\">\n",
       "      <th></th>\n",
       "      <th>Name</th>\n",
       "      <th>Address</th>\n",
       "      <th>Salary</th>\n",
       "    </tr>\n",
       "  </thead>\n",
       "  <tbody>\n",
       "    <tr>\n",
       "      <th>0</th>\n",
       "      <td>Ajay</td>\n",
       "      <td>Noida</td>\n",
       "      <td>37829</td>\n",
       "    </tr>\n",
       "    <tr>\n",
       "      <th>1</th>\n",
       "      <td>Karan</td>\n",
       "      <td>Delhi</td>\n",
       "      <td>41339</td>\n",
       "    </tr>\n",
       "    <tr>\n",
       "      <th>2</th>\n",
       "      <td>Ravi</td>\n",
       "      <td>Greater Noida</td>\n",
       "      <td>43604</td>\n",
       "    </tr>\n",
       "  </tbody>\n",
       "</table>\n",
       "</div>"
      ],
      "text/plain": [
       "    Name        Address  Salary\n",
       "0   Ajay          Noida   37829\n",
       "1  Karan          Delhi   41339\n",
       "2   Ravi  Greater Noida   43604"
      ]
     },
     "metadata": {},
     "output_type": "display_data"
    }
   ],
   "source": [
    "display(df)"
   ]
  },
  {
   "cell_type": "code",
   "execution_count": 12,
   "id": "a097c39d",
   "metadata": {},
   "outputs": [
    {
     "data": {
      "text/plain": [
       "2"
      ]
     },
     "execution_count": 12,
     "metadata": {},
     "output_type": "execute_result"
    }
   ],
   "source": [
    "df.ndim"
   ]
  },
  {
   "cell_type": "code",
   "execution_count": 13,
   "id": "2b4e4098",
   "metadata": {},
   "outputs": [
    {
     "data": {
      "text/plain": [
       "(3, 3)"
      ]
     },
     "execution_count": 13,
     "metadata": {},
     "output_type": "execute_result"
    }
   ],
   "source": [
    "df.shape"
   ]
  },
  {
   "cell_type": "code",
   "execution_count": 14,
   "id": "4e9e0979",
   "metadata": {},
   "outputs": [
    {
     "data": {
      "text/plain": [
       "9"
      ]
     },
     "execution_count": 14,
     "metadata": {},
     "output_type": "execute_result"
    }
   ],
   "source": [
    "df.size"
   ]
  },
  {
   "cell_type": "code",
   "execution_count": 15,
   "id": "0ffabad2",
   "metadata": {},
   "outputs": [
    {
     "data": {
      "text/plain": [
       "Index(['Name', 'Address', 'Salary'], dtype='object')"
      ]
     },
     "execution_count": 15,
     "metadata": {},
     "output_type": "execute_result"
    }
   ],
   "source": [
    "df.columns"
   ]
  },
  {
   "cell_type": "code",
   "execution_count": 16,
   "id": "c0b8cc88",
   "metadata": {},
   "outputs": [
    {
     "data": {
      "text/plain": [
       "RangeIndex(start=0, stop=3, step=1)"
      ]
     },
     "execution_count": 16,
     "metadata": {},
     "output_type": "execute_result"
    }
   ],
   "source": [
    "df.index"
   ]
  },
  {
   "cell_type": "code",
   "execution_count": 17,
   "id": "32406df3",
   "metadata": {},
   "outputs": [
    {
     "name": "stdout",
     "output_type": "stream",
     "text": [
      "<class 'pandas.core.frame.DataFrame'>\n",
      "RangeIndex: 3 entries, 0 to 2\n",
      "Data columns (total 3 columns):\n",
      " #   Column   Non-Null Count  Dtype \n",
      "---  ------   --------------  ----- \n",
      " 0   Name     3 non-null      object\n",
      " 1   Address  3 non-null      object\n",
      " 2   Salary   3 non-null      int32 \n",
      "dtypes: int32(1), object(2)\n",
      "memory usage: 192.0+ bytes\n"
     ]
    }
   ],
   "source": [
    "df.info()"
   ]
  },
  {
   "cell_type": "code",
   "execution_count": 18,
   "id": "377ef60e",
   "metadata": {},
   "outputs": [
    {
     "data": {
      "text/plain": [
       "0     Ajay\n",
       "1    Karan\n",
       "2     Ravi\n",
       "Name: Name, dtype: object"
      ]
     },
     "execution_count": 18,
     "metadata": {},
     "output_type": "execute_result"
    }
   ],
   "source": [
    "# columns\n",
    "df['Name']"
   ]
  },
  {
   "cell_type": "code",
   "execution_count": 19,
   "id": "85e25f40",
   "metadata": {},
   "outputs": [
    {
     "data": {
      "text/plain": [
       "Index(['Name', 'Address', 'Salary'], dtype='object')"
      ]
     },
     "execution_count": 19,
     "metadata": {},
     "output_type": "execute_result"
    }
   ],
   "source": [
    "df.columns"
   ]
  },
  {
   "cell_type": "code",
   "execution_count": 20,
   "id": "204c359e",
   "metadata": {},
   "outputs": [
    {
     "data": {
      "text/plain": [
       "0            Noida\n",
       "1            Delhi\n",
       "2    Greater Noida\n",
       "Name: Address, dtype: object"
      ]
     },
     "execution_count": 20,
     "metadata": {},
     "output_type": "execute_result"
    }
   ],
   "source": [
    "df['Address']"
   ]
  },
  {
   "cell_type": "code",
   "execution_count": 22,
   "id": "b40e73c2",
   "metadata": {},
   "outputs": [
    {
     "data": {
      "text/plain": [
       "37829"
      ]
     },
     "execution_count": 22,
     "metadata": {},
     "output_type": "execute_result"
    }
   ],
   "source": [
    "df['Salary'].min()"
   ]
  },
  {
   "cell_type": "code",
   "execution_count": 23,
   "id": "b77890fa",
   "metadata": {},
   "outputs": [
    {
     "data": {
      "text/plain": [
       "43604"
      ]
     },
     "execution_count": 23,
     "metadata": {},
     "output_type": "execute_result"
    }
   ],
   "source": [
    "df['Salary'].max()"
   ]
  },
  {
   "cell_type": "code",
   "execution_count": 24,
   "id": "0f5c524c",
   "metadata": {},
   "outputs": [
    {
     "data": {
      "text/plain": [
       "40924.0"
      ]
     },
     "execution_count": 24,
     "metadata": {},
     "output_type": "execute_result"
    }
   ],
   "source": [
    "df['Salary'].mean()"
   ]
  },
  {
   "cell_type": "code",
   "execution_count": null,
   "id": "e3cdeff5",
   "metadata": {},
   "outputs": [],
   "source": [
    "min\n",
    "max\n",
    "df.shape\n",
    "df.size\n",
    "df.ndim\n",
    "df.info()\n",
    "df['Col Name'].dtype\n",
    "df['Col Name'].min\n",
    "df['Col Name'].max\n",
    "df['Col Name'].mean\n"
   ]
  },
  {
   "cell_type": "code",
   "execution_count": 26,
   "id": "38d203db",
   "metadata": {},
   "outputs": [
    {
     "data": {
      "text/plain": [
       "dtype('int32')"
      ]
     },
     "execution_count": 26,
     "metadata": {},
     "output_type": "execute_result"
    }
   ],
   "source": [
    "df['Salary'].dtype"
   ]
  },
  {
   "cell_type": "code",
   "execution_count": 27,
   "id": "f832e09d",
   "metadata": {},
   "outputs": [
    {
     "data": {
      "text/plain": [
       "count        3.00000\n",
       "mean     40924.00000\n",
       "std       2909.78092\n",
       "min      37829.00000\n",
       "25%      39584.00000\n",
       "50%      41339.00000\n",
       "75%      42471.50000\n",
       "max      43604.00000\n",
       "Name: Salary, dtype: float64"
      ]
     },
     "execution_count": 27,
     "metadata": {},
     "output_type": "execute_result"
    }
   ],
   "source": [
    "df['Salary'].describe()"
   ]
  },
  {
   "cell_type": "code",
   "execution_count": 29,
   "id": "2bdc642e",
   "metadata": {},
   "outputs": [
    {
     "data": {
      "text/html": [
       "<div>\n",
       "<style scoped>\n",
       "    .dataframe tbody tr th:only-of-type {\n",
       "        vertical-align: middle;\n",
       "    }\n",
       "\n",
       "    .dataframe tbody tr th {\n",
       "        vertical-align: top;\n",
       "    }\n",
       "\n",
       "    .dataframe thead th {\n",
       "        text-align: right;\n",
       "    }\n",
       "</style>\n",
       "<table border=\"1\" class=\"dataframe\">\n",
       "  <thead>\n",
       "    <tr style=\"text-align: right;\">\n",
       "      <th></th>\n",
       "      <th>Salary</th>\n",
       "    </tr>\n",
       "  </thead>\n",
       "  <tbody>\n",
       "    <tr>\n",
       "      <th>count</th>\n",
       "      <td>3.00000</td>\n",
       "    </tr>\n",
       "    <tr>\n",
       "      <th>mean</th>\n",
       "      <td>40924.00000</td>\n",
       "    </tr>\n",
       "    <tr>\n",
       "      <th>std</th>\n",
       "      <td>2909.78092</td>\n",
       "    </tr>\n",
       "    <tr>\n",
       "      <th>min</th>\n",
       "      <td>37829.00000</td>\n",
       "    </tr>\n",
       "    <tr>\n",
       "      <th>25%</th>\n",
       "      <td>39584.00000</td>\n",
       "    </tr>\n",
       "    <tr>\n",
       "      <th>50%</th>\n",
       "      <td>41339.00000</td>\n",
       "    </tr>\n",
       "    <tr>\n",
       "      <th>75%</th>\n",
       "      <td>42471.50000</td>\n",
       "    </tr>\n",
       "    <tr>\n",
       "      <th>max</th>\n",
       "      <td>43604.00000</td>\n",
       "    </tr>\n",
       "  </tbody>\n",
       "</table>\n",
       "</div>"
      ],
      "text/plain": [
       "            Salary\n",
       "count      3.00000\n",
       "mean   40924.00000\n",
       "std     2909.78092\n",
       "min    37829.00000\n",
       "25%    39584.00000\n",
       "50%    41339.00000\n",
       "75%    42471.50000\n",
       "max    43604.00000"
      ]
     },
     "execution_count": 29,
     "metadata": {},
     "output_type": "execute_result"
    }
   ],
   "source": [
    "df.describe()\n",
    "# basic stats analysis"
   ]
  },
  {
   "cell_type": "code",
   "execution_count": 30,
   "id": "925b27c4",
   "metadata": {},
   "outputs": [
    {
     "data": {
      "text/plain": [
       "Index(['Name', 'Address', 'Salary'], dtype='object')"
      ]
     },
     "execution_count": 30,
     "metadata": {},
     "output_type": "execute_result"
    }
   ],
   "source": [
    "df.columns"
   ]
  },
  {
   "cell_type": "code",
   "execution_count": 31,
   "id": "68f00a9a",
   "metadata": {},
   "outputs": [
    {
     "data": {
      "text/plain": [
       "0     Ajay\n",
       "1    Karan\n",
       "2     Ravi\n",
       "Name: Name, dtype: object"
      ]
     },
     "execution_count": 31,
     "metadata": {},
     "output_type": "execute_result"
    }
   ],
   "source": [
    "df['Name']"
   ]
  },
  {
   "cell_type": "code",
   "execution_count": 32,
   "id": "784b9f53",
   "metadata": {},
   "outputs": [
    {
     "data": {
      "text/plain": [
       "0     Ajay\n",
       "1    Karan\n",
       "2     Ravi\n",
       "Name: Name, dtype: object"
      ]
     },
     "execution_count": 32,
     "metadata": {},
     "output_type": "execute_result"
    }
   ],
   "source": [
    "df.Name"
   ]
  },
  {
   "cell_type": "code",
   "execution_count": 33,
   "id": "6b9a9d8b",
   "metadata": {},
   "outputs": [],
   "source": [
    "df.Name = ['Ankit','Aman','Raman']"
   ]
  },
  {
   "cell_type": "code",
   "execution_count": 34,
   "id": "7aa27f96",
   "metadata": {},
   "outputs": [
    {
     "data": {
      "text/html": [
       "<div>\n",
       "<style scoped>\n",
       "    .dataframe tbody tr th:only-of-type {\n",
       "        vertical-align: middle;\n",
       "    }\n",
       "\n",
       "    .dataframe tbody tr th {\n",
       "        vertical-align: top;\n",
       "    }\n",
       "\n",
       "    .dataframe thead th {\n",
       "        text-align: right;\n",
       "    }\n",
       "</style>\n",
       "<table border=\"1\" class=\"dataframe\">\n",
       "  <thead>\n",
       "    <tr style=\"text-align: right;\">\n",
       "      <th></th>\n",
       "      <th>Name</th>\n",
       "      <th>Address</th>\n",
       "      <th>Salary</th>\n",
       "    </tr>\n",
       "  </thead>\n",
       "  <tbody>\n",
       "    <tr>\n",
       "      <th>0</th>\n",
       "      <td>Ankit</td>\n",
       "      <td>Noida</td>\n",
       "      <td>37829</td>\n",
       "    </tr>\n",
       "    <tr>\n",
       "      <th>1</th>\n",
       "      <td>Aman</td>\n",
       "      <td>Delhi</td>\n",
       "      <td>41339</td>\n",
       "    </tr>\n",
       "    <tr>\n",
       "      <th>2</th>\n",
       "      <td>Raman</td>\n",
       "      <td>Greater Noida</td>\n",
       "      <td>43604</td>\n",
       "    </tr>\n",
       "  </tbody>\n",
       "</table>\n",
       "</div>"
      ],
      "text/plain": [
       "    Name        Address  Salary\n",
       "0  Ankit          Noida   37829\n",
       "1   Aman          Delhi   41339\n",
       "2  Raman  Greater Noida   43604"
      ]
     },
     "execution_count": 34,
     "metadata": {},
     "output_type": "execute_result"
    }
   ],
   "source": [
    "df"
   ]
  },
  {
   "cell_type": "code",
   "execution_count": 35,
   "id": "0b2548be",
   "metadata": {},
   "outputs": [],
   "source": [
    "df['Address'] = ['Noida']*3"
   ]
  },
  {
   "cell_type": "code",
   "execution_count": 36,
   "id": "b9d3ac09",
   "metadata": {},
   "outputs": [
    {
     "data": {
      "text/html": [
       "<div>\n",
       "<style scoped>\n",
       "    .dataframe tbody tr th:only-of-type {\n",
       "        vertical-align: middle;\n",
       "    }\n",
       "\n",
       "    .dataframe tbody tr th {\n",
       "        vertical-align: top;\n",
       "    }\n",
       "\n",
       "    .dataframe thead th {\n",
       "        text-align: right;\n",
       "    }\n",
       "</style>\n",
       "<table border=\"1\" class=\"dataframe\">\n",
       "  <thead>\n",
       "    <tr style=\"text-align: right;\">\n",
       "      <th></th>\n",
       "      <th>Name</th>\n",
       "      <th>Address</th>\n",
       "      <th>Salary</th>\n",
       "    </tr>\n",
       "  </thead>\n",
       "  <tbody>\n",
       "    <tr>\n",
       "      <th>0</th>\n",
       "      <td>Ankit</td>\n",
       "      <td>Noida</td>\n",
       "      <td>37829</td>\n",
       "    </tr>\n",
       "    <tr>\n",
       "      <th>1</th>\n",
       "      <td>Aman</td>\n",
       "      <td>Noida</td>\n",
       "      <td>41339</td>\n",
       "    </tr>\n",
       "    <tr>\n",
       "      <th>2</th>\n",
       "      <td>Raman</td>\n",
       "      <td>Noida</td>\n",
       "      <td>43604</td>\n",
       "    </tr>\n",
       "  </tbody>\n",
       "</table>\n",
       "</div>"
      ],
      "text/plain": [
       "    Name Address  Salary\n",
       "0  Ankit   Noida   37829\n",
       "1   Aman   Noida   41339\n",
       "2  Raman   Noida   43604"
      ]
     },
     "execution_count": 36,
     "metadata": {},
     "output_type": "execute_result"
    }
   ],
   "source": [
    "df"
   ]
  },
  {
   "cell_type": "code",
   "execution_count": 37,
   "id": "0b95ecbd",
   "metadata": {},
   "outputs": [],
   "source": [
    "# list to df"
   ]
  },
  {
   "cell_type": "code",
   "execution_count": 40,
   "id": "0976c292",
   "metadata": {},
   "outputs": [],
   "source": [
    "data = [['Mohan',23,'A'],\n",
    "        ['Ravi',24,'B'],\n",
    "       ['Karan',34,'C']]\n",
    "data\n",
    "\n",
    "col = ['Name','Age','Section']"
   ]
  },
  {
   "cell_type": "code",
   "execution_count": 42,
   "id": "a47232a6",
   "metadata": {},
   "outputs": [
    {
     "data": {
      "text/html": [
       "<div>\n",
       "<style scoped>\n",
       "    .dataframe tbody tr th:only-of-type {\n",
       "        vertical-align: middle;\n",
       "    }\n",
       "\n",
       "    .dataframe tbody tr th {\n",
       "        vertical-align: top;\n",
       "    }\n",
       "\n",
       "    .dataframe thead th {\n",
       "        text-align: right;\n",
       "    }\n",
       "</style>\n",
       "<table border=\"1\" class=\"dataframe\">\n",
       "  <thead>\n",
       "    <tr style=\"text-align: right;\">\n",
       "      <th></th>\n",
       "      <th>Name</th>\n",
       "      <th>Age</th>\n",
       "      <th>Section</th>\n",
       "    </tr>\n",
       "  </thead>\n",
       "  <tbody>\n",
       "    <tr>\n",
       "      <th>0</th>\n",
       "      <td>Mohan</td>\n",
       "      <td>23</td>\n",
       "      <td>A</td>\n",
       "    </tr>\n",
       "    <tr>\n",
       "      <th>1</th>\n",
       "      <td>Ravi</td>\n",
       "      <td>24</td>\n",
       "      <td>B</td>\n",
       "    </tr>\n",
       "    <tr>\n",
       "      <th>2</th>\n",
       "      <td>Karan</td>\n",
       "      <td>34</td>\n",
       "      <td>C</td>\n",
       "    </tr>\n",
       "  </tbody>\n",
       "</table>\n",
       "</div>"
      ],
      "text/plain": [
       "    Name  Age Section\n",
       "0  Mohan   23       A\n",
       "1   Ravi   24       B\n",
       "2  Karan   34       C"
      ]
     },
     "execution_count": 42,
     "metadata": {},
     "output_type": "execute_result"
    }
   ],
   "source": [
    "df = pd.DataFrame(data,columns=col)\n",
    "df"
   ]
  },
  {
   "cell_type": "code",
   "execution_count": 45,
   "id": "1caa8e08",
   "metadata": {},
   "outputs": [
    {
     "name": "stdout",
     "output_type": "stream",
     "text": [
      "<class 'pandas.core.frame.DataFrame'>\n",
      "RangeIndex: 3 entries, 0 to 2\n",
      "Data columns (total 3 columns):\n",
      " #   Column   Non-Null Count  Dtype \n",
      "---  ------   --------------  ----- \n",
      " 0   Name     3 non-null      object\n",
      " 1   Age      3 non-null      int64 \n",
      " 2   Section  3 non-null      object\n",
      "dtypes: int64(1), object(2)\n",
      "memory usage: 204.0+ bytes\n"
     ]
    }
   ],
   "source": [
    "df.info()"
   ]
  },
  {
   "cell_type": "code",
   "execution_count": 48,
   "id": "43f416a9",
   "metadata": {},
   "outputs": [
    {
     "data": {
      "text/plain": [
       "(('Rohan', 23, 'A'), ('Kavi', 24, 'B'), ('Karan', 34, 'C'))"
      ]
     },
     "execution_count": 48,
     "metadata": {},
     "output_type": "execute_result"
    }
   ],
   "source": [
    "# tuple to df\n",
    "\n",
    "data = (('Rohan',23,'A'),\n",
    "        ('Kavi',24,'B'),\n",
    "       ('Karan',34,'C'))\n",
    "data\n",
    "\n",
    "# col = ['Name','Age','Section']\n",
    "\n",
    "data"
   ]
  },
  {
   "cell_type": "code",
   "execution_count": 50,
   "id": "da063906",
   "metadata": {},
   "outputs": [
    {
     "data": {
      "text/html": [
       "<div>\n",
       "<style scoped>\n",
       "    .dataframe tbody tr th:only-of-type {\n",
       "        vertical-align: middle;\n",
       "    }\n",
       "\n",
       "    .dataframe tbody tr th {\n",
       "        vertical-align: top;\n",
       "    }\n",
       "\n",
       "    .dataframe thead th {\n",
       "        text-align: right;\n",
       "    }\n",
       "</style>\n",
       "<table border=\"1\" class=\"dataframe\">\n",
       "  <thead>\n",
       "    <tr style=\"text-align: right;\">\n",
       "      <th></th>\n",
       "      <th>0</th>\n",
       "      <th>1</th>\n",
       "      <th>2</th>\n",
       "    </tr>\n",
       "  </thead>\n",
       "  <tbody>\n",
       "    <tr>\n",
       "      <th>0</th>\n",
       "      <td>Rohan</td>\n",
       "      <td>23</td>\n",
       "      <td>A</td>\n",
       "    </tr>\n",
       "    <tr>\n",
       "      <th>1</th>\n",
       "      <td>Kavi</td>\n",
       "      <td>24</td>\n",
       "      <td>B</td>\n",
       "    </tr>\n",
       "    <tr>\n",
       "      <th>2</th>\n",
       "      <td>Karan</td>\n",
       "      <td>34</td>\n",
       "      <td>C</td>\n",
       "    </tr>\n",
       "  </tbody>\n",
       "</table>\n",
       "</div>"
      ],
      "text/plain": [
       "       0   1  2\n",
       "0  Rohan  23  A\n",
       "1   Kavi  24  B\n",
       "2  Karan  34  C"
      ]
     },
     "execution_count": 50,
     "metadata": {},
     "output_type": "execute_result"
    }
   ],
   "source": [
    "df = pd.DataFrame(data)\n",
    "df"
   ]
  },
  {
   "cell_type": "code",
   "execution_count": 52,
   "id": "5412b983",
   "metadata": {},
   "outputs": [],
   "source": [
    "df.columns = ['Name','Age','Section']"
   ]
  },
  {
   "cell_type": "code",
   "execution_count": 53,
   "id": "f8ec29e4",
   "metadata": {},
   "outputs": [
    {
     "data": {
      "text/html": [
       "<div>\n",
       "<style scoped>\n",
       "    .dataframe tbody tr th:only-of-type {\n",
       "        vertical-align: middle;\n",
       "    }\n",
       "\n",
       "    .dataframe tbody tr th {\n",
       "        vertical-align: top;\n",
       "    }\n",
       "\n",
       "    .dataframe thead th {\n",
       "        text-align: right;\n",
       "    }\n",
       "</style>\n",
       "<table border=\"1\" class=\"dataframe\">\n",
       "  <thead>\n",
       "    <tr style=\"text-align: right;\">\n",
       "      <th></th>\n",
       "      <th>Name</th>\n",
       "      <th>Age</th>\n",
       "      <th>Section</th>\n",
       "    </tr>\n",
       "  </thead>\n",
       "  <tbody>\n",
       "    <tr>\n",
       "      <th>0</th>\n",
       "      <td>Rohan</td>\n",
       "      <td>23</td>\n",
       "      <td>A</td>\n",
       "    </tr>\n",
       "    <tr>\n",
       "      <th>1</th>\n",
       "      <td>Kavi</td>\n",
       "      <td>24</td>\n",
       "      <td>B</td>\n",
       "    </tr>\n",
       "    <tr>\n",
       "      <th>2</th>\n",
       "      <td>Karan</td>\n",
       "      <td>34</td>\n",
       "      <td>C</td>\n",
       "    </tr>\n",
       "  </tbody>\n",
       "</table>\n",
       "</div>"
      ],
      "text/plain": [
       "    Name  Age Section\n",
       "0  Rohan   23       A\n",
       "1   Kavi   24       B\n",
       "2  Karan   34       C"
      ]
     },
     "execution_count": 53,
     "metadata": {},
     "output_type": "execute_result"
    }
   ],
   "source": [
    "df"
   ]
  },
  {
   "cell_type": "code",
   "execution_count": 54,
   "id": "675e2b30",
   "metadata": {},
   "outputs": [
    {
     "data": {
      "text/plain": [
       "RangeIndex(start=0, stop=3, step=1)"
      ]
     },
     "execution_count": 54,
     "metadata": {},
     "output_type": "execute_result"
    }
   ],
   "source": [
    "df.index"
   ]
  },
  {
   "cell_type": "code",
   "execution_count": 55,
   "id": "d916f52a",
   "metadata": {},
   "outputs": [],
   "source": [
    "df.index = ['A0','A1','A2']"
   ]
  },
  {
   "cell_type": "code",
   "execution_count": 56,
   "id": "3def8ec5",
   "metadata": {},
   "outputs": [
    {
     "data": {
      "text/html": [
       "<div>\n",
       "<style scoped>\n",
       "    .dataframe tbody tr th:only-of-type {\n",
       "        vertical-align: middle;\n",
       "    }\n",
       "\n",
       "    .dataframe tbody tr th {\n",
       "        vertical-align: top;\n",
       "    }\n",
       "\n",
       "    .dataframe thead th {\n",
       "        text-align: right;\n",
       "    }\n",
       "</style>\n",
       "<table border=\"1\" class=\"dataframe\">\n",
       "  <thead>\n",
       "    <tr style=\"text-align: right;\">\n",
       "      <th></th>\n",
       "      <th>Name</th>\n",
       "      <th>Age</th>\n",
       "      <th>Section</th>\n",
       "    </tr>\n",
       "  </thead>\n",
       "  <tbody>\n",
       "    <tr>\n",
       "      <th>A0</th>\n",
       "      <td>Rohan</td>\n",
       "      <td>23</td>\n",
       "      <td>A</td>\n",
       "    </tr>\n",
       "    <tr>\n",
       "      <th>A1</th>\n",
       "      <td>Kavi</td>\n",
       "      <td>24</td>\n",
       "      <td>B</td>\n",
       "    </tr>\n",
       "    <tr>\n",
       "      <th>A2</th>\n",
       "      <td>Karan</td>\n",
       "      <td>34</td>\n",
       "      <td>C</td>\n",
       "    </tr>\n",
       "  </tbody>\n",
       "</table>\n",
       "</div>"
      ],
      "text/plain": [
       "     Name  Age Section\n",
       "A0  Rohan   23       A\n",
       "A1   Kavi   24       B\n",
       "A2  Karan   34       C"
      ]
     },
     "execution_count": 56,
     "metadata": {},
     "output_type": "execute_result"
    }
   ],
   "source": [
    "df"
   ]
  },
  {
   "cell_type": "code",
   "execution_count": 58,
   "id": "06f21334",
   "metadata": {},
   "outputs": [],
   "source": [
    "df.index = range(0,3)"
   ]
  },
  {
   "cell_type": "code",
   "execution_count": 59,
   "id": "b5448e26",
   "metadata": {},
   "outputs": [
    {
     "data": {
      "text/html": [
       "<div>\n",
       "<style scoped>\n",
       "    .dataframe tbody tr th:only-of-type {\n",
       "        vertical-align: middle;\n",
       "    }\n",
       "\n",
       "    .dataframe tbody tr th {\n",
       "        vertical-align: top;\n",
       "    }\n",
       "\n",
       "    .dataframe thead th {\n",
       "        text-align: right;\n",
       "    }\n",
       "</style>\n",
       "<table border=\"1\" class=\"dataframe\">\n",
       "  <thead>\n",
       "    <tr style=\"text-align: right;\">\n",
       "      <th></th>\n",
       "      <th>Name</th>\n",
       "      <th>Age</th>\n",
       "      <th>Section</th>\n",
       "    </tr>\n",
       "  </thead>\n",
       "  <tbody>\n",
       "    <tr>\n",
       "      <th>0</th>\n",
       "      <td>Rohan</td>\n",
       "      <td>23</td>\n",
       "      <td>A</td>\n",
       "    </tr>\n",
       "    <tr>\n",
       "      <th>1</th>\n",
       "      <td>Kavi</td>\n",
       "      <td>24</td>\n",
       "      <td>B</td>\n",
       "    </tr>\n",
       "    <tr>\n",
       "      <th>2</th>\n",
       "      <td>Karan</td>\n",
       "      <td>34</td>\n",
       "      <td>C</td>\n",
       "    </tr>\n",
       "  </tbody>\n",
       "</table>\n",
       "</div>"
      ],
      "text/plain": [
       "    Name  Age Section\n",
       "0  Rohan   23       A\n",
       "1   Kavi   24       B\n",
       "2  Karan   34       C"
      ]
     },
     "execution_count": 59,
     "metadata": {},
     "output_type": "execute_result"
    }
   ],
   "source": [
    "df"
   ]
  },
  {
   "cell_type": "code",
   "execution_count": 60,
   "id": "10055c97",
   "metadata": {},
   "outputs": [],
   "source": [
    "df['Class'] = [12,11,5]"
   ]
  },
  {
   "cell_type": "code",
   "execution_count": 61,
   "id": "ea3e7dfd",
   "metadata": {},
   "outputs": [
    {
     "data": {
      "text/html": [
       "<div>\n",
       "<style scoped>\n",
       "    .dataframe tbody tr th:only-of-type {\n",
       "        vertical-align: middle;\n",
       "    }\n",
       "\n",
       "    .dataframe tbody tr th {\n",
       "        vertical-align: top;\n",
       "    }\n",
       "\n",
       "    .dataframe thead th {\n",
       "        text-align: right;\n",
       "    }\n",
       "</style>\n",
       "<table border=\"1\" class=\"dataframe\">\n",
       "  <thead>\n",
       "    <tr style=\"text-align: right;\">\n",
       "      <th></th>\n",
       "      <th>Name</th>\n",
       "      <th>Age</th>\n",
       "      <th>Section</th>\n",
       "      <th>Class</th>\n",
       "    </tr>\n",
       "  </thead>\n",
       "  <tbody>\n",
       "    <tr>\n",
       "      <th>0</th>\n",
       "      <td>Rohan</td>\n",
       "      <td>23</td>\n",
       "      <td>A</td>\n",
       "      <td>12</td>\n",
       "    </tr>\n",
       "    <tr>\n",
       "      <th>1</th>\n",
       "      <td>Kavi</td>\n",
       "      <td>24</td>\n",
       "      <td>B</td>\n",
       "      <td>11</td>\n",
       "    </tr>\n",
       "    <tr>\n",
       "      <th>2</th>\n",
       "      <td>Karan</td>\n",
       "      <td>34</td>\n",
       "      <td>C</td>\n",
       "      <td>5</td>\n",
       "    </tr>\n",
       "  </tbody>\n",
       "</table>\n",
       "</div>"
      ],
      "text/plain": [
       "    Name  Age Section  Class\n",
       "0  Rohan   23       A     12\n",
       "1   Kavi   24       B     11\n",
       "2  Karan   34       C      5"
      ]
     },
     "execution_count": 61,
     "metadata": {},
     "output_type": "execute_result"
    }
   ],
   "source": [
    "df"
   ]
  },
  {
   "cell_type": "code",
   "execution_count": 72,
   "id": "5e196f72",
   "metadata": {},
   "outputs": [],
   "source": [
    "df['name'] = ['Ajay','Akshay','Sumit']"
   ]
  },
  {
   "cell_type": "code",
   "execution_count": 73,
   "id": "eb7a540b",
   "metadata": {},
   "outputs": [],
   "source": [
    "df.drop('name',axis=1,inplace=True)"
   ]
  },
  {
   "cell_type": "code",
   "execution_count": 74,
   "id": "a8bbd6a1",
   "metadata": {},
   "outputs": [
    {
     "data": {
      "text/html": [
       "<div>\n",
       "<style scoped>\n",
       "    .dataframe tbody tr th:only-of-type {\n",
       "        vertical-align: middle;\n",
       "    }\n",
       "\n",
       "    .dataframe tbody tr th {\n",
       "        vertical-align: top;\n",
       "    }\n",
       "\n",
       "    .dataframe thead th {\n",
       "        text-align: right;\n",
       "    }\n",
       "</style>\n",
       "<table border=\"1\" class=\"dataframe\">\n",
       "  <thead>\n",
       "    <tr style=\"text-align: right;\">\n",
       "      <th></th>\n",
       "      <th>Name</th>\n",
       "      <th>Age</th>\n",
       "      <th>Section</th>\n",
       "      <th>Class</th>\n",
       "    </tr>\n",
       "  </thead>\n",
       "  <tbody>\n",
       "    <tr>\n",
       "      <th>0</th>\n",
       "      <td>Rohan</td>\n",
       "      <td>23</td>\n",
       "      <td>A</td>\n",
       "      <td>12</td>\n",
       "    </tr>\n",
       "    <tr>\n",
       "      <th>1</th>\n",
       "      <td>Kavi</td>\n",
       "      <td>24</td>\n",
       "      <td>B</td>\n",
       "      <td>11</td>\n",
       "    </tr>\n",
       "    <tr>\n",
       "      <th>2</th>\n",
       "      <td>Karan</td>\n",
       "      <td>34</td>\n",
       "      <td>C</td>\n",
       "      <td>5</td>\n",
       "    </tr>\n",
       "  </tbody>\n",
       "</table>\n",
       "</div>"
      ],
      "text/plain": [
       "    Name  Age Section  Class\n",
       "0  Rohan   23       A     12\n",
       "1   Kavi   24       B     11\n",
       "2  Karan   34       C      5"
      ]
     },
     "execution_count": 74,
     "metadata": {},
     "output_type": "execute_result"
    }
   ],
   "source": [
    "df"
   ]
  },
  {
   "cell_type": "code",
   "execution_count": 84,
   "id": "b34ebbda",
   "metadata": {},
   "outputs": [],
   "source": [
    "# numpy to df\n",
    "df = pd.DataFrame(np.full((5,5),5))\n",
    "df.columns = ['Col_'+str(i) for i in range(len(df))]"
   ]
  },
  {
   "cell_type": "code",
   "execution_count": 83,
   "id": "5cd8642e",
   "metadata": {},
   "outputs": [
    {
     "data": {
      "text/html": [
       "<div>\n",
       "<style scoped>\n",
       "    .dataframe tbody tr th:only-of-type {\n",
       "        vertical-align: middle;\n",
       "    }\n",
       "\n",
       "    .dataframe tbody tr th {\n",
       "        vertical-align: top;\n",
       "    }\n",
       "\n",
       "    .dataframe thead th {\n",
       "        text-align: right;\n",
       "    }\n",
       "</style>\n",
       "<table border=\"1\" class=\"dataframe\">\n",
       "  <thead>\n",
       "    <tr style=\"text-align: right;\">\n",
       "      <th></th>\n",
       "      <th>Col_0</th>\n",
       "      <th>Col_1</th>\n",
       "      <th>Col_2</th>\n",
       "      <th>Col_3</th>\n",
       "      <th>Col_4</th>\n",
       "    </tr>\n",
       "  </thead>\n",
       "  <tbody>\n",
       "    <tr>\n",
       "      <th>0</th>\n",
       "      <td>5</td>\n",
       "      <td>5</td>\n",
       "      <td>5</td>\n",
       "      <td>5</td>\n",
       "      <td>5</td>\n",
       "    </tr>\n",
       "    <tr>\n",
       "      <th>1</th>\n",
       "      <td>5</td>\n",
       "      <td>5</td>\n",
       "      <td>5</td>\n",
       "      <td>5</td>\n",
       "      <td>5</td>\n",
       "    </tr>\n",
       "    <tr>\n",
       "      <th>2</th>\n",
       "      <td>5</td>\n",
       "      <td>5</td>\n",
       "      <td>5</td>\n",
       "      <td>5</td>\n",
       "      <td>5</td>\n",
       "    </tr>\n",
       "    <tr>\n",
       "      <th>3</th>\n",
       "      <td>5</td>\n",
       "      <td>5</td>\n",
       "      <td>5</td>\n",
       "      <td>5</td>\n",
       "      <td>5</td>\n",
       "    </tr>\n",
       "    <tr>\n",
       "      <th>4</th>\n",
       "      <td>5</td>\n",
       "      <td>5</td>\n",
       "      <td>5</td>\n",
       "      <td>5</td>\n",
       "      <td>5</td>\n",
       "    </tr>\n",
       "  </tbody>\n",
       "</table>\n",
       "</div>"
      ],
      "text/plain": [
       "   Col_0  Col_1  Col_2  Col_3  Col_4\n",
       "0      5      5      5      5      5\n",
       "1      5      5      5      5      5\n",
       "2      5      5      5      5      5\n",
       "3      5      5      5      5      5\n",
       "4      5      5      5      5      5"
      ]
     },
     "execution_count": 83,
     "metadata": {},
     "output_type": "execute_result"
    }
   ],
   "source": [
    "df"
   ]
  },
  {
   "cell_type": "code",
   "execution_count": 85,
   "id": "f6d950ae",
   "metadata": {},
   "outputs": [],
   "source": [
    "# series to df"
   ]
  },
  {
   "cell_type": "code",
   "execution_count": 92,
   "id": "aba00977",
   "metadata": {},
   "outputs": [
    {
     "data": {
      "text/html": [
       "<div>\n",
       "<style scoped>\n",
       "    .dataframe tbody tr th:only-of-type {\n",
       "        vertical-align: middle;\n",
       "    }\n",
       "\n",
       "    .dataframe tbody tr th {\n",
       "        vertical-align: top;\n",
       "    }\n",
       "\n",
       "    .dataframe thead th {\n",
       "        text-align: right;\n",
       "    }\n",
       "</style>\n",
       "<table border=\"1\" class=\"dataframe\">\n",
       "  <thead>\n",
       "    <tr style=\"text-align: right;\">\n",
       "      <th></th>\n",
       "      <th>Names</th>\n",
       "      <th>Age</th>\n",
       "      <th>Class</th>\n",
       "    </tr>\n",
       "  </thead>\n",
       "  <tbody>\n",
       "    <tr>\n",
       "      <th>0</th>\n",
       "      <td>Karan</td>\n",
       "      <td>12</td>\n",
       "      <td>11</td>\n",
       "    </tr>\n",
       "    <tr>\n",
       "      <th>1</th>\n",
       "      <td>Madan</td>\n",
       "      <td>13</td>\n",
       "      <td>11</td>\n",
       "    </tr>\n",
       "    <tr>\n",
       "      <th>2</th>\n",
       "      <td>Rohan</td>\n",
       "      <td>14</td>\n",
       "      <td>12</td>\n",
       "    </tr>\n",
       "  </tbody>\n",
       "</table>\n",
       "</div>"
      ],
      "text/plain": [
       "   Names Age Class\n",
       "0  Karan  12    11\n",
       "1  Madan  13    11\n",
       "2  Rohan  14    12"
      ]
     },
     "execution_count": 92,
     "metadata": {},
     "output_type": "execute_result"
    }
   ],
   "source": [
    "s1 = pd.Series(['Karan','Madan','Rohan'],name='Names')\n",
    "s2 = pd.Series([12,13,14],name='Age')\n",
    "s3 = pd.Series([11,11,12],name ='Class')\n",
    "\n",
    "df = pd.DataFrame([s1,s2,s3]).T\n",
    "df"
   ]
  },
  {
   "cell_type": "code",
   "execution_count": 93,
   "id": "fed47271",
   "metadata": {},
   "outputs": [
    {
     "data": {
      "text/html": [
       "<div>\n",
       "<style scoped>\n",
       "    .dataframe tbody tr th:only-of-type {\n",
       "        vertical-align: middle;\n",
       "    }\n",
       "\n",
       "    .dataframe tbody tr th {\n",
       "        vertical-align: top;\n",
       "    }\n",
       "\n",
       "    .dataframe thead th {\n",
       "        text-align: right;\n",
       "    }\n",
       "</style>\n",
       "<table border=\"1\" class=\"dataframe\">\n",
       "  <thead>\n",
       "    <tr style=\"text-align: right;\">\n",
       "      <th></th>\n",
       "    </tr>\n",
       "  </thead>\n",
       "  <tbody>\n",
       "  </tbody>\n",
       "</table>\n",
       "</div>"
      ],
      "text/plain": [
       "Empty DataFrame\n",
       "Columns: []\n",
       "Index: []"
      ]
     },
     "execution_count": 93,
     "metadata": {},
     "output_type": "execute_result"
    }
   ],
   "source": [
    "# empty df\n",
    "\n",
    "empty_df = pd.DataFrame()\n",
    "empty_df"
   ]
  },
  {
   "cell_type": "code",
   "execution_count": 94,
   "id": "ddb13d10",
   "metadata": {},
   "outputs": [
    {
     "data": {
      "text/plain": [
       "0"
      ]
     },
     "execution_count": 94,
     "metadata": {},
     "output_type": "execute_result"
    }
   ],
   "source": [
    "len(empty_df)"
   ]
  },
  {
   "cell_type": "code",
   "execution_count": 95,
   "id": "0fef1f22",
   "metadata": {},
   "outputs": [],
   "source": [
    "empty_df['Age'] = [1,2,3]"
   ]
  },
  {
   "cell_type": "code",
   "execution_count": 96,
   "id": "ea320c09",
   "metadata": {},
   "outputs": [
    {
     "data": {
      "text/html": [
       "<div>\n",
       "<style scoped>\n",
       "    .dataframe tbody tr th:only-of-type {\n",
       "        vertical-align: middle;\n",
       "    }\n",
       "\n",
       "    .dataframe tbody tr th {\n",
       "        vertical-align: top;\n",
       "    }\n",
       "\n",
       "    .dataframe thead th {\n",
       "        text-align: right;\n",
       "    }\n",
       "</style>\n",
       "<table border=\"1\" class=\"dataframe\">\n",
       "  <thead>\n",
       "    <tr style=\"text-align: right;\">\n",
       "      <th></th>\n",
       "      <th>Age</th>\n",
       "    </tr>\n",
       "  </thead>\n",
       "  <tbody>\n",
       "    <tr>\n",
       "      <th>0</th>\n",
       "      <td>1</td>\n",
       "    </tr>\n",
       "    <tr>\n",
       "      <th>1</th>\n",
       "      <td>2</td>\n",
       "    </tr>\n",
       "    <tr>\n",
       "      <th>2</th>\n",
       "      <td>3</td>\n",
       "    </tr>\n",
       "  </tbody>\n",
       "</table>\n",
       "</div>"
      ],
      "text/plain": [
       "   Age\n",
       "0    1\n",
       "1    2\n",
       "2    3"
      ]
     },
     "execution_count": 96,
     "metadata": {},
     "output_type": "execute_result"
    }
   ],
   "source": [
    "empty_df"
   ]
  },
  {
   "cell_type": "code",
   "execution_count": 97,
   "id": "d2a2b6a6",
   "metadata": {},
   "outputs": [],
   "source": [
    "empty_df['Name'] = ['Aman','Ravi','Karan']"
   ]
  },
  {
   "cell_type": "code",
   "execution_count": 98,
   "id": "1ad934cf",
   "metadata": {},
   "outputs": [
    {
     "data": {
      "text/html": [
       "<div>\n",
       "<style scoped>\n",
       "    .dataframe tbody tr th:only-of-type {\n",
       "        vertical-align: middle;\n",
       "    }\n",
       "\n",
       "    .dataframe tbody tr th {\n",
       "        vertical-align: top;\n",
       "    }\n",
       "\n",
       "    .dataframe thead th {\n",
       "        text-align: right;\n",
       "    }\n",
       "</style>\n",
       "<table border=\"1\" class=\"dataframe\">\n",
       "  <thead>\n",
       "    <tr style=\"text-align: right;\">\n",
       "      <th></th>\n",
       "      <th>Age</th>\n",
       "      <th>Name</th>\n",
       "    </tr>\n",
       "  </thead>\n",
       "  <tbody>\n",
       "    <tr>\n",
       "      <th>0</th>\n",
       "      <td>1</td>\n",
       "      <td>Aman</td>\n",
       "    </tr>\n",
       "    <tr>\n",
       "      <th>1</th>\n",
       "      <td>2</td>\n",
       "      <td>Ravi</td>\n",
       "    </tr>\n",
       "    <tr>\n",
       "      <th>2</th>\n",
       "      <td>3</td>\n",
       "      <td>Karan</td>\n",
       "    </tr>\n",
       "  </tbody>\n",
       "</table>\n",
       "</div>"
      ],
      "text/plain": [
       "   Age   Name\n",
       "0    1   Aman\n",
       "1    2   Ravi\n",
       "2    3  Karan"
      ]
     },
     "execution_count": 98,
     "metadata": {},
     "output_type": "execute_result"
    }
   ],
   "source": [
    "empty_df"
   ]
  },
  {
   "cell_type": "code",
   "execution_count": 99,
   "id": "10f7737d",
   "metadata": {},
   "outputs": [],
   "source": [
    "del empty_df"
   ]
  },
  {
   "cell_type": "code",
   "execution_count": 100,
   "id": "61ed2192",
   "metadata": {},
   "outputs": [],
   "source": [
    "# file read"
   ]
  },
  {
   "cell_type": "code",
   "execution_count": 102,
   "id": "8073b5ec",
   "metadata": {},
   "outputs": [],
   "source": [
    "# csv,tsv,json,html,xlsx,pdf"
   ]
  },
  {
   "cell_type": "code",
   "execution_count": 105,
   "id": "f08fff5c",
   "metadata": {},
   "outputs": [
    {
     "data": {
      "text/html": [
       "<div>\n",
       "<style scoped>\n",
       "    .dataframe tbody tr th:only-of-type {\n",
       "        vertical-align: middle;\n",
       "    }\n",
       "\n",
       "    .dataframe tbody tr th {\n",
       "        vertical-align: top;\n",
       "    }\n",
       "\n",
       "    .dataframe thead th {\n",
       "        text-align: right;\n",
       "    }\n",
       "</style>\n",
       "<table border=\"1\" class=\"dataframe\">\n",
       "  <thead>\n",
       "    <tr style=\"text-align: right;\">\n",
       "      <th></th>\n",
       "      <th>Industry</th>\n",
       "    </tr>\n",
       "  </thead>\n",
       "  <tbody>\n",
       "    <tr>\n",
       "      <th>0</th>\n",
       "      <td>Accounting/Finance</td>\n",
       "    </tr>\n",
       "    <tr>\n",
       "      <th>1</th>\n",
       "      <td>Advertising/Public Relations</td>\n",
       "    </tr>\n",
       "    <tr>\n",
       "      <th>2</th>\n",
       "      <td>Aerospace/Aviation</td>\n",
       "    </tr>\n",
       "    <tr>\n",
       "      <th>3</th>\n",
       "      <td>Arts/Entertainment/Publishing</td>\n",
       "    </tr>\n",
       "    <tr>\n",
       "      <th>4</th>\n",
       "      <td>Automotive</td>\n",
       "    </tr>\n",
       "    <tr>\n",
       "      <th>5</th>\n",
       "      <td>Banking/Mortgage</td>\n",
       "    </tr>\n",
       "    <tr>\n",
       "      <th>6</th>\n",
       "      <td>Business Development</td>\n",
       "    </tr>\n",
       "    <tr>\n",
       "      <th>7</th>\n",
       "      <td>Business Opportunity</td>\n",
       "    </tr>\n",
       "    <tr>\n",
       "      <th>8</th>\n",
       "      <td>Clerical/Administrative</td>\n",
       "    </tr>\n",
       "    <tr>\n",
       "      <th>9</th>\n",
       "      <td>Construction/Facilities</td>\n",
       "    </tr>\n",
       "    <tr>\n",
       "      <th>10</th>\n",
       "      <td>Consumer Goods</td>\n",
       "    </tr>\n",
       "    <tr>\n",
       "      <th>11</th>\n",
       "      <td>Customer Service</td>\n",
       "    </tr>\n",
       "    <tr>\n",
       "      <th>12</th>\n",
       "      <td>Education/Training</td>\n",
       "    </tr>\n",
       "    <tr>\n",
       "      <th>13</th>\n",
       "      <td>Energy/Utilities</td>\n",
       "    </tr>\n",
       "    <tr>\n",
       "      <th>14</th>\n",
       "      <td>Engineering</td>\n",
       "    </tr>\n",
       "    <tr>\n",
       "      <th>15</th>\n",
       "      <td>Government/Military</td>\n",
       "    </tr>\n",
       "    <tr>\n",
       "      <th>16</th>\n",
       "      <td>Green</td>\n",
       "    </tr>\n",
       "    <tr>\n",
       "      <th>17</th>\n",
       "      <td>Healthcare</td>\n",
       "    </tr>\n",
       "    <tr>\n",
       "      <th>18</th>\n",
       "      <td>Hospitality/Travel</td>\n",
       "    </tr>\n",
       "    <tr>\n",
       "      <th>19</th>\n",
       "      <td>Human Resources</td>\n",
       "    </tr>\n",
       "    <tr>\n",
       "      <th>20</th>\n",
       "      <td>Installation/Maintenance</td>\n",
       "    </tr>\n",
       "    <tr>\n",
       "      <th>21</th>\n",
       "      <td>Insurance</td>\n",
       "    </tr>\n",
       "    <tr>\n",
       "      <th>22</th>\n",
       "      <td>Internet</td>\n",
       "    </tr>\n",
       "    <tr>\n",
       "      <th>23</th>\n",
       "      <td>Job Search Aids</td>\n",
       "    </tr>\n",
       "    <tr>\n",
       "      <th>24</th>\n",
       "      <td>Law Enforcement/Security</td>\n",
       "    </tr>\n",
       "    <tr>\n",
       "      <th>25</th>\n",
       "      <td>Legal</td>\n",
       "    </tr>\n",
       "    <tr>\n",
       "      <th>26</th>\n",
       "      <td>Management/Executive</td>\n",
       "    </tr>\n",
       "    <tr>\n",
       "      <th>27</th>\n",
       "      <td>Manufacturing/Operations</td>\n",
       "    </tr>\n",
       "    <tr>\n",
       "      <th>28</th>\n",
       "      <td>Marketing</td>\n",
       "    </tr>\n",
       "    <tr>\n",
       "      <th>29</th>\n",
       "      <td>Non-Profit/Volunteer</td>\n",
       "    </tr>\n",
       "    <tr>\n",
       "      <th>30</th>\n",
       "      <td>Pharmaceutical/Biotech</td>\n",
       "    </tr>\n",
       "    <tr>\n",
       "      <th>31</th>\n",
       "      <td>Professional Services</td>\n",
       "    </tr>\n",
       "    <tr>\n",
       "      <th>32</th>\n",
       "      <td>QA/Quality Control</td>\n",
       "    </tr>\n",
       "    <tr>\n",
       "      <th>33</th>\n",
       "      <td>Real Estate</td>\n",
       "    </tr>\n",
       "    <tr>\n",
       "      <th>34</th>\n",
       "      <td>Restaurant/Food Service</td>\n",
       "    </tr>\n",
       "    <tr>\n",
       "      <th>35</th>\n",
       "      <td>Retail</td>\n",
       "    </tr>\n",
       "    <tr>\n",
       "      <th>36</th>\n",
       "      <td>Sales</td>\n",
       "    </tr>\n",
       "    <tr>\n",
       "      <th>37</th>\n",
       "      <td>Science/Research</td>\n",
       "    </tr>\n",
       "    <tr>\n",
       "      <th>38</th>\n",
       "      <td>Skilled Labor</td>\n",
       "    </tr>\n",
       "    <tr>\n",
       "      <th>39</th>\n",
       "      <td>Technology</td>\n",
       "    </tr>\n",
       "    <tr>\n",
       "      <th>40</th>\n",
       "      <td>Telecommunications</td>\n",
       "    </tr>\n",
       "    <tr>\n",
       "      <th>41</th>\n",
       "      <td>Transportation/Logistics</td>\n",
       "    </tr>\n",
       "    <tr>\n",
       "      <th>42</th>\n",
       "      <td>Other</td>\n",
       "    </tr>\n",
       "  </tbody>\n",
       "</table>\n",
       "</div>"
      ],
      "text/plain": [
       "                         Industry\n",
       "0              Accounting/Finance\n",
       "1    Advertising/Public Relations\n",
       "2              Aerospace/Aviation\n",
       "3   Arts/Entertainment/Publishing\n",
       "4                      Automotive\n",
       "5                Banking/Mortgage\n",
       "6            Business Development\n",
       "7            Business Opportunity\n",
       "8         Clerical/Administrative\n",
       "9         Construction/Facilities\n",
       "10                 Consumer Goods\n",
       "11               Customer Service\n",
       "12             Education/Training\n",
       "13               Energy/Utilities\n",
       "14                    Engineering\n",
       "15            Government/Military\n",
       "16                          Green\n",
       "17                     Healthcare\n",
       "18             Hospitality/Travel\n",
       "19                Human Resources\n",
       "20       Installation/Maintenance\n",
       "21                      Insurance\n",
       "22                       Internet\n",
       "23                Job Search Aids\n",
       "24       Law Enforcement/Security\n",
       "25                          Legal\n",
       "26           Management/Executive\n",
       "27       Manufacturing/Operations\n",
       "28                      Marketing\n",
       "29           Non-Profit/Volunteer\n",
       "30         Pharmaceutical/Biotech\n",
       "31          Professional Services\n",
       "32             QA/Quality Control\n",
       "33                    Real Estate\n",
       "34        Restaurant/Food Service\n",
       "35                         Retail\n",
       "36                          Sales\n",
       "37               Science/Research\n",
       "38                  Skilled Labor\n",
       "39                     Technology\n",
       "40             Telecommunications\n",
       "41       Transportation/Logistics\n",
       "42                          Other"
      ]
     },
     "execution_count": 105,
     "metadata": {},
     "output_type": "execute_result"
    }
   ],
   "source": [
    "df = pd.read_csv(r'C:\\Users\\Lenovo\\Downloads\\industry.csv')\n",
    "df"
   ]
  },
  {
   "cell_type": "code",
   "execution_count": 106,
   "id": "15b4bd42",
   "metadata": {},
   "outputs": [
    {
     "data": {
      "text/html": [
       "<div>\n",
       "<style scoped>\n",
       "    .dataframe tbody tr th:only-of-type {\n",
       "        vertical-align: middle;\n",
       "    }\n",
       "\n",
       "    .dataframe tbody tr th {\n",
       "        vertical-align: top;\n",
       "    }\n",
       "\n",
       "    .dataframe thead th {\n",
       "        text-align: right;\n",
       "    }\n",
       "</style>\n",
       "<table border=\"1\" class=\"dataframe\">\n",
       "  <thead>\n",
       "    <tr style=\"text-align: right;\">\n",
       "      <th></th>\n",
       "      <th>Food ID</th>\n",
       "      <th>Food Item</th>\n",
       "      <th>Price</th>\n",
       "    </tr>\n",
       "  </thead>\n",
       "  <tbody>\n",
       "    <tr>\n",
       "      <th>0</th>\n",
       "      <td>1</td>\n",
       "      <td>Sushi</td>\n",
       "      <td>3.99</td>\n",
       "    </tr>\n",
       "    <tr>\n",
       "      <th>1</th>\n",
       "      <td>2</td>\n",
       "      <td>Burrito</td>\n",
       "      <td>9.99</td>\n",
       "    </tr>\n",
       "    <tr>\n",
       "      <th>2</th>\n",
       "      <td>3</td>\n",
       "      <td>Taco</td>\n",
       "      <td>2.99</td>\n",
       "    </tr>\n",
       "    <tr>\n",
       "      <th>3</th>\n",
       "      <td>4</td>\n",
       "      <td>Quesadilla</td>\n",
       "      <td>4.25</td>\n",
       "    </tr>\n",
       "    <tr>\n",
       "      <th>4</th>\n",
       "      <td>5</td>\n",
       "      <td>Pizza</td>\n",
       "      <td>2.49</td>\n",
       "    </tr>\n",
       "    <tr>\n",
       "      <th>5</th>\n",
       "      <td>6</td>\n",
       "      <td>Pasta</td>\n",
       "      <td>13.99</td>\n",
       "    </tr>\n",
       "    <tr>\n",
       "      <th>6</th>\n",
       "      <td>7</td>\n",
       "      <td>Steak</td>\n",
       "      <td>24.99</td>\n",
       "    </tr>\n",
       "    <tr>\n",
       "      <th>7</th>\n",
       "      <td>8</td>\n",
       "      <td>Salad</td>\n",
       "      <td>11.25</td>\n",
       "    </tr>\n",
       "    <tr>\n",
       "      <th>8</th>\n",
       "      <td>9</td>\n",
       "      <td>Donut</td>\n",
       "      <td>0.99</td>\n",
       "    </tr>\n",
       "    <tr>\n",
       "      <th>9</th>\n",
       "      <td>10</td>\n",
       "      <td>Drink</td>\n",
       "      <td>1.75</td>\n",
       "    </tr>\n",
       "  </tbody>\n",
       "</table>\n",
       "</div>"
      ],
      "text/plain": [
       "   Food ID   Food Item  Price\n",
       "0        1       Sushi   3.99\n",
       "1        2     Burrito   9.99\n",
       "2        3        Taco   2.99\n",
       "3        4  Quesadilla   4.25\n",
       "4        5       Pizza   2.49\n",
       "5        6       Pasta  13.99\n",
       "6        7       Steak  24.99\n",
       "7        8       Salad  11.25\n",
       "8        9       Donut   0.99\n",
       "9       10       Drink   1.75"
      ]
     },
     "execution_count": 106,
     "metadata": {},
     "output_type": "execute_result"
    }
   ],
   "source": [
    "df = pd.read_csv(r'C:\\Users\\Lenovo\\Downloads\\Restaurant - Foods.csv')\n",
    "df"
   ]
  },
  {
   "cell_type": "code",
   "execution_count": 107,
   "id": "65f773a3",
   "metadata": {},
   "outputs": [
    {
     "data": {
      "text/plain": [
       "Index(['Food ID', 'Food Item', 'Price'], dtype='object')"
      ]
     },
     "execution_count": 107,
     "metadata": {},
     "output_type": "execute_result"
    }
   ],
   "source": [
    "df.columns"
   ]
  },
  {
   "cell_type": "code",
   "execution_count": 108,
   "id": "82a5c4c0",
   "metadata": {},
   "outputs": [
    {
     "data": {
      "text/plain": [
       "(10, 3)"
      ]
     },
     "execution_count": 108,
     "metadata": {},
     "output_type": "execute_result"
    }
   ],
   "source": [
    "df.shape"
   ]
  },
  {
   "cell_type": "code",
   "execution_count": 109,
   "id": "460bc4d5",
   "metadata": {},
   "outputs": [
    {
     "data": {
      "text/plain": [
       "30"
      ]
     },
     "execution_count": 109,
     "metadata": {},
     "output_type": "execute_result"
    }
   ],
   "source": [
    "df.size"
   ]
  },
  {
   "cell_type": "code",
   "execution_count": 110,
   "id": "d7a1446c",
   "metadata": {},
   "outputs": [
    {
     "name": "stdout",
     "output_type": "stream",
     "text": [
      "<class 'pandas.core.frame.DataFrame'>\n",
      "RangeIndex: 10 entries, 0 to 9\n",
      "Data columns (total 3 columns):\n",
      " #   Column     Non-Null Count  Dtype  \n",
      "---  ------     --------------  -----  \n",
      " 0   Food ID    10 non-null     int64  \n",
      " 1   Food Item  10 non-null     object \n",
      " 2   Price      10 non-null     float64\n",
      "dtypes: float64(1), int64(1), object(1)\n",
      "memory usage: 372.0+ bytes\n"
     ]
    }
   ],
   "source": [
    "df.info()"
   ]
  },
  {
   "cell_type": "code",
   "execution_count": 111,
   "id": "7f824ac2",
   "metadata": {},
   "outputs": [
    {
     "data": {
      "text/html": [
       "<div>\n",
       "<style scoped>\n",
       "    .dataframe tbody tr th:only-of-type {\n",
       "        vertical-align: middle;\n",
       "    }\n",
       "\n",
       "    .dataframe tbody tr th {\n",
       "        vertical-align: top;\n",
       "    }\n",
       "\n",
       "    .dataframe thead th {\n",
       "        text-align: right;\n",
       "    }\n",
       "</style>\n",
       "<table border=\"1\" class=\"dataframe\">\n",
       "  <thead>\n",
       "    <tr style=\"text-align: right;\">\n",
       "      <th></th>\n",
       "      <th>Food ID</th>\n",
       "      <th>Price</th>\n",
       "    </tr>\n",
       "  </thead>\n",
       "  <tbody>\n",
       "    <tr>\n",
       "      <th>count</th>\n",
       "      <td>10.00000</td>\n",
       "      <td>10.000000</td>\n",
       "    </tr>\n",
       "    <tr>\n",
       "      <th>mean</th>\n",
       "      <td>5.50000</td>\n",
       "      <td>7.668000</td>\n",
       "    </tr>\n",
       "    <tr>\n",
       "      <th>std</th>\n",
       "      <td>3.02765</td>\n",
       "      <td>7.540748</td>\n",
       "    </tr>\n",
       "    <tr>\n",
       "      <th>min</th>\n",
       "      <td>1.00000</td>\n",
       "      <td>0.990000</td>\n",
       "    </tr>\n",
       "    <tr>\n",
       "      <th>25%</th>\n",
       "      <td>3.25000</td>\n",
       "      <td>2.615000</td>\n",
       "    </tr>\n",
       "    <tr>\n",
       "      <th>50%</th>\n",
       "      <td>5.50000</td>\n",
       "      <td>4.120000</td>\n",
       "    </tr>\n",
       "    <tr>\n",
       "      <th>75%</th>\n",
       "      <td>7.75000</td>\n",
       "      <td>10.935000</td>\n",
       "    </tr>\n",
       "    <tr>\n",
       "      <th>max</th>\n",
       "      <td>10.00000</td>\n",
       "      <td>24.990000</td>\n",
       "    </tr>\n",
       "  </tbody>\n",
       "</table>\n",
       "</div>"
      ],
      "text/plain": [
       "        Food ID      Price\n",
       "count  10.00000  10.000000\n",
       "mean    5.50000   7.668000\n",
       "std     3.02765   7.540748\n",
       "min     1.00000   0.990000\n",
       "25%     3.25000   2.615000\n",
       "50%     5.50000   4.120000\n",
       "75%     7.75000  10.935000\n",
       "max    10.00000  24.990000"
      ]
     },
     "execution_count": 111,
     "metadata": {},
     "output_type": "execute_result"
    }
   ],
   "source": [
    "df.describe()"
   ]
  },
  {
   "cell_type": "code",
   "execution_count": 112,
   "id": "881e5a5d",
   "metadata": {},
   "outputs": [
    {
     "data": {
      "text/html": [
       "<div>\n",
       "<style scoped>\n",
       "    .dataframe tbody tr th:only-of-type {\n",
       "        vertical-align: middle;\n",
       "    }\n",
       "\n",
       "    .dataframe tbody tr th {\n",
       "        vertical-align: top;\n",
       "    }\n",
       "\n",
       "    .dataframe thead th {\n",
       "        text-align: right;\n",
       "    }\n",
       "</style>\n",
       "<table border=\"1\" class=\"dataframe\">\n",
       "  <thead>\n",
       "    <tr style=\"text-align: right;\">\n",
       "      <th></th>\n",
       "      <th>Food ID</th>\n",
       "      <th>Food Item</th>\n",
       "      <th>Price</th>\n",
       "    </tr>\n",
       "  </thead>\n",
       "  <tbody>\n",
       "    <tr>\n",
       "      <th>0</th>\n",
       "      <td>1</td>\n",
       "      <td>Sushi</td>\n",
       "      <td>3.99</td>\n",
       "    </tr>\n",
       "    <tr>\n",
       "      <th>1</th>\n",
       "      <td>2</td>\n",
       "      <td>Burrito</td>\n",
       "      <td>9.99</td>\n",
       "    </tr>\n",
       "    <tr>\n",
       "      <th>2</th>\n",
       "      <td>3</td>\n",
       "      <td>Taco</td>\n",
       "      <td>2.99</td>\n",
       "    </tr>\n",
       "    <tr>\n",
       "      <th>3</th>\n",
       "      <td>4</td>\n",
       "      <td>Quesadilla</td>\n",
       "      <td>4.25</td>\n",
       "    </tr>\n",
       "    <tr>\n",
       "      <th>4</th>\n",
       "      <td>5</td>\n",
       "      <td>Pizza</td>\n",
       "      <td>2.49</td>\n",
       "    </tr>\n",
       "    <tr>\n",
       "      <th>5</th>\n",
       "      <td>6</td>\n",
       "      <td>Pasta</td>\n",
       "      <td>13.99</td>\n",
       "    </tr>\n",
       "    <tr>\n",
       "      <th>6</th>\n",
       "      <td>7</td>\n",
       "      <td>Steak</td>\n",
       "      <td>24.99</td>\n",
       "    </tr>\n",
       "    <tr>\n",
       "      <th>7</th>\n",
       "      <td>8</td>\n",
       "      <td>Salad</td>\n",
       "      <td>11.25</td>\n",
       "    </tr>\n",
       "    <tr>\n",
       "      <th>8</th>\n",
       "      <td>9</td>\n",
       "      <td>Donut</td>\n",
       "      <td>0.99</td>\n",
       "    </tr>\n",
       "    <tr>\n",
       "      <th>9</th>\n",
       "      <td>10</td>\n",
       "      <td>Drink</td>\n",
       "      <td>1.75</td>\n",
       "    </tr>\n",
       "  </tbody>\n",
       "</table>\n",
       "</div>"
      ],
      "text/plain": [
       "   Food ID   Food Item  Price\n",
       "0        1       Sushi   3.99\n",
       "1        2     Burrito   9.99\n",
       "2        3        Taco   2.99\n",
       "3        4  Quesadilla   4.25\n",
       "4        5       Pizza   2.49\n",
       "5        6       Pasta  13.99\n",
       "6        7       Steak  24.99\n",
       "7        8       Salad  11.25\n",
       "8        9       Donut   0.99\n",
       "9       10       Drink   1.75"
      ]
     },
     "execution_count": 112,
     "metadata": {},
     "output_type": "execute_result"
    }
   ],
   "source": [
    "df"
   ]
  },
  {
   "cell_type": "code",
   "execution_count": 114,
   "id": "86ee5767",
   "metadata": {},
   "outputs": [
    {
     "data": {
      "text/plain": [
       "count        10\n",
       "unique       10\n",
       "top       Sushi\n",
       "freq          1\n",
       "Name: Food Item, dtype: object"
      ]
     },
     "execution_count": 114,
     "metadata": {},
     "output_type": "execute_result"
    }
   ],
   "source": [
    "df['Food Item'].describe()"
   ]
  },
  {
   "cell_type": "code",
   "execution_count": 118,
   "id": "c2422b16",
   "metadata": {},
   "outputs": [
    {
     "data": {
      "text/plain": [
       "<Axes: >"
      ]
     },
     "execution_count": 118,
     "metadata": {},
     "output_type": "execute_result"
    },
    {
     "data": {
      "image/png": "[encoded data removed]",
      "text/plain": [
       "<Figure size 640x480 with 1 Axes>"
      ]
     },
     "metadata": {},
     "output_type": "display_data"
    }
   ],
   "source": [
    "df['Price'].plot(color = 'r',marker = 'o')"
   ]
  },
  {
   "cell_type": "code",
   "execution_count": 120,
   "id": "0b503ac6",
   "metadata": {},
   "outputs": [],
   "source": [
    "adani_df = pd.read_csv(r\"D:\\c-downloads\\adani.csv\")"
   ]
  },
  {
   "cell_type": "code",
   "execution_count": 121,
   "id": "42844b2e",
   "metadata": {},
   "outputs": [
    {
     "data": {
      "text/plain": [
       "(32806, 10)"
      ]
     },
     "execution_count": 121,
     "metadata": {},
     "output_type": "execute_result"
    }
   ],
   "source": [
    "adani_df.shape"
   ]
  },
  {
   "cell_type": "code",
   "execution_count": 122,
   "id": "0644913c",
   "metadata": {},
   "outputs": [
    {
     "data": {
      "text/plain": [
       "Index(['timestamp', 'symbol', 'company', 'open', 'high', 'low', 'close',\n",
       "       'volume', 'dividends', 'stock_splits'],\n",
       "      dtype='object')"
      ]
     },
     "execution_count": 122,
     "metadata": {},
     "output_type": "execute_result"
    }
   ],
   "source": [
    "adani_df.columns"
   ]
  },
  {
   "cell_type": "code",
   "execution_count": 123,
   "id": "c04f5749",
   "metadata": {},
   "outputs": [
    {
     "data": {
      "text/html": [
       "<div>\n",
       "<style scoped>\n",
       "    .dataframe tbody tr th:only-of-type {\n",
       "        vertical-align: middle;\n",
       "    }\n",
       "\n",
       "    .dataframe tbody tr th {\n",
       "        vertical-align: top;\n",
       "    }\n",
       "\n",
       "    .dataframe thead th {\n",
       "        text-align: right;\n",
       "    }\n",
       "</style>\n",
       "<table border=\"1\" class=\"dataframe\">\n",
       "  <thead>\n",
       "    <tr style=\"text-align: right;\">\n",
       "      <th></th>\n",
       "      <th>timestamp</th>\n",
       "      <th>symbol</th>\n",
       "      <th>company</th>\n",
       "      <th>open</th>\n",
       "      <th>high</th>\n",
       "      <th>low</th>\n",
       "      <th>close</th>\n",
       "      <th>volume</th>\n",
       "      <th>dividends</th>\n",
       "      <th>stock_splits</th>\n",
       "    </tr>\n",
       "  </thead>\n",
       "  <tbody>\n",
       "    <tr>\n",
       "      <th>0</th>\n",
       "      <td>1025461800000000000</td>\n",
       "      <td>ACC</td>\n",
       "      <td>ACC Limited</td>\n",
       "      <td>106.697</td>\n",
       "      <td>108.697</td>\n",
       "      <td>106.030</td>\n",
       "      <td>107.864</td>\n",
       "      <td>659631</td>\n",
       "      <td>0.0</td>\n",
       "      <td>0.0</td>\n",
       "    </tr>\n",
       "    <tr>\n",
       "      <th>1</th>\n",
       "      <td>1025461800000000000</td>\n",
       "      <td>AMBUJACEM</td>\n",
       "      <td>Ambuja Cements Limited</td>\n",
       "      <td>17.078</td>\n",
       "      <td>17.457</td>\n",
       "      <td>17.004</td>\n",
       "      <td>17.370</td>\n",
       "      <td>630442</td>\n",
       "      <td>0.0</td>\n",
       "      <td>0.0</td>\n",
       "    </tr>\n",
       "    <tr>\n",
       "      <th>2</th>\n",
       "      <td>1025461800000000000</td>\n",
       "      <td>ADANIENT</td>\n",
       "      <td>Adani Enterprises Limited</td>\n",
       "      <td>-0.010</td>\n",
       "      <td>-0.011</td>\n",
       "      <td>-0.010</td>\n",
       "      <td>-0.010</td>\n",
       "      <td>1080397</td>\n",
       "      <td>0.0</td>\n",
       "      <td>0.0</td>\n",
       "    </tr>\n",
       "    <tr>\n",
       "      <th>3</th>\n",
       "      <td>1025548200000000000</td>\n",
       "      <td>AMBUJACEM</td>\n",
       "      <td>Ambuja Cements Limited</td>\n",
       "      <td>17.370</td>\n",
       "      <td>17.544</td>\n",
       "      <td>17.208</td>\n",
       "      <td>17.357</td>\n",
       "      <td>1007265</td>\n",
       "      <td>0.0</td>\n",
       "      <td>0.0</td>\n",
       "    </tr>\n",
       "    <tr>\n",
       "      <th>4</th>\n",
       "      <td>1025548200000000000</td>\n",
       "      <td>ACC</td>\n",
       "      <td>ACC Limited</td>\n",
       "      <td>107.397</td>\n",
       "      <td>108.931</td>\n",
       "      <td>106.697</td>\n",
       "      <td>106.963</td>\n",
       "      <td>282660</td>\n",
       "      <td>0.0</td>\n",
       "      <td>0.0</td>\n",
       "    </tr>\n",
       "    <tr>\n",
       "      <th>...</th>\n",
       "      <td>...</td>\n",
       "      <td>...</td>\n",
       "      <td>...</td>\n",
       "      <td>...</td>\n",
       "      <td>...</td>\n",
       "      <td>...</td>\n",
       "      <td>...</td>\n",
       "      <td>...</td>\n",
       "      <td>...</td>\n",
       "      <td>...</td>\n",
       "    </tr>\n",
       "    <tr>\n",
       "      <th>32801</th>\n",
       "      <td>1693938600000000000</td>\n",
       "      <td>AMBUJACEM</td>\n",
       "      <td>Ambuja Cements Limited</td>\n",
       "      <td>441.000</td>\n",
       "      <td>442.000</td>\n",
       "      <td>435.000</td>\n",
       "      <td>436.350</td>\n",
       "      <td>1312654</td>\n",
       "      <td>0.0</td>\n",
       "      <td>0.0</td>\n",
       "    </tr>\n",
       "    <tr>\n",
       "      <th>32802</th>\n",
       "      <td>1693938600000000000</td>\n",
       "      <td>ADANIPORTS</td>\n",
       "      <td>Adani Ports and Special Economic Zone Limited</td>\n",
       "      <td>806.000</td>\n",
       "      <td>808.000</td>\n",
       "      <td>800.450</td>\n",
       "      <td>804.550</td>\n",
       "      <td>3008629</td>\n",
       "      <td>0.0</td>\n",
       "      <td>0.0</td>\n",
       "    </tr>\n",
       "    <tr>\n",
       "      <th>32803</th>\n",
       "      <td>1693938600000000000</td>\n",
       "      <td>ADANIENT</td>\n",
       "      <td>Adani Enterprises Limited</td>\n",
       "      <td>2494.050</td>\n",
       "      <td>2504.000</td>\n",
       "      <td>2471.000</td>\n",
       "      <td>2491.500</td>\n",
       "      <td>3640235</td>\n",
       "      <td>0.0</td>\n",
       "      <td>0.0</td>\n",
       "    </tr>\n",
       "    <tr>\n",
       "      <th>32804</th>\n",
       "      <td>1693938600000000000</td>\n",
       "      <td>ATGL</td>\n",
       "      <td>Adani Total Gas Limited</td>\n",
       "      <td>637.950</td>\n",
       "      <td>638.500</td>\n",
       "      <td>633.000</td>\n",
       "      <td>636.450</td>\n",
       "      <td>228186</td>\n",
       "      <td>0.0</td>\n",
       "      <td>0.0</td>\n",
       "    </tr>\n",
       "    <tr>\n",
       "      <th>32805</th>\n",
       "      <td>1693938600000000000</td>\n",
       "      <td>NDTV</td>\n",
       "      <td>New Delhi Television Limited</td>\n",
       "      <td>214.500</td>\n",
       "      <td>217.000</td>\n",
       "      <td>213.500</td>\n",
       "      <td>214.500</td>\n",
       "      <td>101881</td>\n",
       "      <td>0.0</td>\n",
       "      <td>0.0</td>\n",
       "    </tr>\n",
       "  </tbody>\n",
       "</table>\n",
       "<p>32806 rows × 10 columns</p>\n",
       "</div>"
      ],
      "text/plain": [
       "                 timestamp      symbol  \\\n",
       "0      1025461800000000000         ACC   \n",
       "1      1025461800000000000   AMBUJACEM   \n",
       "2      1025461800000000000    ADANIENT   \n",
       "3      1025548200000000000   AMBUJACEM   \n",
       "4      1025548200000000000         ACC   \n",
       "...                    ...         ...   \n",
       "32801  1693938600000000000   AMBUJACEM   \n",
       "32802  1693938600000000000  ADANIPORTS   \n",
       "32803  1693938600000000000    ADANIENT   \n",
       "32804  1693938600000000000        ATGL   \n",
       "32805  1693938600000000000        NDTV   \n",
       "\n",
       "                                             company      open      high  \\\n",
       "0                                        ACC Limited   106.697   108.697   \n",
       "1                             Ambuja Cements Limited    17.078    17.457   \n",
       "2                          Adani Enterprises Limited    -0.010    -0.011   \n",
       "3                             Ambuja Cements Limited    17.370    17.544   \n",
       "4                                        ACC Limited   107.397   108.931   \n",
       "...                                              ...       ...       ...   \n",
       "32801                         Ambuja Cements Limited   441.000   442.000   \n",
       "32802  Adani Ports and Special Economic Zone Limited   806.000   808.000   \n",
       "32803                      Adani Enterprises Limited  2494.050  2504.000   \n",
       "32804                        Adani Total Gas Limited   637.950   638.500   \n",
       "32805                   New Delhi Television Limited   214.500   217.000   \n",
       "\n",
       "            low     close   volume  dividends  stock_splits  \n",
       "0       106.030   107.864   659631        0.0           0.0  \n",
       "1        17.004    17.370   630442        0.0           0.0  \n",
       "2        -0.010    -0.010  1080397        0.0           0.0  \n",
       "3        17.208    17.357  1007265        0.0           0.0  \n",
       "4       106.697   106.963   282660        0.0           0.0  \n",
       "...         ...       ...      ...        ...           ...  \n",
       "32801   435.000   436.350  1312654        0.0           0.0  \n",
       "32802   800.450   804.550  3008629        0.0           0.0  \n",
       "32803  2471.000  2491.500  3640235        0.0           0.0  \n",
       "32804   633.000   636.450   228186        0.0           0.0  \n",
       "32805   213.500   214.500   101881        0.0           0.0  \n",
       "\n",
       "[32806 rows x 10 columns]"
      ]
     },
     "execution_count": 123,
     "metadata": {},
     "output_type": "execute_result"
    }
   ],
   "source": [
    "adani_df"
   ]
  },
  {
   "cell_type": "code",
   "execution_count": 124,
   "id": "7de6ac1c",
   "metadata": {},
   "outputs": [
    {
     "data": {
      "text/html": [
       "<div>\n",
       "<style scoped>\n",
       "    .dataframe tbody tr th:only-of-type {\n",
       "        vertical-align: middle;\n",
       "    }\n",
       "\n",
       "    .dataframe tbody tr th {\n",
       "        vertical-align: top;\n",
       "    }\n",
       "\n",
       "    .dataframe thead th {\n",
       "        text-align: right;\n",
       "    }\n",
       "</style>\n",
       "<table border=\"1\" class=\"dataframe\">\n",
       "  <thead>\n",
       "    <tr style=\"text-align: right;\">\n",
       "      <th></th>\n",
       "      <th>timestamp</th>\n",
       "      <th>symbol</th>\n",
       "      <th>company</th>\n",
       "      <th>open</th>\n",
       "      <th>high</th>\n",
       "      <th>low</th>\n",
       "      <th>close</th>\n",
       "      <th>volume</th>\n",
       "      <th>dividends</th>\n",
       "      <th>stock_splits</th>\n",
       "    </tr>\n",
       "  </thead>\n",
       "  <tbody>\n",
       "    <tr>\n",
       "      <th>0</th>\n",
       "      <td>1025461800000000000</td>\n",
       "      <td>ACC</td>\n",
       "      <td>ACC Limited</td>\n",
       "      <td>106.697</td>\n",
       "      <td>108.697</td>\n",
       "      <td>106.030</td>\n",
       "      <td>107.864</td>\n",
       "      <td>659631</td>\n",
       "      <td>0.0</td>\n",
       "      <td>0.0</td>\n",
       "    </tr>\n",
       "    <tr>\n",
       "      <th>1</th>\n",
       "      <td>1025461800000000000</td>\n",
       "      <td>AMBUJACEM</td>\n",
       "      <td>Ambuja Cements Limited</td>\n",
       "      <td>17.078</td>\n",
       "      <td>17.457</td>\n",
       "      <td>17.004</td>\n",
       "      <td>17.370</td>\n",
       "      <td>630442</td>\n",
       "      <td>0.0</td>\n",
       "      <td>0.0</td>\n",
       "    </tr>\n",
       "    <tr>\n",
       "      <th>2</th>\n",
       "      <td>1025461800000000000</td>\n",
       "      <td>ADANIENT</td>\n",
       "      <td>Adani Enterprises Limited</td>\n",
       "      <td>-0.010</td>\n",
       "      <td>-0.011</td>\n",
       "      <td>-0.010</td>\n",
       "      <td>-0.010</td>\n",
       "      <td>1080397</td>\n",
       "      <td>0.0</td>\n",
       "      <td>0.0</td>\n",
       "    </tr>\n",
       "    <tr>\n",
       "      <th>3</th>\n",
       "      <td>1025548200000000000</td>\n",
       "      <td>AMBUJACEM</td>\n",
       "      <td>Ambuja Cements Limited</td>\n",
       "      <td>17.370</td>\n",
       "      <td>17.544</td>\n",
       "      <td>17.208</td>\n",
       "      <td>17.357</td>\n",
       "      <td>1007265</td>\n",
       "      <td>0.0</td>\n",
       "      <td>0.0</td>\n",
       "    </tr>\n",
       "    <tr>\n",
       "      <th>4</th>\n",
       "      <td>1025548200000000000</td>\n",
       "      <td>ACC</td>\n",
       "      <td>ACC Limited</td>\n",
       "      <td>107.397</td>\n",
       "      <td>108.931</td>\n",
       "      <td>106.697</td>\n",
       "      <td>106.963</td>\n",
       "      <td>282660</td>\n",
       "      <td>0.0</td>\n",
       "      <td>0.0</td>\n",
       "    </tr>\n",
       "  </tbody>\n",
       "</table>\n",
       "</div>"
      ],
      "text/plain": [
       "             timestamp     symbol                    company     open  \\\n",
       "0  1025461800000000000        ACC                ACC Limited  106.697   \n",
       "1  1025461800000000000  AMBUJACEM     Ambuja Cements Limited   17.078   \n",
       "2  1025461800000000000   ADANIENT  Adani Enterprises Limited   -0.010   \n",
       "3  1025548200000000000  AMBUJACEM     Ambuja Cements Limited   17.370   \n",
       "4  1025548200000000000        ACC                ACC Limited  107.397   \n",
       "\n",
       "      high      low    close   volume  dividends  stock_splits  \n",
       "0  108.697  106.030  107.864   659631        0.0           0.0  \n",
       "1   17.457   17.004   17.370   630442        0.0           0.0  \n",
       "2   -0.011   -0.010   -0.010  1080397        0.0           0.0  \n",
       "3   17.544   17.208   17.357  1007265        0.0           0.0  \n",
       "4  108.931  106.697  106.963   282660        0.0           0.0  "
      ]
     },
     "execution_count": 124,
     "metadata": {},
     "output_type": "execute_result"
    }
   ],
   "source": [
    "adani_df.head()"
   ]
  },
  {
   "cell_type": "code",
   "execution_count": 125,
   "id": "28ad0807",
   "metadata": {},
   "outputs": [
    {
     "data": {
      "text/html": [
       "<div>\n",
       "<style scoped>\n",
       "    .dataframe tbody tr th:only-of-type {\n",
       "        vertical-align: middle;\n",
       "    }\n",
       "\n",
       "    .dataframe tbody tr th {\n",
       "        vertical-align: top;\n",
       "    }\n",
       "\n",
       "    .dataframe thead th {\n",
       "        text-align: right;\n",
       "    }\n",
       "</style>\n",
       "<table border=\"1\" class=\"dataframe\">\n",
       "  <thead>\n",
       "    <tr style=\"text-align: right;\">\n",
       "      <th></th>\n",
       "      <th>timestamp</th>\n",
       "      <th>symbol</th>\n",
       "      <th>company</th>\n",
       "      <th>open</th>\n",
       "      <th>high</th>\n",
       "      <th>low</th>\n",
       "      <th>close</th>\n",
       "      <th>volume</th>\n",
       "      <th>dividends</th>\n",
       "      <th>stock_splits</th>\n",
       "    </tr>\n",
       "  </thead>\n",
       "  <tbody>\n",
       "    <tr>\n",
       "      <th>32801</th>\n",
       "      <td>1693938600000000000</td>\n",
       "      <td>AMBUJACEM</td>\n",
       "      <td>Ambuja Cements Limited</td>\n",
       "      <td>441.00</td>\n",
       "      <td>442.0</td>\n",
       "      <td>435.00</td>\n",
       "      <td>436.35</td>\n",
       "      <td>1312654</td>\n",
       "      <td>0.0</td>\n",
       "      <td>0.0</td>\n",
       "    </tr>\n",
       "    <tr>\n",
       "      <th>32802</th>\n",
       "      <td>1693938600000000000</td>\n",
       "      <td>ADANIPORTS</td>\n",
       "      <td>Adani Ports and Special Economic Zone Limited</td>\n",
       "      <td>806.00</td>\n",
       "      <td>808.0</td>\n",
       "      <td>800.45</td>\n",
       "      <td>804.55</td>\n",
       "      <td>3008629</td>\n",
       "      <td>0.0</td>\n",
       "      <td>0.0</td>\n",
       "    </tr>\n",
       "    <tr>\n",
       "      <th>32803</th>\n",
       "      <td>1693938600000000000</td>\n",
       "      <td>ADANIENT</td>\n",
       "      <td>Adani Enterprises Limited</td>\n",
       "      <td>2494.05</td>\n",
       "      <td>2504.0</td>\n",
       "      <td>2471.00</td>\n",
       "      <td>2491.50</td>\n",
       "      <td>3640235</td>\n",
       "      <td>0.0</td>\n",
       "      <td>0.0</td>\n",
       "    </tr>\n",
       "    <tr>\n",
       "      <th>32804</th>\n",
       "      <td>1693938600000000000</td>\n",
       "      <td>ATGL</td>\n",
       "      <td>Adani Total Gas Limited</td>\n",
       "      <td>637.95</td>\n",
       "      <td>638.5</td>\n",
       "      <td>633.00</td>\n",
       "      <td>636.45</td>\n",
       "      <td>228186</td>\n",
       "      <td>0.0</td>\n",
       "      <td>0.0</td>\n",
       "    </tr>\n",
       "    <tr>\n",
       "      <th>32805</th>\n",
       "      <td>1693938600000000000</td>\n",
       "      <td>NDTV</td>\n",
       "      <td>New Delhi Television Limited</td>\n",
       "      <td>214.50</td>\n",
       "      <td>217.0</td>\n",
       "      <td>213.50</td>\n",
       "      <td>214.50</td>\n",
       "      <td>101881</td>\n",
       "      <td>0.0</td>\n",
       "      <td>0.0</td>\n",
       "    </tr>\n",
       "  </tbody>\n",
       "</table>\n",
       "</div>"
      ],
      "text/plain": [
       "                 timestamp      symbol  \\\n",
       "32801  1693938600000000000   AMBUJACEM   \n",
       "32802  1693938600000000000  ADANIPORTS   \n",
       "32803  1693938600000000000    ADANIENT   \n",
       "32804  1693938600000000000        ATGL   \n",
       "32805  1693938600000000000        NDTV   \n",
       "\n",
       "                                             company     open    high  \\\n",
       "32801                         Ambuja Cements Limited   441.00   442.0   \n",
       "32802  Adani Ports and Special Economic Zone Limited   806.00   808.0   \n",
       "32803                      Adani Enterprises Limited  2494.05  2504.0   \n",
       "32804                        Adani Total Gas Limited   637.95   638.5   \n",
       "32805                   New Delhi Television Limited   214.50   217.0   \n",
       "\n",
       "           low    close   volume  dividends  stock_splits  \n",
       "32801   435.00   436.35  1312654        0.0           0.0  \n",
       "32802   800.45   804.55  3008629        0.0           0.0  \n",
       "32803  2471.00  2491.50  3640235        0.0           0.0  \n",
       "32804   633.00   636.45   228186        0.0           0.0  \n",
       "32805   213.50   214.50   101881        0.0           0.0  "
      ]
     },
     "execution_count": 125,
     "metadata": {},
     "output_type": "execute_result"
    }
   ],
   "source": [
    "adani_df.tail()"
   ]
  },
  {
   "cell_type": "code",
   "execution_count": 126,
   "id": "9a8ce3f8",
   "metadata": {},
   "outputs": [
    {
     "data": {
      "text/html": [
       "<div>\n",
       "<style scoped>\n",
       "    .dataframe tbody tr th:only-of-type {\n",
       "        vertical-align: middle;\n",
       "    }\n",
       "\n",
       "    .dataframe tbody tr th {\n",
       "        vertical-align: top;\n",
       "    }\n",
       "\n",
       "    .dataframe thead th {\n",
       "        text-align: right;\n",
       "    }\n",
       "</style>\n",
       "<table border=\"1\" class=\"dataframe\">\n",
       "  <thead>\n",
       "    <tr style=\"text-align: right;\">\n",
       "      <th></th>\n",
       "      <th>timestamp</th>\n",
       "      <th>symbol</th>\n",
       "      <th>company</th>\n",
       "      <th>open</th>\n",
       "      <th>high</th>\n",
       "      <th>low</th>\n",
       "      <th>close</th>\n",
       "      <th>volume</th>\n",
       "      <th>dividends</th>\n",
       "      <th>stock_splits</th>\n",
       "    </tr>\n",
       "  </thead>\n",
       "  <tbody>\n",
       "    <tr>\n",
       "      <th>0</th>\n",
       "      <td>1025461800000000000</td>\n",
       "      <td>ACC</td>\n",
       "      <td>ACC Limited</td>\n",
       "      <td>106.697</td>\n",
       "      <td>108.697</td>\n",
       "      <td>106.030</td>\n",
       "      <td>107.864</td>\n",
       "      <td>659631</td>\n",
       "      <td>0.0</td>\n",
       "      <td>0.0</td>\n",
       "    </tr>\n",
       "    <tr>\n",
       "      <th>1</th>\n",
       "      <td>1025461800000000000</td>\n",
       "      <td>AMBUJACEM</td>\n",
       "      <td>Ambuja Cements Limited</td>\n",
       "      <td>17.078</td>\n",
       "      <td>17.457</td>\n",
       "      <td>17.004</td>\n",
       "      <td>17.370</td>\n",
       "      <td>630442</td>\n",
       "      <td>0.0</td>\n",
       "      <td>0.0</td>\n",
       "    </tr>\n",
       "    <tr>\n",
       "      <th>2</th>\n",
       "      <td>1025461800000000000</td>\n",
       "      <td>ADANIENT</td>\n",
       "      <td>Adani Enterprises Limited</td>\n",
       "      <td>-0.010</td>\n",
       "      <td>-0.011</td>\n",
       "      <td>-0.010</td>\n",
       "      <td>-0.010</td>\n",
       "      <td>1080397</td>\n",
       "      <td>0.0</td>\n",
       "      <td>0.0</td>\n",
       "    </tr>\n",
       "    <tr>\n",
       "      <th>3</th>\n",
       "      <td>1025548200000000000</td>\n",
       "      <td>AMBUJACEM</td>\n",
       "      <td>Ambuja Cements Limited</td>\n",
       "      <td>17.370</td>\n",
       "      <td>17.544</td>\n",
       "      <td>17.208</td>\n",
       "      <td>17.357</td>\n",
       "      <td>1007265</td>\n",
       "      <td>0.0</td>\n",
       "      <td>0.0</td>\n",
       "    </tr>\n",
       "    <tr>\n",
       "      <th>4</th>\n",
       "      <td>1025548200000000000</td>\n",
       "      <td>ACC</td>\n",
       "      <td>ACC Limited</td>\n",
       "      <td>107.397</td>\n",
       "      <td>108.931</td>\n",
       "      <td>106.697</td>\n",
       "      <td>106.963</td>\n",
       "      <td>282660</td>\n",
       "      <td>0.0</td>\n",
       "      <td>0.0</td>\n",
       "    </tr>\n",
       "    <tr>\n",
       "      <th>5</th>\n",
       "      <td>1025548200000000000</td>\n",
       "      <td>ADANIENT</td>\n",
       "      <td>Adani Enterprises Limited</td>\n",
       "      <td>-0.011</td>\n",
       "      <td>-0.011</td>\n",
       "      <td>-0.010</td>\n",
       "      <td>-0.011</td>\n",
       "      <td>1016147</td>\n",
       "      <td>0.0</td>\n",
       "      <td>0.0</td>\n",
       "    </tr>\n",
       "    <tr>\n",
       "      <th>6</th>\n",
       "      <td>1025634600000000000</td>\n",
       "      <td>ACC</td>\n",
       "      <td>ACC Limited</td>\n",
       "      <td>107.363</td>\n",
       "      <td>108.030</td>\n",
       "      <td>105.930</td>\n",
       "      <td>106.563</td>\n",
       "      <td>500553</td>\n",
       "      <td>0.0</td>\n",
       "      <td>0.0</td>\n",
       "    </tr>\n",
       "    <tr>\n",
       "      <th>7</th>\n",
       "      <td>1025634600000000000</td>\n",
       "      <td>AMBUJACEM</td>\n",
       "      <td>Ambuja Cements Limited</td>\n",
       "      <td>17.233</td>\n",
       "      <td>17.364</td>\n",
       "      <td>17.004</td>\n",
       "      <td>17.103</td>\n",
       "      <td>178065</td>\n",
       "      <td>0.0</td>\n",
       "      <td>0.0</td>\n",
       "    </tr>\n",
       "    <tr>\n",
       "      <th>8</th>\n",
       "      <td>1025634600000000000</td>\n",
       "      <td>ADANIENT</td>\n",
       "      <td>Adani Enterprises Limited</td>\n",
       "      <td>-0.011</td>\n",
       "      <td>-0.011</td>\n",
       "      <td>-0.010</td>\n",
       "      <td>-0.011</td>\n",
       "      <td>980394</td>\n",
       "      <td>0.0</td>\n",
       "      <td>0.0</td>\n",
       "    </tr>\n",
       "    <tr>\n",
       "      <th>9</th>\n",
       "      <td>1025721000000000000</td>\n",
       "      <td>AMBUJACEM</td>\n",
       "      <td>Ambuja Cements Limited</td>\n",
       "      <td>17.084</td>\n",
       "      <td>17.208</td>\n",
       "      <td>17.047</td>\n",
       "      <td>17.097</td>\n",
       "      <td>199282</td>\n",
       "      <td>0.0</td>\n",
       "      <td>0.0</td>\n",
       "    </tr>\n",
       "  </tbody>\n",
       "</table>\n",
       "</div>"
      ],
      "text/plain": [
       "             timestamp     symbol                    company     open  \\\n",
       "0  1025461800000000000        ACC                ACC Limited  106.697   \n",
       "1  1025461800000000000  AMBUJACEM     Ambuja Cements Limited   17.078   \n",
       "2  1025461800000000000   ADANIENT  Adani Enterprises Limited   -0.010   \n",
       "3  1025548200000000000  AMBUJACEM     Ambuja Cements Limited   17.370   \n",
       "4  1025548200000000000        ACC                ACC Limited  107.397   \n",
       "5  1025548200000000000   ADANIENT  Adani Enterprises Limited   -0.011   \n",
       "6  1025634600000000000        ACC                ACC Limited  107.363   \n",
       "7  1025634600000000000  AMBUJACEM     Ambuja Cements Limited   17.233   \n",
       "8  1025634600000000000   ADANIENT  Adani Enterprises Limited   -0.011   \n",
       "9  1025721000000000000  AMBUJACEM     Ambuja Cements Limited   17.084   \n",
       "\n",
       "      high      low    close   volume  dividends  stock_splits  \n",
       "0  108.697  106.030  107.864   659631        0.0           0.0  \n",
       "1   17.457   17.004   17.370   630442        0.0           0.0  \n",
       "2   -0.011   -0.010   -0.010  1080397        0.0           0.0  \n",
       "3   17.544   17.208   17.357  1007265        0.0           0.0  \n",
       "4  108.931  106.697  106.963   282660        0.0           0.0  \n",
       "5   -0.011   -0.010   -0.011  1016147        0.0           0.0  \n",
       "6  108.030  105.930  106.563   500553        0.0           0.0  \n",
       "7   17.364   17.004   17.103   178065        0.0           0.0  \n",
       "8   -0.011   -0.010   -0.011   980394        0.0           0.0  \n",
       "9   17.208   17.047   17.097   199282        0.0           0.0  "
      ]
     },
     "execution_count": 126,
     "metadata": {},
     "output_type": "execute_result"
    }
   ],
   "source": [
    "adani_df.head(10)"
   ]
  },
  {
   "cell_type": "code",
   "execution_count": 129,
   "id": "2d26fa8a",
   "metadata": {},
   "outputs": [
    {
     "data": {
      "text/html": [
       "<div>\n",
       "<style scoped>\n",
       "    .dataframe tbody tr th:only-of-type {\n",
       "        vertical-align: middle;\n",
       "    }\n",
       "\n",
       "    .dataframe tbody tr th {\n",
       "        vertical-align: top;\n",
       "    }\n",
       "\n",
       "    .dataframe thead th {\n",
       "        text-align: right;\n",
       "    }\n",
       "</style>\n",
       "<table border=\"1\" class=\"dataframe\">\n",
       "  <thead>\n",
       "    <tr style=\"text-align: right;\">\n",
       "      <th></th>\n",
       "      <th>timestamp</th>\n",
       "      <th>symbol</th>\n",
       "      <th>company</th>\n",
       "      <th>open</th>\n",
       "      <th>high</th>\n",
       "      <th>low</th>\n",
       "      <th>close</th>\n",
       "      <th>volume</th>\n",
       "      <th>dividends</th>\n",
       "      <th>stock_splits</th>\n",
       "    </tr>\n",
       "  </thead>\n",
       "  <tbody>\n",
       "    <tr>\n",
       "      <th>32804</th>\n",
       "      <td>1693938600000000000</td>\n",
       "      <td>ATGL</td>\n",
       "      <td>Adani Total Gas Limited</td>\n",
       "      <td>637.95</td>\n",
       "      <td>638.5</td>\n",
       "      <td>633.0</td>\n",
       "      <td>636.45</td>\n",
       "      <td>228186</td>\n",
       "      <td>0.0</td>\n",
       "      <td>0.0</td>\n",
       "    </tr>\n",
       "    <tr>\n",
       "      <th>32805</th>\n",
       "      <td>1693938600000000000</td>\n",
       "      <td>NDTV</td>\n",
       "      <td>New Delhi Television Limited</td>\n",
       "      <td>214.50</td>\n",
       "      <td>217.0</td>\n",
       "      <td>213.5</td>\n",
       "      <td>214.50</td>\n",
       "      <td>101881</td>\n",
       "      <td>0.0</td>\n",
       "      <td>0.0</td>\n",
       "    </tr>\n",
       "  </tbody>\n",
       "</table>\n",
       "</div>"
      ],
      "text/plain": [
       "                 timestamp symbol                       company    open  \\\n",
       "32804  1693938600000000000   ATGL       Adani Total Gas Limited  637.95   \n",
       "32805  1693938600000000000   NDTV  New Delhi Television Limited  214.50   \n",
       "\n",
       "        high    low   close  volume  dividends  stock_splits  \n",
       "32804  638.5  633.0  636.45  228186        0.0           0.0  \n",
       "32805  217.0  213.5  214.50  101881        0.0           0.0  "
      ]
     },
     "execution_count": 129,
     "metadata": {},
     "output_type": "execute_result"
    }
   ],
   "source": [
    "adani_df.tail(2)"
   ]
  },
  {
   "cell_type": "code",
   "execution_count": 134,
   "id": "3264b04a",
   "metadata": {},
   "outputs": [
    {
     "data": {
      "text/html": [
       "<div>\n",
       "<style scoped>\n",
       "    .dataframe tbody tr th:only-of-type {\n",
       "        vertical-align: middle;\n",
       "    }\n",
       "\n",
       "    .dataframe tbody tr th {\n",
       "        vertical-align: top;\n",
       "    }\n",
       "\n",
       "    .dataframe thead th {\n",
       "        text-align: right;\n",
       "    }\n",
       "</style>\n",
       "<table border=\"1\" class=\"dataframe\">\n",
       "  <thead>\n",
       "    <tr style=\"text-align: right;\">\n",
       "      <th></th>\n",
       "      <th>timestamp</th>\n",
       "      <th>symbol</th>\n",
       "      <th>company</th>\n",
       "      <th>open</th>\n",
       "      <th>high</th>\n",
       "      <th>low</th>\n",
       "      <th>close</th>\n",
       "      <th>volume</th>\n",
       "      <th>dividends</th>\n",
       "      <th>stock_splits</th>\n",
       "    </tr>\n",
       "  </thead>\n",
       "  <tbody>\n",
       "    <tr>\n",
       "      <th>30171</th>\n",
       "      <td>1660588200000000000</td>\n",
       "      <td>ADANIGREEN</td>\n",
       "      <td>Adani Green Energy Limited</td>\n",
       "      <td>2188.85</td>\n",
       "      <td>2227.8</td>\n",
       "      <td>2174.15</td>\n",
       "      <td>2218.2</td>\n",
       "      <td>1240364</td>\n",
       "      <td>0.0</td>\n",
       "      <td>0.0</td>\n",
       "    </tr>\n",
       "  </tbody>\n",
       "</table>\n",
       "</div>"
      ],
      "text/plain": [
       "                 timestamp      symbol                     company     open  \\\n",
       "30171  1660588200000000000  ADANIGREEN  Adani Green Energy Limited  2188.85   \n",
       "\n",
       "         high      low   close   volume  dividends  stock_splits  \n",
       "30171  2227.8  2174.15  2218.2  1240364        0.0           0.0  "
      ]
     },
     "execution_count": 134,
     "metadata": {},
     "output_type": "execute_result"
    }
   ],
   "source": [
    "adani_df.sample()"
   ]
  },
  {
   "cell_type": "code",
   "execution_count": 138,
   "id": "c9c70ce3",
   "metadata": {},
   "outputs": [
    {
     "data": {
      "text/html": [
       "<div>\n",
       "<style scoped>\n",
       "    .dataframe tbody tr th:only-of-type {\n",
       "        vertical-align: middle;\n",
       "    }\n",
       "\n",
       "    .dataframe tbody tr th {\n",
       "        vertical-align: top;\n",
       "    }\n",
       "\n",
       "    .dataframe thead th {\n",
       "        text-align: right;\n",
       "    }\n",
       "</style>\n",
       "<table border=\"1\" class=\"dataframe\">\n",
       "  <thead>\n",
       "    <tr style=\"text-align: right;\">\n",
       "      <th></th>\n",
       "      <th>Food ID</th>\n",
       "      <th>Food Item</th>\n",
       "      <th>Price</th>\n",
       "    </tr>\n",
       "  </thead>\n",
       "  <tbody>\n",
       "    <tr>\n",
       "      <th>5</th>\n",
       "      <td>6</td>\n",
       "      <td>Pasta</td>\n",
       "      <td>13.99</td>\n",
       "    </tr>\n",
       "  </tbody>\n",
       "</table>\n",
       "</div>"
      ],
      "text/plain": [
       "   Food ID Food Item  Price\n",
       "5        6     Pasta  13.99"
      ]
     },
     "execution_count": 138,
     "metadata": {},
     "output_type": "execute_result"
    }
   ],
   "source": [
    "df.sample()"
   ]
  },
  {
   "cell_type": "code",
   "execution_count": 139,
   "id": "c69ef274",
   "metadata": {},
   "outputs": [
    {
     "data": {
      "text/html": [
       "<div>\n",
       "<style scoped>\n",
       "    .dataframe tbody tr th:only-of-type {\n",
       "        vertical-align: middle;\n",
       "    }\n",
       "\n",
       "    .dataframe tbody tr th {\n",
       "        vertical-align: top;\n",
       "    }\n",
       "\n",
       "    .dataframe thead th {\n",
       "        text-align: right;\n",
       "    }\n",
       "</style>\n",
       "<table border=\"1\" class=\"dataframe\">\n",
       "  <thead>\n",
       "    <tr style=\"text-align: right;\">\n",
       "      <th></th>\n",
       "      <th>timestamp</th>\n",
       "      <th>symbol</th>\n",
       "      <th>company</th>\n",
       "      <th>open</th>\n",
       "      <th>high</th>\n",
       "      <th>low</th>\n",
       "      <th>close</th>\n",
       "      <th>volume</th>\n",
       "      <th>dividends</th>\n",
       "      <th>stock_splits</th>\n",
       "    </tr>\n",
       "  </thead>\n",
       "  <tbody>\n",
       "    <tr>\n",
       "      <th>0</th>\n",
       "      <td>1025461800000000000</td>\n",
       "      <td>ACC</td>\n",
       "      <td>ACC Limited</td>\n",
       "      <td>106.697</td>\n",
       "      <td>108.697</td>\n",
       "      <td>106.030</td>\n",
       "      <td>107.864</td>\n",
       "      <td>659631</td>\n",
       "      <td>0.0</td>\n",
       "      <td>0.0</td>\n",
       "    </tr>\n",
       "    <tr>\n",
       "      <th>1</th>\n",
       "      <td>1025461800000000000</td>\n",
       "      <td>AMBUJACEM</td>\n",
       "      <td>Ambuja Cements Limited</td>\n",
       "      <td>17.078</td>\n",
       "      <td>17.457</td>\n",
       "      <td>17.004</td>\n",
       "      <td>17.370</td>\n",
       "      <td>630442</td>\n",
       "      <td>0.0</td>\n",
       "      <td>0.0</td>\n",
       "    </tr>\n",
       "    <tr>\n",
       "      <th>2</th>\n",
       "      <td>1025461800000000000</td>\n",
       "      <td>ADANIENT</td>\n",
       "      <td>Adani Enterprises Limited</td>\n",
       "      <td>-0.010</td>\n",
       "      <td>-0.011</td>\n",
       "      <td>-0.010</td>\n",
       "      <td>-0.010</td>\n",
       "      <td>1080397</td>\n",
       "      <td>0.0</td>\n",
       "      <td>0.0</td>\n",
       "    </tr>\n",
       "    <tr>\n",
       "      <th>3</th>\n",
       "      <td>1025548200000000000</td>\n",
       "      <td>AMBUJACEM</td>\n",
       "      <td>Ambuja Cements Limited</td>\n",
       "      <td>17.370</td>\n",
       "      <td>17.544</td>\n",
       "      <td>17.208</td>\n",
       "      <td>17.357</td>\n",
       "      <td>1007265</td>\n",
       "      <td>0.0</td>\n",
       "      <td>0.0</td>\n",
       "    </tr>\n",
       "    <tr>\n",
       "      <th>4</th>\n",
       "      <td>1025548200000000000</td>\n",
       "      <td>ACC</td>\n",
       "      <td>ACC Limited</td>\n",
       "      <td>107.397</td>\n",
       "      <td>108.931</td>\n",
       "      <td>106.697</td>\n",
       "      <td>106.963</td>\n",
       "      <td>282660</td>\n",
       "      <td>0.0</td>\n",
       "      <td>0.0</td>\n",
       "    </tr>\n",
       "  </tbody>\n",
       "</table>\n",
       "</div>"
      ],
      "text/plain": [
       "             timestamp     symbol                    company     open  \\\n",
       "0  1025461800000000000        ACC                ACC Limited  106.697   \n",
       "1  1025461800000000000  AMBUJACEM     Ambuja Cements Limited   17.078   \n",
       "2  1025461800000000000   ADANIENT  Adani Enterprises Limited   -0.010   \n",
       "3  1025548200000000000  AMBUJACEM     Ambuja Cements Limited   17.370   \n",
       "4  1025548200000000000        ACC                ACC Limited  107.397   \n",
       "\n",
       "      high      low    close   volume  dividends  stock_splits  \n",
       "0  108.697  106.030  107.864   659631        0.0           0.0  \n",
       "1   17.457   17.004   17.370   630442        0.0           0.0  \n",
       "2   -0.011   -0.010   -0.010  1080397        0.0           0.0  \n",
       "3   17.544   17.208   17.357  1007265        0.0           0.0  \n",
       "4  108.931  106.697  106.963   282660        0.0           0.0  "
      ]
     },
     "execution_count": 139,
     "metadata": {},
     "output_type": "execute_result"
    }
   ],
   "source": [
    "adani_df.head()"
   ]
  },
  {
   "cell_type": "code",
   "execution_count": 143,
   "id": "d7cd322e",
   "metadata": {},
   "outputs": [
    {
     "data": {
      "text/plain": [
       "<Axes: >"
      ]
     },
     "execution_count": 143,
     "metadata": {},
     "output_type": "execute_result"
    },
    {
     "data": {
      "image/png": "[encoded data removed]",
      "text/plain": [
       "<Figure size 640x480 with 1 Axes>"
      ]
     },
     "metadata": {},
     "output_type": "display_data"
    }
   ],
   "source": [
    "adani_df['close'].plot()"
   ]
  },
  {
   "cell_type": "code",
   "execution_count": 147,
   "id": "6a299fa9",
   "metadata": {},
   "outputs": [
    {
     "data": {
      "text/html": [
       "<div>\n",
       "<style scoped>\n",
       "    .dataframe tbody tr th:only-of-type {\n",
       "        vertical-align: middle;\n",
       "    }\n",
       "\n",
       "    .dataframe tbody tr th {\n",
       "        vertical-align: top;\n",
       "    }\n",
       "\n",
       "    .dataframe thead th {\n",
       "        text-align: right;\n",
       "    }\n",
       "</style>\n",
       "<table border=\"1\" class=\"dataframe\">\n",
       "  <thead>\n",
       "    <tr style=\"text-align: right;\">\n",
       "      <th></th>\n",
       "      <th>Food ID</th>\n",
       "      <th>Food Item</th>\n",
       "      <th>Price</th>\n",
       "    </tr>\n",
       "  </thead>\n",
       "  <tbody>\n",
       "    <tr>\n",
       "      <th>6</th>\n",
       "      <td>7</td>\n",
       "      <td>Steak</td>\n",
       "      <td>24.99</td>\n",
       "    </tr>\n",
       "  </tbody>\n",
       "</table>\n",
       "</div>"
      ],
      "text/plain": [
       "   Food ID Food Item  Price\n",
       "6        7     Steak  24.99"
      ]
     },
     "execution_count": 147,
     "metadata": {},
     "output_type": "execute_result"
    }
   ],
   "source": [
    "df[df['Price']>20]"
   ]
  },
  {
   "cell_type": "code",
   "execution_count": 152,
   "id": "d3218610",
   "metadata": {},
   "outputs": [
    {
     "data": {
      "text/html": [
       "<div>\n",
       "<style scoped>\n",
       "    .dataframe tbody tr th:only-of-type {\n",
       "        vertical-align: middle;\n",
       "    }\n",
       "\n",
       "    .dataframe tbody tr th {\n",
       "        vertical-align: top;\n",
       "    }\n",
       "\n",
       "    .dataframe thead th {\n",
       "        text-align: right;\n",
       "    }\n",
       "</style>\n",
       "<table border=\"1\" class=\"dataframe\">\n",
       "  <thead>\n",
       "    <tr style=\"text-align: right;\">\n",
       "      <th></th>\n",
       "      <th>Food ID</th>\n",
       "      <th>Food Item</th>\n",
       "      <th>Price</th>\n",
       "    </tr>\n",
       "  </thead>\n",
       "  <tbody>\n",
       "    <tr>\n",
       "      <th>0</th>\n",
       "      <td>1</td>\n",
       "      <td>Sushi</td>\n",
       "      <td>3.99</td>\n",
       "    </tr>\n",
       "    <tr>\n",
       "      <th>1</th>\n",
       "      <td>2</td>\n",
       "      <td>Burrito</td>\n",
       "      <td>9.99</td>\n",
       "    </tr>\n",
       "    <tr>\n",
       "      <th>2</th>\n",
       "      <td>3</td>\n",
       "      <td>Taco</td>\n",
       "      <td>2.99</td>\n",
       "    </tr>\n",
       "    <tr>\n",
       "      <th>3</th>\n",
       "      <td>4</td>\n",
       "      <td>Quesadilla</td>\n",
       "      <td>4.25</td>\n",
       "    </tr>\n",
       "    <tr>\n",
       "      <th>4</th>\n",
       "      <td>5</td>\n",
       "      <td>Pizza</td>\n",
       "      <td>2.49</td>\n",
       "    </tr>\n",
       "    <tr>\n",
       "      <th>8</th>\n",
       "      <td>9</td>\n",
       "      <td>Donut</td>\n",
       "      <td>0.99</td>\n",
       "    </tr>\n",
       "    <tr>\n",
       "      <th>9</th>\n",
       "      <td>10</td>\n",
       "      <td>Drink</td>\n",
       "      <td>1.75</td>\n",
       "    </tr>\n",
       "  </tbody>\n",
       "</table>\n",
       "</div>"
      ],
      "text/plain": [
       "   Food ID   Food Item  Price\n",
       "0        1       Sushi   3.99\n",
       "1        2     Burrito   9.99\n",
       "2        3        Taco   2.99\n",
       "3        4  Quesadilla   4.25\n",
       "4        5       Pizza   2.49\n",
       "8        9       Donut   0.99\n",
       "9       10       Drink   1.75"
      ]
     },
     "execution_count": 152,
     "metadata": {},
     "output_type": "execute_result"
    }
   ],
   "source": [
    "df[df['Price']<10]"
   ]
  },
  {
   "cell_type": "code",
   "execution_count": 156,
   "id": "82898380",
   "metadata": {},
   "outputs": [
    {
     "data": {
      "text/html": [
       "<div>\n",
       "<style scoped>\n",
       "    .dataframe tbody tr th:only-of-type {\n",
       "        vertical-align: middle;\n",
       "    }\n",
       "\n",
       "    .dataframe tbody tr th {\n",
       "        vertical-align: top;\n",
       "    }\n",
       "\n",
       "    .dataframe thead th {\n",
       "        text-align: right;\n",
       "    }\n",
       "</style>\n",
       "<table border=\"1\" class=\"dataframe\">\n",
       "  <thead>\n",
       "    <tr style=\"text-align: right;\">\n",
       "      <th></th>\n",
       "      <th>Food ID</th>\n",
       "      <th>Food Item</th>\n",
       "      <th>Price</th>\n",
       "    </tr>\n",
       "  </thead>\n",
       "  <tbody>\n",
       "    <tr>\n",
       "      <th>7</th>\n",
       "      <td>8</td>\n",
       "      <td>Salad</td>\n",
       "      <td>11.25</td>\n",
       "    </tr>\n",
       "  </tbody>\n",
       "</table>\n",
       "</div>"
      ],
      "text/plain": [
       "   Food ID Food Item  Price\n",
       "7        8     Salad  11.25"
      ]
     },
     "execution_count": 156,
     "metadata": {},
     "output_type": "execute_result"
    }
   ],
   "source": [
    "df[df['Food Item'] == 'Salad']"
   ]
  },
  {
   "cell_type": "code",
   "execution_count": null,
   "id": "6d26637a",
   "metadata": {},
   "outputs": [],
   "source": []
  }
 ],
 "metadata": {
  "kernelspec": {
   "display_name": "Python 3 (ipykernel)",
   "language": "python",
   "name": "python3"
  },
  "language_info": {
   "codemirror_mode": {
    "name": "ipython",
    "version": 3
   },
   "file_extension": ".py",
   "mimetype": "text/x-python",
   "name": "python",
   "nbconvert_exporter": "python",
   "pygments_lexer": "ipython3",
   "version": "3.11.3"
  }
 },
 "nbformat": 4,
 "nbformat_minor": 5
}
