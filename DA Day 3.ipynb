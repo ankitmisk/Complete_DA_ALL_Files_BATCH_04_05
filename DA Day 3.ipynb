{
 "cells": [
  {
   "cell_type": "code",
   "execution_count": 1,
   "id": "27950f52",
   "metadata": {},
   "outputs": [],
   "source": [
    "# Np.min\n",
    "# Np.argmin\n",
    "# Np.max\n",
    "# Np.argmax\n",
    "# Np.sqrt\n",
    "# Np.sin\n",
    "# Np.cos\n",
    "# Np.cumsum\n",
    "# Cumulative sum\n",
    "# Previous elements + next elements\n",
    "# For loop\n",
    "# While loop\n",
    "# Np.nditer\n",
    "# Np.ndenumerate"
   ]
  },
  {
   "cell_type": "code",
   "execution_count": 2,
   "id": "a5961fc3",
   "metadata": {},
   "outputs": [],
   "source": [
    "import numpy as np"
   ]
  },
  {
   "cell_type": "code",
   "execution_count": 4,
   "id": "bd9e3c6d",
   "metadata": {},
   "outputs": [
    {
     "data": {
      "text/plain": [
       "array([16, 88, 92, 43, 18, 29, 36,  3, 59, 30])"
      ]
     },
     "execution_count": 4,
     "metadata": {},
     "output_type": "execute_result"
    }
   ],
   "source": [
    "a = np.random.randint(1,100,10)\n",
    "a"
   ]
  },
  {
   "cell_type": "code",
   "execution_count": 5,
   "id": "e910abb9",
   "metadata": {},
   "outputs": [
    {
     "data": {
      "text/plain": [
       "92"
      ]
     },
     "execution_count": 5,
     "metadata": {},
     "output_type": "execute_result"
    }
   ],
   "source": [
    "np.max(a)"
   ]
  },
  {
   "cell_type": "code",
   "execution_count": 6,
   "id": "1ec1fdda",
   "metadata": {},
   "outputs": [
    {
     "data": {
      "text/plain": [
       "92"
      ]
     },
     "execution_count": 6,
     "metadata": {},
     "output_type": "execute_result"
    }
   ],
   "source": [
    "max(a)"
   ]
  },
  {
   "cell_type": "code",
   "execution_count": 7,
   "id": "70660a4f",
   "metadata": {},
   "outputs": [
    {
     "data": {
      "text/plain": [
       "3"
      ]
     },
     "execution_count": 7,
     "metadata": {},
     "output_type": "execute_result"
    }
   ],
   "source": [
    "min(a)"
   ]
  },
  {
   "cell_type": "code",
   "execution_count": 8,
   "id": "3e89cfda",
   "metadata": {},
   "outputs": [
    {
     "data": {
      "text/plain": [
       "3"
      ]
     },
     "execution_count": 8,
     "metadata": {},
     "output_type": "execute_result"
    }
   ],
   "source": [
    "np.min(a)"
   ]
  },
  {
   "cell_type": "code",
   "execution_count": 9,
   "id": "760f3905",
   "metadata": {},
   "outputs": [
    {
     "data": {
      "text/plain": [
       "92"
      ]
     },
     "execution_count": 9,
     "metadata": {},
     "output_type": "execute_result"
    }
   ],
   "source": [
    "np.max(a)"
   ]
  },
  {
   "cell_type": "code",
   "execution_count": 10,
   "id": "cf1ed759",
   "metadata": {},
   "outputs": [
    {
     "data": {
      "text/plain": [
       "2"
      ]
     },
     "execution_count": 10,
     "metadata": {},
     "output_type": "execute_result"
    }
   ],
   "source": [
    "np.argmax(a)"
   ]
  },
  {
   "cell_type": "code",
   "execution_count": 11,
   "id": "060e675e",
   "metadata": {},
   "outputs": [
    {
     "data": {
      "text/plain": [
       "3"
      ]
     },
     "execution_count": 11,
     "metadata": {},
     "output_type": "execute_result"
    }
   ],
   "source": [
    "np.min(a)"
   ]
  },
  {
   "cell_type": "code",
   "execution_count": 12,
   "id": "cce37708",
   "metadata": {},
   "outputs": [
    {
     "data": {
      "text/plain": [
       "7"
      ]
     },
     "execution_count": 12,
     "metadata": {},
     "output_type": "execute_result"
    }
   ],
   "source": [
    "np.argmin(a)"
   ]
  },
  {
   "cell_type": "code",
   "execution_count": 14,
   "id": "c57f0769",
   "metadata": {},
   "outputs": [],
   "source": [
    "# slicing and indexing"
   ]
  },
  {
   "cell_type": "code",
   "execution_count": 15,
   "id": "dee99dae",
   "metadata": {},
   "outputs": [
    {
     "data": {
      "text/plain": [
       "array([16, 88, 92, 43, 18, 29, 36,  3, 59, 30])"
      ]
     },
     "execution_count": 15,
     "metadata": {},
     "output_type": "execute_result"
    }
   ],
   "source": [
    "a"
   ]
  },
  {
   "cell_type": "code",
   "execution_count": 17,
   "id": "366334d9",
   "metadata": {},
   "outputs": [
    {
     "data": {
      "text/plain": [
       "-1581670400"
      ]
     },
     "execution_count": 17,
     "metadata": {},
     "output_type": "execute_result"
    }
   ],
   "source": [
    "np.prod(a)"
   ]
  },
  {
   "cell_type": "code",
   "execution_count": 18,
   "id": "32e28ed1",
   "metadata": {},
   "outputs": [
    {
     "data": {
      "text/plain": [
       "-1581670400"
      ]
     },
     "execution_count": 18,
     "metadata": {},
     "output_type": "execute_result"
    }
   ],
   "source": [
    "np.product(a)"
   ]
  },
  {
   "cell_type": "code",
   "execution_count": 20,
   "id": "83d11d60",
   "metadata": {},
   "outputs": [
    {
     "name": "stdout",
     "output_type": "stream",
     "text": [
      "-1581670400\n"
     ]
    },
    {
     "name": "stderr",
     "output_type": "stream",
     "text": [
      "C:\\Users\\Lenovo\\AppData\\Local\\Temp\\ipykernel_19808\\612670709.py:3: RuntimeWarning: overflow encountered in scalar multiply\n",
      "  total*=i\n"
     ]
    }
   ],
   "source": [
    "total = 1\n",
    "for i in a:\n",
    "    total*=i\n",
    "print(total)"
   ]
  },
  {
   "cell_type": "code",
   "execution_count": 22,
   "id": "1278c7bc",
   "metadata": {},
   "outputs": [
    {
     "data": {
      "text/plain": [
       "array([29, 78, 67, 14])"
      ]
     },
     "execution_count": 22,
     "metadata": {},
     "output_type": "execute_result"
    }
   ],
   "source": [
    "a = np.random.randint(1,100,4)\n",
    "\n",
    "a"
   ]
  },
  {
   "cell_type": "code",
   "execution_count": 24,
   "id": "3b8f4dc4",
   "metadata": {},
   "outputs": [
    {
     "data": {
      "text/plain": [
       "2121756"
      ]
     },
     "execution_count": 24,
     "metadata": {},
     "output_type": "execute_result"
    }
   ],
   "source": [
    "np.prod(a)"
   ]
  },
  {
   "cell_type": "code",
   "execution_count": 25,
   "id": "bb5407b0",
   "metadata": {},
   "outputs": [
    {
     "data": {
      "text/plain": [
       "2121756"
      ]
     },
     "execution_count": 25,
     "metadata": {},
     "output_type": "execute_result"
    }
   ],
   "source": [
    "np.prod(a)"
   ]
  },
  {
   "cell_type": "code",
   "execution_count": 28,
   "id": "e7324cd2",
   "metadata": {},
   "outputs": [
    {
     "data": {
      "text/plain": [
       "555810136104960"
      ]
     },
     "execution_count": 28,
     "metadata": {},
     "output_type": "execute_result"
    }
   ],
   "source": [
    "eval('16, 88, 92, 43, 18, 29, 36,  3, 59, 30'.replace(',','*'))"
   ]
  },
  {
   "cell_type": "code",
   "execution_count": 32,
   "id": "77214cb1",
   "metadata": {},
   "outputs": [
    {
     "data": {
      "text/plain": [
       "array([[32, 38, 19, 77, 75],\n",
       "       [87, 43, 17, 91, 83],\n",
       "       [37,  7, 13, 25,  7],\n",
       "       [92, 30, 69, 83, 70],\n",
       "       [51, 40, 24, 54, 91]])"
      ]
     },
     "execution_count": 32,
     "metadata": {},
     "output_type": "execute_result"
    }
   ],
   "source": [
    "a = np.random.randint(1,100,(5,5))\n",
    "a"
   ]
  },
  {
   "cell_type": "code",
   "execution_count": 35,
   "id": "631e955b",
   "metadata": {},
   "outputs": [
    {
     "data": {
      "text/plain": [
       "array([19, 17,  7, 30, 24])"
      ]
     },
     "execution_count": 35,
     "metadata": {},
     "output_type": "execute_result"
    }
   ],
   "source": [
    "np.min(a,axis=1)"
   ]
  },
  {
   "cell_type": "code",
   "execution_count": 36,
   "id": "0fda5835",
   "metadata": {},
   "outputs": [
    {
     "data": {
      "text/plain": [
       "array([32,  7, 13, 25,  7])"
      ]
     },
     "execution_count": 36,
     "metadata": {},
     "output_type": "execute_result"
    }
   ],
   "source": [
    "np.min(a,axis=0)"
   ]
  },
  {
   "cell_type": "code",
   "execution_count": null,
   "id": "796c5d24",
   "metadata": {},
   "outputs": [],
   "source": [
    "# 32,7,13,25,7"
   ]
  },
  {
   "cell_type": "code",
   "execution_count": 37,
   "id": "25058332",
   "metadata": {},
   "outputs": [
    {
     "data": {
      "text/plain": [
       "92"
      ]
     },
     "execution_count": 37,
     "metadata": {},
     "output_type": "execute_result"
    }
   ],
   "source": [
    "np.max(a)"
   ]
  },
  {
   "cell_type": "code",
   "execution_count": 38,
   "id": "5e857b45",
   "metadata": {},
   "outputs": [
    {
     "data": {
      "text/plain": [
       "array([[32, 38, 19, 77, 75],\n",
       "       [87, 43, 17, 91, 83],\n",
       "       [37,  7, 13, 25,  7],\n",
       "       [92, 30, 69, 83, 70],\n",
       "       [51, 40, 24, 54, 91]])"
      ]
     },
     "execution_count": 38,
     "metadata": {},
     "output_type": "execute_result"
    }
   ],
   "source": [
    "a"
   ]
  },
  {
   "cell_type": "code",
   "execution_count": 39,
   "id": "50882f2b",
   "metadata": {},
   "outputs": [
    {
     "data": {
      "text/plain": [
       "array([77, 91, 37, 92, 91])"
      ]
     },
     "execution_count": 39,
     "metadata": {},
     "output_type": "execute_result"
    }
   ],
   "source": [
    "np.max(a,axis=1)"
   ]
  },
  {
   "cell_type": "code",
   "execution_count": 40,
   "id": "7bf9c876",
   "metadata": {},
   "outputs": [
    {
     "data": {
      "text/plain": [
       "array([3, 3, 0, 0, 4], dtype=int64)"
      ]
     },
     "execution_count": 40,
     "metadata": {},
     "output_type": "execute_result"
    }
   ],
   "source": [
    "np.argmax(a,axis=1)"
   ]
  },
  {
   "cell_type": "code",
   "execution_count": 41,
   "id": "359ef369",
   "metadata": {},
   "outputs": [
    {
     "data": {
      "text/plain": [
       "array([19, 17,  7, 30, 24])"
      ]
     },
     "execution_count": 41,
     "metadata": {},
     "output_type": "execute_result"
    }
   ],
   "source": [
    "np.min(a,axis=1)"
   ]
  },
  {
   "cell_type": "code",
   "execution_count": 42,
   "id": "8ada9aae",
   "metadata": {},
   "outputs": [
    {
     "data": {
      "text/plain": [
       "array([[32, 38, 19, 77, 75],\n",
       "       [87, 43, 17, 91, 83],\n",
       "       [37,  7, 13, 25,  7],\n",
       "       [92, 30, 69, 83, 70],\n",
       "       [51, 40, 24, 54, 91]])"
      ]
     },
     "execution_count": 42,
     "metadata": {},
     "output_type": "execute_result"
    }
   ],
   "source": [
    "a"
   ]
  },
  {
   "cell_type": "code",
   "execution_count": 44,
   "id": "c0d05a6b",
   "metadata": {},
   "outputs": [
    {
     "data": {
      "text/plain": [
       "array([2, 2, 1, 1, 2], dtype=int64)"
      ]
     },
     "execution_count": 44,
     "metadata": {},
     "output_type": "execute_result"
    }
   ],
   "source": [
    "np.argmin(a,axis=1)"
   ]
  },
  {
   "cell_type": "code",
   "execution_count": 45,
   "id": "8c06f2a9",
   "metadata": {},
   "outputs": [
    {
     "data": {
      "text/plain": [
       "array([[32, 38, 19, 77, 75],\n",
       "       [87, 43, 17, 91, 83],\n",
       "       [37,  7, 13, 25,  7],\n",
       "       [92, 30, 69, 83, 70],\n",
       "       [51, 40, 24, 54, 91]])"
      ]
     },
     "execution_count": 45,
     "metadata": {},
     "output_type": "execute_result"
    }
   ],
   "source": [
    "a"
   ]
  },
  {
   "cell_type": "code",
   "execution_count": 46,
   "id": "e2818b63",
   "metadata": {},
   "outputs": [
    {
     "data": {
      "text/plain": [
       "1255"
      ]
     },
     "execution_count": 46,
     "metadata": {},
     "output_type": "execute_result"
    }
   ],
   "source": [
    "np.sum(a)"
   ]
  },
  {
   "cell_type": "code",
   "execution_count": 47,
   "id": "7cb5d952",
   "metadata": {},
   "outputs": [
    {
     "data": {
      "text/plain": [
       "array([241, 321,  89, 344, 260])"
      ]
     },
     "execution_count": 47,
     "metadata": {},
     "output_type": "execute_result"
    }
   ],
   "source": [
    "np.sum(a,axis=1)"
   ]
  },
  {
   "cell_type": "code",
   "execution_count": 48,
   "id": "beb6b4e3",
   "metadata": {},
   "outputs": [
    {
     "data": {
      "text/plain": [
       "241"
      ]
     },
     "execution_count": 48,
     "metadata": {},
     "output_type": "execute_result"
    }
   ],
   "source": [
    "32+38+19+77+75"
   ]
  },
  {
   "cell_type": "code",
   "execution_count": 49,
   "id": "fb404200",
   "metadata": {},
   "outputs": [
    {
     "data": {
      "text/plain": [
       "array([299, 158, 142, 330, 326])"
      ]
     },
     "execution_count": 49,
     "metadata": {},
     "output_type": "execute_result"
    }
   ],
   "source": [
    "np.sum(a,axis=0)"
   ]
  },
  {
   "cell_type": "code",
   "execution_count": 50,
   "id": "9ebf72ba",
   "metadata": {},
   "outputs": [
    {
     "data": {
      "text/plain": [
       "array([[32, 38, 19, 77, 75],\n",
       "       [87, 43, 17, 91, 83],\n",
       "       [37,  7, 13, 25,  7],\n",
       "       [92, 30, 69, 83, 70],\n",
       "       [51, 40, 24, 54, 91]])"
      ]
     },
     "execution_count": 50,
     "metadata": {},
     "output_type": "execute_result"
    }
   ],
   "source": [
    "a"
   ]
  },
  {
   "cell_type": "code",
   "execution_count": null,
   "id": "7cf9e6aa",
   "metadata": {},
   "outputs": [],
   "source": [
    "4*4 = 16\n",
    "4"
   ]
  },
  {
   "cell_type": "code",
   "execution_count": 51,
   "id": "0f8305b9",
   "metadata": {},
   "outputs": [
    {
     "data": {
      "text/plain": [
       "array([[5.65685425, 6.164414  , 4.35889894, 8.77496439, 8.66025404],\n",
       "       [9.32737905, 6.55743852, 4.12310563, 9.53939201, 9.11043358],\n",
       "       [6.08276253, 2.64575131, 3.60555128, 5.        , 2.64575131],\n",
       "       [9.59166305, 5.47722558, 8.30662386, 9.11043358, 8.36660027],\n",
       "       [7.14142843, 6.32455532, 4.89897949, 7.34846923, 9.53939201]])"
      ]
     },
     "execution_count": 51,
     "metadata": {},
     "output_type": "execute_result"
    }
   ],
   "source": [
    "np.sqrt(a)"
   ]
  },
  {
   "cell_type": "code",
   "execution_count": 52,
   "id": "ca5b192f",
   "metadata": {},
   "outputs": [
    {
     "data": {
      "text/plain": [
       "32.00000000574307"
      ]
     },
     "execution_count": 52,
     "metadata": {},
     "output_type": "execute_result"
    }
   ],
   "source": [
    "5.65685425*5.65685425"
   ]
  },
  {
   "cell_type": "code",
   "execution_count": 54,
   "id": "15c35a96",
   "metadata": {},
   "outputs": [
    {
     "data": {
      "text/plain": [
       "array([[1024, 1444,  361, 5929, 5625],\n",
       "       [7569, 1849,  289, 8281, 6889],\n",
       "       [1369,   49,  169,  625,   49],\n",
       "       [8464,  900, 4761, 6889, 4900],\n",
       "       [2601, 1600,  576, 2916, 8281]])"
      ]
     },
     "execution_count": 54,
     "metadata": {},
     "output_type": "execute_result"
    }
   ],
   "source": [
    "a*a"
   ]
  },
  {
   "cell_type": "code",
   "execution_count": 55,
   "id": "e90fbcc4",
   "metadata": {},
   "outputs": [
    {
     "data": {
      "text/plain": [
       "array([[1024, 1444,  361, 5929, 5625],\n",
       "       [7569, 1849,  289, 8281, 6889],\n",
       "       [1369,   49,  169,  625,   49],\n",
       "       [8464,  900, 4761, 6889, 4900],\n",
       "       [2601, 1600,  576, 2916, 8281]])"
      ]
     },
     "execution_count": 55,
     "metadata": {},
     "output_type": "execute_result"
    }
   ],
   "source": [
    "a**2"
   ]
  },
  {
   "cell_type": "code",
   "execution_count": 57,
   "id": "0f5cae5c",
   "metadata": {},
   "outputs": [
    {
     "data": {
      "text/plain": [
       "array([[32, 38, 19, 77, 75],\n",
       "       [87, 43, 17, 91, 83],\n",
       "       [37,  7, 13, 25,  7],\n",
       "       [92, 30, 69, 83, 70],\n",
       "       [51, 40, 24, 54, 91]])"
      ]
     },
     "execution_count": 57,
     "metadata": {},
     "output_type": "execute_result"
    }
   ],
   "source": [
    "np.sqrt(a**2).astype(int)"
   ]
  },
  {
   "cell_type": "code",
   "execution_count": 58,
   "id": "90a708c5",
   "metadata": {},
   "outputs": [],
   "source": [
    "# Previous elements + next elements\n",
    "# For loop\n",
    "# While loop\n",
    "# Np.nditer\n",
    "# Np.ndenumerate"
   ]
  },
  {
   "cell_type": "code",
   "execution_count": 59,
   "id": "6f639dd0",
   "metadata": {},
   "outputs": [
    {
     "data": {
      "text/plain": [
       "array([ 1,  3,  6, 11, 78])"
      ]
     },
     "execution_count": 59,
     "metadata": {},
     "output_type": "execute_result"
    }
   ],
   "source": [
    "a = np.array([1,2,3,5,67])\n",
    "\n",
    "# 1,2,34,5,6\n",
    "\n",
    "# 1\n",
    "# 3\n",
    "# 37\n",
    "# 42\n",
    "# 48\n",
    "\n",
    "\n",
    "np.cumsum(a)"
   ]
  },
  {
   "cell_type": "code",
   "execution_count": 60,
   "id": "39b4f5cd",
   "metadata": {},
   "outputs": [
    {
     "data": {
      "text/plain": [
       "array([   1,    2,    6,   30, 2010])"
      ]
     },
     "execution_count": 60,
     "metadata": {},
     "output_type": "execute_result"
    }
   ],
   "source": [
    "np.cumprod(a)"
   ]
  },
  {
   "cell_type": "code",
   "execution_count": 62,
   "id": "7493fb0b",
   "metadata": {},
   "outputs": [
    {
     "name": "stdout",
     "output_type": "stream",
     "text": [
      "1\n",
      "3\n",
      "4\n",
      "6\n",
      "8\n"
     ]
    }
   ],
   "source": [
    "a = np.array([1,3,4,6,8])\n",
    "\n",
    "for i in a:\n",
    "    print(i)"
   ]
  },
  {
   "cell_type": "code",
   "execution_count": 63,
   "id": "45ae6b9a",
   "metadata": {},
   "outputs": [
    {
     "data": {
      "text/plain": [
       "array([[ 4,  8, 45, 37, 90],\n",
       "       [42, 40, 81, 77, 21],\n",
       "       [56, 46, 55, 78,  2],\n",
       "       [81,  4, 67,  5, 52],\n",
       "       [18, 86, 25, 98,  6]])"
      ]
     },
     "execution_count": 63,
     "metadata": {},
     "output_type": "execute_result"
    }
   ],
   "source": [
    "a = np.random.randint(1,100,(5,5))\n",
    "a"
   ]
  },
  {
   "cell_type": "code",
   "execution_count": 64,
   "id": "65354db8",
   "metadata": {},
   "outputs": [
    {
     "name": "stdout",
     "output_type": "stream",
     "text": [
      "[ 4  8 45 37 90]\n",
      "[42 40 81 77 21]\n",
      "[56 46 55 78  2]\n",
      "[81  4 67  5 52]\n",
      "[18 86 25 98  6]\n"
     ]
    }
   ],
   "source": [
    "for i in a:\n",
    "    print(i)"
   ]
  },
  {
   "cell_type": "code",
   "execution_count": 65,
   "id": "267c3902",
   "metadata": {},
   "outputs": [
    {
     "name": "stdout",
     "output_type": "stream",
     "text": [
      "4\n",
      "8\n",
      "45\n",
      "37\n",
      "90\n",
      "42\n",
      "40\n",
      "81\n",
      "77\n",
      "21\n",
      "56\n",
      "46\n",
      "55\n",
      "78\n",
      "2\n",
      "81\n",
      "4\n",
      "67\n",
      "5\n",
      "52\n",
      "18\n",
      "86\n",
      "25\n",
      "98\n",
      "6\n"
     ]
    }
   ],
   "source": [
    "for i in a.flatten():\n",
    "    print(i)"
   ]
  },
  {
   "cell_type": "code",
   "execution_count": 66,
   "id": "e498f87f",
   "metadata": {},
   "outputs": [
    {
     "name": "stdout",
     "output_type": "stream",
     "text": [
      "4\n",
      "8\n",
      "45\n",
      "37\n",
      "90\n",
      "42\n",
      "40\n",
      "81\n",
      "77\n",
      "21\n",
      "56\n",
      "46\n",
      "55\n",
      "78\n",
      "2\n",
      "81\n",
      "4\n",
      "67\n",
      "5\n",
      "52\n",
      "18\n",
      "86\n",
      "25\n",
      "98\n",
      "6\n"
     ]
    }
   ],
   "source": [
    "for i in np.nditer(a):\n",
    "    print(i)"
   ]
  },
  {
   "cell_type": "code",
   "execution_count": 67,
   "id": "df197ca9",
   "metadata": {},
   "outputs": [],
   "source": [
    "a = np.random.randint(1,1001,(3,4,5,6,7,8))"
   ]
  },
  {
   "cell_type": "code",
   "execution_count": 69,
   "id": "1ca7948d",
   "metadata": {},
   "outputs": [
    {
     "data": {
      "text/plain": [
       "6"
      ]
     },
     "execution_count": 69,
     "metadata": {},
     "output_type": "execute_result"
    }
   ],
   "source": [
    "a.ndim"
   ]
  },
  {
   "cell_type": "code",
   "execution_count": 75,
   "id": "d1b2c154",
   "metadata": {},
   "outputs": [],
   "source": [
    "# for i in a.flatten():\n",
    "#     print(i)"
   ]
  },
  {
   "cell_type": "code",
   "execution_count": 76,
   "id": "6055a16e",
   "metadata": {},
   "outputs": [],
   "source": [
    "# for i in np.nditer(a):\n",
    "#     print(i)"
   ]
  },
  {
   "cell_type": "code",
   "execution_count": 80,
   "id": "e1b2c47d",
   "metadata": {},
   "outputs": [
    {
     "name": "stdout",
     "output_type": "stream",
     "text": [
      "0 12\n",
      "1 34\n",
      "2 432\n",
      "3 345\n",
      "4 567\n",
      "5 8\n"
     ]
    }
   ],
   "source": [
    "a = np.array([12,34,432,345,567,8])\n",
    "\n",
    "\n",
    "for index,value in enumerate(a):\n",
    "    print(index,value)"
   ]
  },
  {
   "cell_type": "code",
   "execution_count": 83,
   "id": "9fc530a4",
   "metadata": {},
   "outputs": [
    {
     "name": "stdout",
     "output_type": "stream",
     "text": [
      "(0,) 12\n",
      "(1,) 34\n",
      "(2,) 432\n",
      "(3,) 345\n",
      "(4,) 567\n",
      "(5,) 8\n"
     ]
    }
   ],
   "source": [
    "a = np.array([12,34,432,345,567,8])\n",
    "\n",
    "for index,value in np.ndenumerate(a):\n",
    "    print(index,value)"
   ]
  },
  {
   "cell_type": "code",
   "execution_count": 85,
   "id": "27cf3c1a",
   "metadata": {},
   "outputs": [
    {
     "data": {
      "text/plain": [
       "array([[[62,  6, 33],\n",
       "        [86,  2, 83],\n",
       "        [ 7, 14, 68]],\n",
       "\n",
       "       [[46, 18, 69],\n",
       "        [70, 88, 96],\n",
       "        [52, 17, 59]],\n",
       "\n",
       "       [[87, 23, 15],\n",
       "        [86, 36, 71],\n",
       "        [84, 39, 87]]])"
      ]
     },
     "execution_count": 85,
     "metadata": {},
     "output_type": "execute_result"
    }
   ],
   "source": [
    "a = np.random.randint(1,100,(3,3,3))\n",
    "\n",
    "a"
   ]
  },
  {
   "cell_type": "code",
   "execution_count": 87,
   "id": "0c0099f6",
   "metadata": {},
   "outputs": [
    {
     "name": "stdout",
     "output_type": "stream",
     "text": [
      "(0, 0, 0) 62\n",
      "(0, 0, 1) 6\n",
      "(0, 0, 2) 33\n",
      "(0, 1, 0) 86\n",
      "(0, 1, 1) 2\n",
      "(0, 1, 2) 83\n",
      "(0, 2, 0) 7\n",
      "(0, 2, 1) 14\n",
      "(0, 2, 2) 68\n",
      "(1, 0, 0) 46\n",
      "(1, 0, 1) 18\n",
      "(1, 0, 2) 69\n",
      "(1, 1, 0) 70\n",
      "(1, 1, 1) 88\n",
      "(1, 1, 2) 96\n",
      "(1, 2, 0) 52\n",
      "(1, 2, 1) 17\n",
      "(1, 2, 2) 59\n",
      "(2, 0, 0) 87\n",
      "(2, 0, 1) 23\n",
      "(2, 0, 2) 15\n",
      "(2, 1, 0) 86\n",
      "(2, 1, 1) 36\n",
      "(2, 1, 2) 71\n",
      "(2, 2, 0) 84\n",
      "(2, 2, 1) 39\n",
      "(2, 2, 2) 87\n"
     ]
    }
   ],
   "source": [
    "for index,value in np.ndenumerate(a):\n",
    "    print(index,value)"
   ]
  },
  {
   "cell_type": "code",
   "execution_count": 88,
   "id": "782ec129",
   "metadata": {},
   "outputs": [
    {
     "data": {
      "text/plain": [
       "71"
      ]
     },
     "execution_count": 88,
     "metadata": {},
     "output_type": "execute_result"
    }
   ],
   "source": [
    "a[2][1][2]"
   ]
  },
  {
   "cell_type": "code",
   "execution_count": 90,
   "id": "aef0ed98",
   "metadata": {},
   "outputs": [],
   "source": [
    "a[2][1][2] = 98654"
   ]
  },
  {
   "cell_type": "code",
   "execution_count": 91,
   "id": "744ba627",
   "metadata": {},
   "outputs": [
    {
     "data": {
      "text/plain": [
       "array([[[   62,     6,    33],\n",
       "        [   86,     2,    83],\n",
       "        [    7,    14,    68]],\n",
       "\n",
       "       [[   46,    18,    69],\n",
       "        [   70,    88,    96],\n",
       "        [   52,    17,    59]],\n",
       "\n",
       "       [[   87,    23,    15],\n",
       "        [   86,    36, 98654],\n",
       "        [   84,    39,    87]]])"
      ]
     },
     "execution_count": 91,
     "metadata": {},
     "output_type": "execute_result"
    }
   ],
   "source": [
    "a"
   ]
  },
  {
   "cell_type": "code",
   "execution_count": 93,
   "id": "fd991939",
   "metadata": {},
   "outputs": [],
   "source": [
    "a[1][2][0] = 420"
   ]
  },
  {
   "cell_type": "code",
   "execution_count": 94,
   "id": "3fc31b87",
   "metadata": {},
   "outputs": [
    {
     "data": {
      "text/plain": [
       "array([[[   62,     6,    33],\n",
       "        [   86,     2,    83],\n",
       "        [    7,    14,    68]],\n",
       "\n",
       "       [[   46,    18,    69],\n",
       "        [   70,    88,    96],\n",
       "        [  420,    17,    59]],\n",
       "\n",
       "       [[   87,    23,    15],\n",
       "        [   86,    36, 98654],\n",
       "        [   84,    39,    87]]])"
      ]
     },
     "execution_count": 94,
     "metadata": {},
     "output_type": "execute_result"
    }
   ],
   "source": [
    "a"
   ]
  },
  {
   "cell_type": "code",
   "execution_count": 98,
   "id": "cfdf55a6",
   "metadata": {},
   "outputs": [],
   "source": [
    "a[-1][-1][0] = 98654"
   ]
  },
  {
   "cell_type": "code",
   "execution_count": 99,
   "id": "d38c69c0",
   "metadata": {},
   "outputs": [
    {
     "data": {
      "text/plain": [
       "array([[[   62,     6,    33],\n",
       "        [   86,     2,    83],\n",
       "        [    7,    14,    68]],\n",
       "\n",
       "       [[   46,    18,    69],\n",
       "        [   70,    88,    96],\n",
       "        [  420,    17,    59]],\n",
       "\n",
       "       [[   87,    23,    15],\n",
       "        [   86,    36, 98654],\n",
       "        [98654,    39,    87]]])"
      ]
     },
     "execution_count": 99,
     "metadata": {},
     "output_type": "execute_result"
    }
   ],
   "source": [
    "a"
   ]
  },
  {
   "cell_type": "code",
   "execution_count": 100,
   "id": "acb4d473",
   "metadata": {},
   "outputs": [
    {
     "data": {
      "text/plain": [
       "array([[85, 85, 31],\n",
       "       [45, 32, 66],\n",
       "       [19, 89, 85]])"
      ]
     },
     "execution_count": 100,
     "metadata": {},
     "output_type": "execute_result"
    }
   ],
   "source": [
    "a = np.random.randint(1,100,(3,3))\n",
    "a"
   ]
  },
  {
   "cell_type": "code",
   "execution_count": 104,
   "id": "c0585b34",
   "metadata": {},
   "outputs": [],
   "source": [
    "a[1][-1] = 764"
   ]
  },
  {
   "cell_type": "code",
   "execution_count": 105,
   "id": "85a171d4",
   "metadata": {},
   "outputs": [
    {
     "data": {
      "text/plain": [
       "array([[ 85,  85,  31],\n",
       "       [ 45,  32, 764],\n",
       "       [ 19,  89,  85]])"
      ]
     },
     "execution_count": 105,
     "metadata": {},
     "output_type": "execute_result"
    }
   ],
   "source": [
    "a"
   ]
  },
  {
   "cell_type": "code",
   "execution_count": 107,
   "id": "e2a34b06",
   "metadata": {},
   "outputs": [
    {
     "data": {
      "text/plain": [
       "array([[[[ 69,  93,  26,  19],\n",
       "         [ 97,  39,  69,  83],\n",
       "         [ 31,  97,  20,  84],\n",
       "         [ 14,  74,   9,  90]],\n",
       "\n",
       "        [[ 78,  87,  99,  36],\n",
       "         [ 70,  24,  80,  49],\n",
       "         [ 86,  89,  86,  87],\n",
       "         [ 31,  53,  94,  13]],\n",
       "\n",
       "        [[ 45,  71,   5,  39],\n",
       "         [ 87,  97,  32,  38],\n",
       "         [ 41,   5,  26,  25],\n",
       "         [ 38,  22,  28,   8]],\n",
       "\n",
       "        [[ 88,  24,  21,  72],\n",
       "         [ 54,  64,  36,  66],\n",
       "         [  8,  62,  10,  15],\n",
       "         [ 73,  49,  34,  13]]],\n",
       "\n",
       "\n",
       "       [[[ 96,  82,   1,  29],\n",
       "         [ 51,  23,  42,  81],\n",
       "         [  2,  22,  67,  20],\n",
       "         [ 33,  22,  93,  29]],\n",
       "\n",
       "        [[ 25,  66,  49,  69],\n",
       "         [ 42,  69,  25,  80],\n",
       "         [ 73,  30,  43,  84],\n",
       "         [ 30,  73,  55,  29]],\n",
       "\n",
       "        [[ 68,  18,  75,  52],\n",
       "         [ 61,  16,  32,  17],\n",
       "         [ 65,  78,  16,  49],\n",
       "         [ 35,  57,  15,  87]],\n",
       "\n",
       "        [[ 41,  35,  50,  47],\n",
       "         [ 77,  39, 100,  49],\n",
       "         [ 54,  67,  30,  59],\n",
       "         [ 11,  40,  54,   5]]],\n",
       "\n",
       "\n",
       "       [[[ 95,  65,  53,  63],\n",
       "         [100,  53,   8,  95],\n",
       "         [ 97,  49,  55,  43],\n",
       "         [  5,  62,   4,  40]],\n",
       "\n",
       "        [[  5,   5,  37,   7],\n",
       "         [  2,  44,  86,  28],\n",
       "         [ 42,  42,  46, 100],\n",
       "         [  7,  77,  28,  55]],\n",
       "\n",
       "        [[ 36,  22,  16,  70],\n",
       "         [ 85,  86,  95,  85],\n",
       "         [ 24,  33,  12,  67],\n",
       "         [  8,  83,  96,  62]],\n",
       "\n",
       "        [[ 80,  33,  26,  28],\n",
       "         [ 75,  21,  97,  43],\n",
       "         [ 77,  27,  85,  67],\n",
       "         [ 32,  24,  36,  49]]],\n",
       "\n",
       "\n",
       "       [[[ 31,  25,  44,  67],\n",
       "         [ 15, 100,  45,  46],\n",
       "         [ 36,  56,  62,  34],\n",
       "         [ 28,  79,  69,  19]],\n",
       "\n",
       "        [[ 84,  23,  54,  84],\n",
       "         [ 47,  66,  19,  33],\n",
       "         [ 13,  36,  87,  68],\n",
       "         [ 86,  78,  34,  39]],\n",
       "\n",
       "        [[ 40,  66,  99,  49],\n",
       "         [ 89,  92,  67,  28],\n",
       "         [ 52,  57,  14,  86],\n",
       "         [ 26,  64,  25,  13]],\n",
       "\n",
       "        [[ 85,   9,  26,  91],\n",
       "         [ 91,  76,  76,  34],\n",
       "         [ 17,  84,  58,  36],\n",
       "         [ 81,  79,  14,  36]]]])"
      ]
     },
     "execution_count": 107,
     "metadata": {},
     "output_type": "execute_result"
    }
   ],
   "source": [
    "a = np.random.randint(1,101,(4,4,4,4))\n",
    "a"
   ]
  },
  {
   "cell_type": "code",
   "execution_count": 111,
   "id": "26fb3405",
   "metadata": {},
   "outputs": [],
   "source": [
    "a[1][1][2][2] = 567654"
   ]
  },
  {
   "cell_type": "code",
   "execution_count": 112,
   "id": "f4d4f2b9",
   "metadata": {},
   "outputs": [
    {
     "data": {
      "text/plain": [
       "array([[[[    69,     93,     26,     19],\n",
       "         [    97,     39,     69,     83],\n",
       "         [    31,     97,     20,     84],\n",
       "         [    14,     74,      9,     90]],\n",
       "\n",
       "        [[    78,     87,     99,     36],\n",
       "         [    70,     24,     80,     49],\n",
       "         [    86,     89,     86,     87],\n",
       "         [    31,     53,     94,     13]],\n",
       "\n",
       "        [[    45,     71,      5,     39],\n",
       "         [    87,     97,     32,     38],\n",
       "         [    41,      5,     26,     25],\n",
       "         [    38,     22,     28,      8]],\n",
       "\n",
       "        [[    88,     24,     21,     72],\n",
       "         [    54,     64,     36,     66],\n",
       "         [     8,     62,     10,     15],\n",
       "         [    73,     49,     34,     13]]],\n",
       "\n",
       "\n",
       "       [[[    96,     82,      1,     29],\n",
       "         [    51,     23,     42,     81],\n",
       "         [     2,     22,     67,     20],\n",
       "         [    33,     22,     93,     29]],\n",
       "\n",
       "        [[    25,     66,     49,     69],\n",
       "         [    42,     69,     25,     80],\n",
       "         [    73,     30, 567654,     84],\n",
       "         [    30,     73,     55,     29]],\n",
       "\n",
       "        [[    68,     18,     75,     52],\n",
       "         [    61,     16,     32,     17],\n",
       "         [    65,     78,     16,     49],\n",
       "         [    35,     57,     15,     87]],\n",
       "\n",
       "        [[    41,     35,     50,     47],\n",
       "         [    77,     39,    100,     49],\n",
       "         [    54,     67,     30,     59],\n",
       "         [    11,     40,     54,      5]]],\n",
       "\n",
       "\n",
       "       [[[    95,     65,     53,     63],\n",
       "         [   100,     53,      8,     95],\n",
       "         [    97,     49,     55,     43],\n",
       "         [     5,     62,      4,     40]],\n",
       "\n",
       "        [[     5,      5,     37,      7],\n",
       "         [     2,     44,     86,     28],\n",
       "         [    42,     42,     46,    100],\n",
       "         [     7,     77,     28,     55]],\n",
       "\n",
       "        [[    36,     22,     16,     70],\n",
       "         [    85,     86,     95,     85],\n",
       "         [    24,     33,     12,     67],\n",
       "         [     8,     83,     96,     62]],\n",
       "\n",
       "        [[    80,     33,     26,     28],\n",
       "         [    75,     21,     97,     43],\n",
       "         [    77,     27,     85,     67],\n",
       "         [    32,     24,     36,     49]]],\n",
       "\n",
       "\n",
       "       [[[    31,     25,     44,     67],\n",
       "         [    15,    100,     45,     46],\n",
       "         [    36,     56,     62,     34],\n",
       "         [    28,     79,     69,     19]],\n",
       "\n",
       "        [[    84,     23,     54,     84],\n",
       "         [    47,     66,     19,     33],\n",
       "         [    13,     36,     87,     68],\n",
       "         [    86,     78,     34,     39]],\n",
       "\n",
       "        [[    40,     66,     99,     49],\n",
       "         [    89,     92,     67,     28],\n",
       "         [    52,     57,     14,     86],\n",
       "         [    26,     64,     25,     13]],\n",
       "\n",
       "        [[    85,      9,     26,     91],\n",
       "         [    91,     76,     76,     34],\n",
       "         [    17,     84,     58,     36],\n",
       "         [    81,     79,     14,     36]]]])"
      ]
     },
     "execution_count": 112,
     "metadata": {},
     "output_type": "execute_result"
    }
   ],
   "source": [
    "a"
   ]
  },
  {
   "cell_type": "code",
   "execution_count": 113,
   "id": "d695c57d",
   "metadata": {},
   "outputs": [
    {
     "data": {
      "text/plain": [
       "array([[55, 38, 94],\n",
       "       [12, 38,  3],\n",
       "       [84, 95, 68]])"
      ]
     },
     "execution_count": 113,
     "metadata": {},
     "output_type": "execute_result"
    }
   ],
   "source": [
    "# indexing v2.0\n",
    "\n",
    "\n",
    "a = np.random.randint(1,100,(3,3))\n",
    "a"
   ]
  },
  {
   "cell_type": "code",
   "execution_count": 114,
   "id": "b0b22637",
   "metadata": {},
   "outputs": [
    {
     "data": {
      "text/plain": [
       "12"
      ]
     },
     "execution_count": 114,
     "metadata": {},
     "output_type": "execute_result"
    }
   ],
   "source": [
    "a[1][0]"
   ]
  },
  {
   "cell_type": "code",
   "execution_count": 116,
   "id": "4199f821",
   "metadata": {},
   "outputs": [],
   "source": [
    "a[1,0] = 123456"
   ]
  },
  {
   "cell_type": "code",
   "execution_count": 117,
   "id": "3704f418",
   "metadata": {},
   "outputs": [
    {
     "data": {
      "text/plain": [
       "array([[    55,     38,     94],\n",
       "       [123456,     38,      3],\n",
       "       [    84,     95,     68]])"
      ]
     },
     "execution_count": 117,
     "metadata": {},
     "output_type": "execute_result"
    }
   ],
   "source": [
    "a"
   ]
  },
  {
   "cell_type": "code",
   "execution_count": 118,
   "id": "443e2f68",
   "metadata": {},
   "outputs": [
    {
     "data": {
      "text/plain": [
       "68"
      ]
     },
     "execution_count": 118,
     "metadata": {},
     "output_type": "execute_result"
    }
   ],
   "source": [
    "a[2,2]"
   ]
  },
  {
   "cell_type": "code",
   "execution_count": 119,
   "id": "1ae391fd",
   "metadata": {},
   "outputs": [
    {
     "data": {
      "text/plain": [
       "68"
      ]
     },
     "execution_count": 119,
     "metadata": {},
     "output_type": "execute_result"
    }
   ],
   "source": [
    "a[-1,-1]"
   ]
  },
  {
   "cell_type": "code",
   "execution_count": 120,
   "id": "d0d8be59",
   "metadata": {},
   "outputs": [
    {
     "data": {
      "text/plain": [
       "array([[[885, 382,   3],\n",
       "        [425, 612, 902],\n",
       "        [980, 714, 304]],\n",
       "\n",
       "       [[676, 857, 989],\n",
       "        [ 25, 354, 205],\n",
       "        [391, 444, 137]],\n",
       "\n",
       "       [[947, 847, 870],\n",
       "        [660, 772, 460],\n",
       "        [772, 576,  94]]])"
      ]
     },
     "execution_count": 120,
     "metadata": {},
     "output_type": "execute_result"
    }
   ],
   "source": [
    "a = np.random.randint(1,1001,(3,3,3))\n",
    "a"
   ]
  },
  {
   "cell_type": "code",
   "execution_count": 121,
   "id": "ce9eecea",
   "metadata": {},
   "outputs": [
    {
     "data": {
      "text/plain": [
       "array([[676, 857, 989],\n",
       "       [ 25, 354, 205],\n",
       "       [391, 444, 137]])"
      ]
     },
     "execution_count": 121,
     "metadata": {},
     "output_type": "execute_result"
    }
   ],
   "source": [
    "a[1,,]"
   ]
  },
  {
   "cell_type": "code",
   "execution_count": 122,
   "id": "3d28a4b4",
   "metadata": {},
   "outputs": [],
   "source": [
    "# 2d= [row,col]\n",
    "# 3d = [arr,row,col]\n",
    "# 4d = [arr,arr,row,col]\n",
    "# 5d = [arr,arr,arr,row,col] "
   ]
  },
  {
   "cell_type": "code",
   "execution_count": 124,
   "id": "b7fa18cb",
   "metadata": {},
   "outputs": [
    {
     "data": {
      "text/plain": [
       "array([[[885, 382,   3],\n",
       "        [425, 612, 902],\n",
       "        [980, 714, 304]],\n",
       "\n",
       "       [[676, 857, 989],\n",
       "        [ 25, 354, 205],\n",
       "        [391, 444, 137]],\n",
       "\n",
       "       [[947, 847, 870],\n",
       "        [660, 772, 460],\n",
       "        [772, 576,  94]]])"
      ]
     },
     "execution_count": 124,
     "metadata": {},
     "output_type": "execute_result"
    }
   ],
   "source": [
    "a"
   ]
  },
  {
   "cell_type": "code",
   "execution_count": 127,
   "id": "59f4dfa4",
   "metadata": {},
   "outputs": [],
   "source": [
    "a[1,1,1] = 876543"
   ]
  },
  {
   "cell_type": "code",
   "execution_count": 128,
   "id": "bba2eea1",
   "metadata": {},
   "outputs": [
    {
     "data": {
      "text/plain": [
       "array([[[   885,    382,      3],\n",
       "        [   425,    612,    902],\n",
       "        [   980,    714,    304]],\n",
       "\n",
       "       [[   676,    857,    989],\n",
       "        [    25, 876543,    205],\n",
       "        [   391,    444,    137]],\n",
       "\n",
       "       [[   947,    847,    870],\n",
       "        [   660,    772,    460],\n",
       "        [   772,    576,     94]]])"
      ]
     },
     "execution_count": 128,
     "metadata": {},
     "output_type": "execute_result"
    }
   ],
   "source": [
    "a"
   ]
  },
  {
   "cell_type": "code",
   "execution_count": 129,
   "id": "5300f718",
   "metadata": {},
   "outputs": [
    {
     "data": {
      "text/plain": [
       "660"
      ]
     },
     "execution_count": 129,
     "metadata": {},
     "output_type": "execute_result"
    }
   ],
   "source": [
    "a[2,1,0]"
   ]
  },
  {
   "cell_type": "code",
   "execution_count": 130,
   "id": "c9db1ebc",
   "metadata": {},
   "outputs": [
    {
     "data": {
      "text/plain": [
       "989"
      ]
     },
     "execution_count": 130,
     "metadata": {},
     "output_type": "execute_result"
    }
   ],
   "source": [
    "a[1,0,2]"
   ]
  },
  {
   "cell_type": "code",
   "execution_count": 131,
   "id": "a38ca32b",
   "metadata": {},
   "outputs": [
    {
     "data": {
      "text/plain": [
       "576"
      ]
     },
     "execution_count": 131,
     "metadata": {},
     "output_type": "execute_result"
    }
   ],
   "source": [
    "a[2,2,1]"
   ]
  },
  {
   "cell_type": "code",
   "execution_count": 132,
   "id": "376edc60",
   "metadata": {},
   "outputs": [
    {
     "data": {
      "text/plain": [
       "947"
      ]
     },
     "execution_count": 132,
     "metadata": {},
     "output_type": "execute_result"
    }
   ],
   "source": [
    "a[2,0,0]"
   ]
  },
  {
   "cell_type": "code",
   "execution_count": 133,
   "id": "fa5d52fa",
   "metadata": {},
   "outputs": [
    {
     "data": {
      "text/plain": [
       "902"
      ]
     },
     "execution_count": 133,
     "metadata": {},
     "output_type": "execute_result"
    }
   ],
   "source": [
    "a[0,1,2]"
   ]
  },
  {
   "cell_type": "code",
   "execution_count": 134,
   "id": "28fe3b89",
   "metadata": {},
   "outputs": [],
   "source": [
    "# slicing"
   ]
  },
  {
   "cell_type": "code",
   "execution_count": 135,
   "id": "77415db4",
   "metadata": {},
   "outputs": [
    {
     "data": {
      "text/plain": [
       "array([35, 15,  2, 11, 18, 63, 85, 45, 63,  1])"
      ]
     },
     "execution_count": 135,
     "metadata": {},
     "output_type": "execute_result"
    }
   ],
   "source": [
    "a = np.random.randint(1,100,10)\n",
    "a"
   ]
  },
  {
   "cell_type": "code",
   "execution_count": 136,
   "id": "243ca6e6",
   "metadata": {},
   "outputs": [
    {
     "data": {
      "text/plain": [
       "array([ 2, 11, 18, 63, 85])"
      ]
     },
     "execution_count": 136,
     "metadata": {},
     "output_type": "execute_result"
    }
   ],
   "source": [
    "a[2:7]"
   ]
  },
  {
   "cell_type": "code",
   "execution_count": 137,
   "id": "420fbdcf",
   "metadata": {
    "scrolled": true
   },
   "outputs": [
    {
     "data": {
      "text/plain": [
       "array([[68, 60, 55],\n",
       "       [51, 72, 21],\n",
       "       [70, 84, 71]])"
      ]
     },
     "execution_count": 137,
     "metadata": {},
     "output_type": "execute_result"
    }
   ],
   "source": [
    "# 2d\n",
    "\n",
    "a = np.random.randint(1,100,(3,3))\n",
    "a"
   ]
  },
  {
   "cell_type": "code",
   "execution_count": null,
   "id": "f44760da",
   "metadata": {},
   "outputs": [],
   "source": []
  },
  {
   "cell_type": "code",
   "execution_count": 138,
   "id": "1dd8e185",
   "metadata": {},
   "outputs": [],
   "source": [
    "# a[r_slicing,c_slicing]"
   ]
  },
  {
   "cell_type": "code",
   "execution_count": 139,
   "id": "521043eb",
   "metadata": {},
   "outputs": [
    {
     "data": {
      "text/plain": [
       "array([[51, 72],\n",
       "       [70, 84]])"
      ]
     },
     "execution_count": 139,
     "metadata": {},
     "output_type": "execute_result"
    }
   ],
   "source": [
    "# 51 72\n",
    "# 70 84\n",
    "\n",
    "a[1:,0:2]"
   ]
  },
  {
   "cell_type": "code",
   "execution_count": 142,
   "id": "e3b287b4",
   "metadata": {},
   "outputs": [
    {
     "data": {
      "text/plain": [
       "array([[51, 72, 21],\n",
       "       [70, 84, 71]])"
      ]
     },
     "execution_count": 142,
     "metadata": {},
     "output_type": "execute_result"
    }
   ],
   "source": [
    "a[1:,:]"
   ]
  },
  {
   "cell_type": "code",
   "execution_count": 143,
   "id": "a473e431",
   "metadata": {},
   "outputs": [
    {
     "data": {
      "text/plain": [
       "array([[68, 60, 55],\n",
       "       [51, 72, 21],\n",
       "       [70, 84, 71]])"
      ]
     },
     "execution_count": 143,
     "metadata": {},
     "output_type": "execute_result"
    }
   ],
   "source": [
    "a"
   ]
  },
  {
   "cell_type": "code",
   "execution_count": 148,
   "id": "ba38f62b",
   "metadata": {},
   "outputs": [
    {
     "data": {
      "text/plain": [
       "array([[60, 55],\n",
       "       [72, 21],\n",
       "       [84, 71]])"
      ]
     },
     "execution_count": 148,
     "metadata": {},
     "output_type": "execute_result"
    }
   ],
   "source": [
    "a[:,1:]"
   ]
  },
  {
   "cell_type": "code",
   "execution_count": 149,
   "id": "50790da5",
   "metadata": {},
   "outputs": [
    {
     "data": {
      "text/plain": [
       "array([[68, 60, 55],\n",
       "       [51, 72, 21],\n",
       "       [70, 84, 71]])"
      ]
     },
     "execution_count": 149,
     "metadata": {},
     "output_type": "execute_result"
    }
   ],
   "source": [
    "a"
   ]
  },
  {
   "cell_type": "code",
   "execution_count": 153,
   "id": "31cd4b77",
   "metadata": {},
   "outputs": [],
   "source": [
    "# a[[1,2],1:]"
   ]
  },
  {
   "cell_type": "code",
   "execution_count": 154,
   "id": "7747eba3",
   "metadata": {},
   "outputs": [
    {
     "data": {
      "text/plain": [
       "array([[68, 60, 55],\n",
       "       [51, 72, 21],\n",
       "       [70, 84, 71]])"
      ]
     },
     "execution_count": 154,
     "metadata": {},
     "output_type": "execute_result"
    }
   ],
   "source": [
    "a"
   ]
  },
  {
   "cell_type": "code",
   "execution_count": null,
   "id": "5262a48e",
   "metadata": {},
   "outputs": [],
   "source": [
    "68,55\n",
    "51,21\n",
    "70,71"
   ]
  },
  {
   "cell_type": "code",
   "execution_count": 156,
   "id": "27093315",
   "metadata": {},
   "outputs": [
    {
     "data": {
      "text/plain": [
       "array([[68, 55],\n",
       "       [51, 21],\n",
       "       [70, 71]])"
      ]
     },
     "execution_count": 156,
     "metadata": {},
     "output_type": "execute_result"
    }
   ],
   "source": [
    "a[:,0::2]"
   ]
  },
  {
   "cell_type": "code",
   "execution_count": 157,
   "id": "77f9c7e5",
   "metadata": {},
   "outputs": [
    {
     "data": {
      "text/plain": [
       "array([[68, 60, 55],\n",
       "       [51, 72, 21],\n",
       "       [70, 84, 71]])"
      ]
     },
     "execution_count": 157,
     "metadata": {},
     "output_type": "execute_result"
    }
   ],
   "source": [
    "a"
   ]
  },
  {
   "cell_type": "code",
   "execution_count": 158,
   "id": "fc6b93b2",
   "metadata": {},
   "outputs": [],
   "source": [
    "# 68,55\n",
    "# 70,71"
   ]
  },
  {
   "cell_type": "code",
   "execution_count": 159,
   "id": "8c087a8f",
   "metadata": {},
   "outputs": [
    {
     "data": {
      "text/plain": [
       "array([[68, 55],\n",
       "       [70, 71]])"
      ]
     },
     "execution_count": 159,
     "metadata": {},
     "output_type": "execute_result"
    }
   ],
   "source": [
    "a[0::2,0::2]"
   ]
  },
  {
   "cell_type": "code",
   "execution_count": 160,
   "id": "03a40cc3",
   "metadata": {},
   "outputs": [
    {
     "name": "stdout",
     "output_type": "stream",
     "text": [
      "Done\n"
     ]
    }
   ],
   "source": [
    "print('Done')"
   ]
  },
  {
   "cell_type": "code",
   "execution_count": null,
   "id": "84fa3408",
   "metadata": {},
   "outputs": [],
   "source": []
  }
 ],
 "metadata": {
  "kernelspec": {
   "display_name": "Python 3 (ipykernel)",
   "language": "python",
   "name": "python3"
  },
  "language_info": {
   "codemirror_mode": {
    "name": "ipython",
    "version": 3
   },
   "file_extension": ".py",
   "mimetype": "text/x-python",
   "name": "python",
   "nbconvert_exporter": "python",
   "pygments_lexer": "ipython3",
   "version": "3.11.3"
  }
 },
 "nbformat": 4,
 "nbformat_minor": 5
}
